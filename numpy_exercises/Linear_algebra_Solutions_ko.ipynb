{
 "cells": [
  {
   "cell_type": "markdown",
   "metadata": {},
   "source": [
    "# 선형대수 Linear algebra\n"
   ]
  },
  {
   "cell_type": "code",
   "execution_count": 1,
   "metadata": {},
   "outputs": [
    {
     "name": "stdout",
     "output_type": "stream",
     "text": [
      "Python 3.6.1\r\n"
     ]
    }
   ],
   "source": [
    "!python3 --version"
   ]
  },
  {
   "cell_type": "code",
   "execution_count": 2,
   "metadata": {},
   "outputs": [
    {
     "data": {
      "text/plain": [
       "'1.13.3'"
      ]
     },
     "execution_count": 2,
     "metadata": {},
     "output_type": "execute_result"
    }
   ],
   "source": [
    "import numpy as np\n",
    "np.__version__"
   ]
  },
  {
   "cell_type": "markdown",
   "metadata": {},
   "source": [
    "## 행렬 벡터 연산 Matrix and vector product\n",
    "## Q1.\n",
    "다음 코드의 결과를 예측한다.<br/>\n",
    "Predict the results of the following code.<br/>\n",
    "(matmul은 matrix multiply로 이해한다.)"
   ]
  },
  {
   "cell_type": "code",
   "execution_count": 3,
   "metadata": {},
   "outputs": [
    {
     "name": "stdout",
     "output_type": "stream",
     "text": [
      "[8 5]\n",
      "[6 6]\n",
      "[8 5]\n",
      "[6 6]\n",
      "[6 6]\n"
     ]
    }
   ],
   "source": [
    "x = [1, 2]\n",
    "y = [[4, 1], [2, 2]]\n",
    "print(np.dot(x, y))\n",
    "print(np.dot(y, x))\n",
    "print(np.matmul(x, y))\n",
    "print(np.inner(x, y))\n",
    "print(np.inner(y,x))"
   ]
  },
  {
   "cell_type": "markdown",
   "metadata": {},
   "source": [
    "## Q2. \n",
    "다음 코드의 결과를 예측한다.<br/>\n",
    "Predict the results of the following code."
   ]
  },
  {
   "cell_type": "code",
   "execution_count": 4,
   "metadata": {},
   "outputs": [
    {
     "name": "stdout",
     "output_type": "stream",
     "text": [
      "[[4 1]\n",
      " [2 2]\n",
      " [1 1]]\n",
      "[[4 1]\n",
      " [2 2]\n",
      " [1 1]]\n"
     ]
    }
   ],
   "source": [
    "x = [[1, 0], [0, 1]]\n",
    "y = [[4, 1], [2, 2], [1, 1]]\n",
    "print(np.dot(y, x))\n",
    "print(np.matmul(y, x))"
   ]
  },
  {
   "cell_type": "markdown",
   "metadata": {},
   "source": [
    "## Q3.\n",
    "다음 코드의 결과를 예측한다.<br/>\n",
    "Predict the results of the following code."
   ]
  },
  {
   "cell_type": "code",
   "execution_count": 5,
   "metadata": {},
   "outputs": [
    {
     "name": "stdout",
     "output_type": "stream",
     "text": [
      "30\n",
      "30\n",
      "30\n",
      "30\n",
      "30\n"
     ]
    }
   ],
   "source": [
    "x = np.array([[1, 4], [5, 6]])\n",
    "y = np.array([[4, 1], [2, 2]])\n",
    "print(np.vdot(x, y))\n",
    "print(np.vdot(y, x))\n",
    "print(np.dot(x.flatten(), y.flatten()))\n",
    "print(np.inner(x.flatten(), y.flatten()))\n",
    "print((x*y).sum())"
   ]
  },
  {
   "cell_type": "markdown",
   "metadata": {},
   "source": [
    "### 벡터 연산\n",
    "벡터는 다음의 연산들을 수행할 수 있음\n",
    "* 덧셈(addition)\n",
    "* 뺄셈(subtraction)\n",
    "* 스칼라곱(Scalar Product)\n",
    "* 성분곱(Elementwise Multiplication)\n",
    "* 내적(Inner Product)\n",
    "\n",
    "\n",
    "## Q4.\n",
    "다음 코드의 결과를 예측한다.<br/>\n",
    "Predict the results of the following code."
   ]
  },
  {
   "cell_type": "code",
   "execution_count": 6,
   "metadata": {},
   "outputs": [
    {
     "name": "stdout",
     "output_type": "stream",
     "text": [
      "abb\n",
      "abb\n",
      "[['a' 'aa']\n",
      " ['b' 'bb']]\n",
      "[['a' 'b']\n",
      " ['aa' 'bb']]\n"
     ]
    }
   ],
   "source": [
    "x = np.array(['a', 'b'], dtype=object)\n",
    "y = np.array([1, 2])\n",
    "print(np.inner(x, y))\n",
    "print(np.inner(y, x))\n",
    "print(np.outer(x, y))\n",
    "print(np.outer(y, x))"
   ]
  },
  {
   "cell_type": "markdown",
   "metadata": {},
   "source": [
    "## Decomposition\n",
    "## Q5.\n",
    "x의 숄레스키 분해에서 하위 삼각형 L을 구해서 검증한다.<br/>\n",
    "Get the lower-trianglular L in the Cholesky decomposition of x and verify it.\n",
    "\n",
    "* 숄레스키 분해란?\n",
    "    * [A][x] = [b] 에서 행렬 A가 대칭행렬일 때의 풀이법을 숄레스키 분해라 함\n",
    "    * 대칭행렬(symmetric matrix)은 행렬의 요소와 모든 i, j에 대해 n차 정사각행렬 A가 있다면, 대각요소를 중심으로 행렬 A와 그 전치행렬이 같을 때 인 행렬을 대칭행렬이라 한다.\n",
    "    * 숄레스키 분해(Cholesky decomposition)는 에르미트 행렬(Hermitian matrix), 양의 정부호행렬(positive-definite matrix)의 분해에서 사용된다. 촐레스키 분해의 결과는 하삼각행렬과 하삼각행렬의 켤레전치 행렬의 곱으로 표현된다.\n",
    "    * 선형 방정식 시스템을 푸는 실제 응용에서, 촐레스키 분해가 LU 분해와 비교했을 때 약 두 배 정도 효율적인 것으로 알려졌다.\n",
    "\n",
    "* [숄레스키 분해 - 위키백과, 우리 모두의 백과사전](https://ko.wikipedia.org/wiki/%EC%88%84%EB%A0%88%EC%8A%A4%ED%82%A4_%EB%B6%84%ED%95%B4)"
   ]
  },
  {
   "cell_type": "code",
   "execution_count": 7,
   "metadata": {},
   "outputs": [
    {
     "name": "stdout",
     "output_type": "stream",
     "text": [
      "[[  4  12 -16]\n",
      " [ 12  37 -43]\n",
      " [-16 -43  98]]\n",
      "[[ 2.  0.  0.]\n",
      " [ 6.  1.  0.]\n",
      " [-8.  5.  3.]]\n"
     ]
    }
   ],
   "source": [
    "x = np.array([[4, 12, -16], [12, 37, -43], [-16, -43, 98]], dtype=np.int32)\n",
    "print(x)\n",
    "L = np.linalg.cholesky(x)\n",
    "print(L)\n",
    "assert np.array_equal(np.dot(L, L.T.conjugate()), x)"
   ]
  },
  {
   "cell_type": "markdown",
   "metadata": {},
   "source": [
    "## Q6.\n",
    "x의 qr인수분해를 계산하고 검증한다.<br/>\n",
    "Compute the qr factorization of x and verify it.\n",
    "\n",
    "* QR 분해(QR decomposition, QR factorization)는 행렬 분해의 일종으로 임의의 행렬을 직교행렬과 상삼각행렬의 곱으로 분해하는 방법이다. QR 분해는 선형 최소제곱법을 풀 때나 고유벡터를 구할 때 등의 상황에 사용되며, 그람-슈미트 직교정규화 혹은 하우스홀더 행렬, 기븐스 회전 등을 사용한다.\n",
    "* [QR 분해 - 위키백과, 우리 모두의 백과사전](https://ko.wikipedia.org/wiki/QR_%EB%B6%84%ED%95%B4)"
   ]
  },
  {
   "cell_type": "code",
   "execution_count": 8,
   "metadata": {},
   "outputs": [
    {
     "name": "stdout",
     "output_type": "stream",
     "text": [
      "q=\n",
      " [[-0.85714287  0.39428571  0.33142856]\n",
      " [-0.42857143 -0.90285712 -0.03428571]\n",
      " [ 0.2857143  -0.17142858  0.94285715]] \n",
      "r=\n",
      " [[ -14.  -21.   14.]\n",
      " [   0. -175.   70.]\n",
      " [   0.    0.  -35.]]\n"
     ]
    }
   ],
   "source": [
    "x = np.array([[12, -51, 4], [6, 167, -68], [-4, 24, -41]], dtype=np.float32)\n",
    "q, r = np.linalg.qr(x)\n",
    "print('q=\\n', q, '\\nr=\\n', r)"
   ]
  },
  {
   "cell_type": "code",
   "execution_count": null,
   "metadata": {},
   "outputs": [],
   "source": []
  },
  {
   "cell_type": "markdown",
   "metadata": {},
   "source": []
  },
  {
   "cell_type": "code",
   "execution_count": null,
   "metadata": {},
   "outputs": [],
   "source": []
  },
  {
   "cell_type": "markdown",
   "metadata": {},
   "source": []
  },
  {
   "cell_type": "code",
   "execution_count": null,
   "metadata": {},
   "outputs": [],
   "source": []
  }
 ],
 "metadata": {
  "kernelspec": {
   "display_name": "Python 3",
   "language": "python",
   "name": "python3"
  },
  "language_info": {
   "codemirror_mode": {
    "name": "ipython",
    "version": 3
   },
   "file_extension": ".py",
   "mimetype": "text/x-python",
   "name": "python",
   "nbconvert_exporter": "python",
   "pygments_lexer": "ipython3",
   "version": "3.6.1"
  }
 },
 "nbformat": 4,
 "nbformat_minor": 2
}
