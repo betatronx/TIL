{
 "cells": [
  {
   "cell_type": "markdown",
   "metadata": {},
   "source": [
    "* 출처 : [numpy_exercises/Set_routines_Solutions.ipynb at master · Kyubyong/numpy_exercises](https://github.com/Kyubyong/numpy_exercises/blob/master/Set_routines_Solutions.ipynb)\n",
    "\n",
    "* numpy set routine의 문제풀이 따라하기\n",
    "\n",
    "# Set routines"
   ]
  },
  {
   "cell_type": "code",
   "execution_count": 1,
   "metadata": {},
   "outputs": [],
   "source": [
    "import numpy as np"
   ]
  },
  {
   "cell_type": "code",
   "execution_count": 2,
   "metadata": {},
   "outputs": [
    {
     "data": {
      "text/plain": [
       "'1.13.3'"
      ]
     },
     "execution_count": 2,
     "metadata": {},
     "output_type": "execute_result"
    }
   ],
   "source": [
    "np.__version__"
   ]
  },
  {
   "cell_type": "code",
   "execution_count": 3,
   "metadata": {},
   "outputs": [
    {
     "name": "stdout",
     "output_type": "stream",
     "text": [
      "Python 3.6.1\r\n"
     ]
    }
   ],
   "source": [
    "!python --version"
   ]
  },
  {
   "cell_type": "markdown",
   "metadata": {},
   "source": [
    "##  Making proper sets\n",
    "## Q1.\n",
    "x에서 유일한 요소와 재구성 인덱스를 구해 x를 재구성한다.<br/>\n",
    "Get unique elements and reconstruction indices from x. And reconstruct x."
   ]
  },
  {
   "cell_type": "code",
   "execution_count": 4,
   "metadata": {},
   "outputs": [
    {
     "data": {
      "text/plain": [
       "array([1, 2, 6, 4, 2, 3, 2])"
      ]
     },
     "execution_count": 4,
     "metadata": {},
     "output_type": "execute_result"
    }
   ],
   "source": [
    "x = np.array([1, 2, 6, 4, 2, 3, 2])\n",
    "x"
   ]
  },
  {
   "cell_type": "code",
   "execution_count": 5,
   "metadata": {},
   "outputs": [
    {
     "name": "stdout",
     "output_type": "stream",
     "text": [
      "unique elements =  [1 2 3 4 6]\n",
      "reconstruction indices =  [0 1 4 3 1 2 1]\n",
      "reconstructed =  [1 2 6 4 2 3 2]\n"
     ]
    }
   ],
   "source": [
    "out, indices = np.unique(x, return_inverse=True)\n",
    "print('unique elements = ', out)\n",
    "print('reconstruction indices = ', indices)\n",
    "print('reconstructed = ', out[indices])"
   ]
  },
  {
   "cell_type": "markdown",
   "metadata": {},
   "source": [
    "## 부울연산\n",
    "## Q2. \n",
    "x와 같은 모양의 부울 배열을 만든다. x의 각 요소가 y에 있으면 결과는 True이고, 그렇지 않으면 False다.<br/>\n",
    "\n",
    "Create a boolean array of the same shape as x. If each element of x is present in y, the result will be True, otherwise False."
   ]
  },
  {
   "cell_type": "code",
   "execution_count": 6,
   "metadata": {},
   "outputs": [
    {
     "name": "stdout",
     "output_type": "stream",
     "text": [
      "[ True  True False False  True]\n"
     ]
    }
   ],
   "source": [
    "x = np.array([0, 1, 2, 5, 0])\n",
    "y = np.array([0, 1])\n",
    "# x 배열 각 요소의 값이 y 배열에 있는 값이라면 True를 아니라면 False를 출력한다.\n",
    "print(np.in1d(x, y))"
   ]
  },
  {
   "cell_type": "markdown",
   "metadata": {},
   "source": [
    "## Q3.\n",
    "x 와 y의 고유한 교차점을 찾는다.<br/>\n",
    "Find the unique intersection of x and y."
   ]
  },
  {
   "cell_type": "code",
   "execution_count": 7,
   "metadata": {},
   "outputs": [
    {
     "name": "stdout",
     "output_type": "stream",
     "text": [
      "[0 1]\n"
     ]
    }
   ],
   "source": [
    "x = np.array([0, 1, 2, 5, 0])\n",
    "y = np.array([0, 1, 4])\n",
    "# x, y의 공통된 요소를 찾는다.\n",
    "print(np.intersect1d(x, y))"
   ]
  },
  {
   "cell_type": "markdown",
   "metadata": {},
   "source": [
    "## Q4. \n",
    "y에 없는 x의 고유 요소를 찾는다.<br/>\n",
    "Find the unique elements of x that are not present in y."
   ]
  },
  {
   "cell_type": "code",
   "execution_count": 8,
   "metadata": {},
   "outputs": [
    {
     "name": "stdout",
     "output_type": "stream",
     "text": [
      "[2 5]\n"
     ]
    }
   ],
   "source": [
    "x = np.array([0, 1, 2, 5, 0])\n",
    "y = np.array([0, 1, 4])\n",
    "# setdiff1d 로 y에 없고 x에만 있는 값을 찾는다.\n",
    "print(np.setdiff1d(x, y))"
   ]
  },
  {
   "cell_type": "markdown",
   "metadata": {},
   "source": [
    "## Q5. \n",
    "x와 y의 xor요소를 찾는다.<br/>\n",
    "Find the xor elements of x and y."
   ]
  },
  {
   "cell_type": "code",
   "execution_count": 9,
   "metadata": {},
   "outputs": [
    {
     "name": "stdout",
     "output_type": "stream",
     "text": [
      "[2 4 5]\n"
     ]
    }
   ],
   "source": [
    "x = np.array([0, 1, 2, 5, 0])\n",
    "y = np.array([0, 1, 4])\n",
    "# setxor1d로 xor 요소를 찾는다.\n",
    "out1 = np.setxor1d(x, y)\n",
    "# setdiff1d 로 각 요소에만 있는 값을 찾은 뒤 concatenate로 합쳐준다.\n",
    "out2 = np.sort(np.concatenate((np.setdiff1d(x, y), np.setdiff1d(y, x))))\n",
    "assert np.allclose(out1, out2)\n",
    "print(out1)"
   ]
  },
  {
   "cell_type": "markdown",
   "metadata": {},
   "source": [
    "## Q6.\n",
    "x와 y의 합집합을 찾는다.<br/>\n",
    "Find the union of x and y."
   ]
  },
  {
   "cell_type": "code",
   "execution_count": 10,
   "metadata": {},
   "outputs": [
    {
     "name": "stdout",
     "output_type": "stream",
     "text": [
      "[0 1 2 4 5]\n"
     ]
    }
   ],
   "source": [
    "x = np.array([0, 1, 2, 5, 0])\n",
    "y = np.array([0, 1, 4])\n",
    "# union1d 로 x, y의 합집합을 찾는다.\n",
    "out1 = np.union1d(x, y)\n",
    "# x, y를 합쳐주고 중복 된 요소를 unique로 걸러주고 sort한다.\n",
    "out2 = np.sort(np.unique(np.concatenate((x, y))))\n",
    "assert np.allclose(out1, out2)\n",
    "print(out1)"
   ]
  },
  {
   "cell_type": "code",
   "execution_count": null,
   "metadata": {},
   "outputs": [],
   "source": []
  }
 ],
 "metadata": {
  "kernelspec": {
   "display_name": "Python 3",
   "language": "python",
   "name": "python3"
  },
  "language_info": {
   "codemirror_mode": {
    "name": "ipython",
    "version": 3
   },
   "file_extension": ".py",
   "mimetype": "text/x-python",
   "name": "python",
   "nbconvert_exporter": "python",
   "pygments_lexer": "ipython3",
   "version": "3.6.1"
  }
 },
 "nbformat": 4,
 "nbformat_minor": 2
}
