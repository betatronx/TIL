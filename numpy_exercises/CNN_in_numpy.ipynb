{
 "cells": [
  {
   "cell_type": "markdown",
   "metadata": {},
   "source": [
    "출처 : http://chris-chris.ai/2017/11/26/conv-in-numpy/ 따라쓰기"
   ]
  },
  {
   "cell_type": "code",
   "execution_count": 12,
   "metadata": {},
   "outputs": [],
   "source": [
    "import numpy as np\n",
    "import tensorflow as tf\n",
    "from tensorflow.python.framework import dtypes"
   ]
  },
  {
   "cell_type": "markdown",
   "metadata": {},
   "source": [
    "## 1. Setting up the initial values"
   ]
  },
  {
   "cell_type": "code",
   "execution_count": 2,
   "metadata": {},
   "outputs": [
    {
     "data": {
      "text/plain": [
       "array([[[ 0.,  0.,  0.],\n",
       "        [ 0.,  0.,  0.],\n",
       "        [ 0.,  0.,  0.],\n",
       "        [ 0.,  0.,  0.],\n",
       "        [ 0.,  0.,  0.],\n",
       "        [ 0.,  0.,  0.],\n",
       "        [ 0.,  0.,  0.]],\n",
       "\n",
       "       [[ 0.,  0.,  0.],\n",
       "        [ 0.,  1.,  2.],\n",
       "        [ 1.,  0.,  1.],\n",
       "        [ 0.,  0.,  1.],\n",
       "        [ 1.,  1.,  1.],\n",
       "        [ 0.,  1.,  1.],\n",
       "        [ 0.,  0.,  0.]],\n",
       "\n",
       "       [[ 0.,  0.,  0.],\n",
       "        [ 2.,  0.,  2.],\n",
       "        [ 1.,  2.,  2.],\n",
       "        [ 0.,  2.,  1.],\n",
       "        [ 1.,  1.,  2.],\n",
       "        [ 2.,  1.,  1.],\n",
       "        [ 0.,  0.,  0.]],\n",
       "\n",
       "       [[ 0.,  0.,  0.],\n",
       "        [ 0.,  2.,  1.],\n",
       "        [ 2.,  1.,  1.],\n",
       "        [ 0.,  2.,  0.],\n",
       "        [ 0.,  1.,  2.],\n",
       "        [ 1.,  0.,  2.],\n",
       "        [ 0.,  0.,  0.]],\n",
       "\n",
       "       [[ 0.,  0.,  0.],\n",
       "        [ 2.,  2.,  2.],\n",
       "        [ 0.,  1.,  1.],\n",
       "        [ 1.,  1.,  2.],\n",
       "        [ 0.,  2.,  2.],\n",
       "        [ 0.,  2.,  0.],\n",
       "        [ 0.,  0.,  0.]],\n",
       "\n",
       "       [[ 0.,  0.,  0.],\n",
       "        [ 0.,  1.,  1.],\n",
       "        [ 0.,  2.,  2.],\n",
       "        [ 1.,  0.,  2.],\n",
       "        [ 2.,  2.,  0.],\n",
       "        [ 2.,  2.,  0.],\n",
       "        [ 0.,  0.,  0.]],\n",
       "\n",
       "       [[ 0.,  0.,  0.],\n",
       "        [ 0.,  0.,  0.],\n",
       "        [ 0.,  0.,  0.],\n",
       "        [ 0.,  0.,  0.],\n",
       "        [ 0.,  0.,  0.],\n",
       "        [ 0.,  0.,  0.],\n",
       "        [ 0.,  0.,  0.]]])"
      ]
     },
     "execution_count": 2,
     "metadata": {},
     "output_type": "execute_result"
    }
   ],
   "source": [
    "# 1. Setting up initial values\n",
    "\n",
    "x = np.zeros((7, 7, 3))\n",
    "x[:, :, 0] = np.mat(\n",
    "    \"0 0 0 0 0 0 0;0 0 1 0 1 0 0;0 2 1 0 1 2 0;0 0 2 0 0 1 0;0 2 0 1 0 0 0;0 0 0 1 2 2 0;0 0 0 0 0 0 0\"\n",
    ").A\n",
    "x[:, :, 1] = np.mat(\n",
    "    \"0 0 0 0 0 0 0;0 1 0 0 1 1 0;0 0 2 2 1 1 0;0 2 1 2 1 0 0;0 2 1 1 2 2 0;0 1 2 0 2 2 0;0 0 0 0 0 0 0\"\n",
    ").A\n",
    "x[:, :, 2] = np.mat(\n",
    "    \"0 0 0 0 0 0 0;0 2 1 1 1 1 0;0 2 2 1 2 1 0;0 1 1 0 2 2 0;0 2 1 2 2 0 0;0 1 2 2 0 0 0;0 0 0 0 0 0 0\"\n",
    ").A\n",
    "x"
   ]
  },
  {
   "cell_type": "code",
   "execution_count": 3,
   "metadata": {},
   "outputs": [
    {
     "name": "stdout",
     "output_type": "stream",
     "text": [
      "x: [[[[ 0.  0.  0.]\n",
      "   [ 0.  0.  0.]\n",
      "   [ 0.  0.  0.]\n",
      "   [ 0.  0.  0.]\n",
      "   [ 0.  0.  0.]\n",
      "   [ 0.  0.  0.]\n",
      "   [ 0.  0.  0.]]\n",
      "\n",
      "  [[ 0.  0.  0.]\n",
      "   [ 0.  1.  2.]\n",
      "   [ 1.  0.  1.]\n",
      "   [ 0.  0.  1.]\n",
      "   [ 1.  1.  1.]\n",
      "   [ 0.  1.  1.]\n",
      "   [ 0.  0.  0.]]\n",
      "\n",
      "  [[ 0.  0.  0.]\n",
      "   [ 2.  0.  2.]\n",
      "   [ 1.  2.  2.]\n",
      "   [ 0.  2.  1.]\n",
      "   [ 1.  1.  2.]\n",
      "   [ 2.  1.  1.]\n",
      "   [ 0.  0.  0.]]\n",
      "\n",
      "  [[ 0.  0.  0.]\n",
      "   [ 0.  2.  1.]\n",
      "   [ 2.  1.  1.]\n",
      "   [ 0.  2.  0.]\n",
      "   [ 0.  1.  2.]\n",
      "   [ 1.  0.  2.]\n",
      "   [ 0.  0.  0.]]\n",
      "\n",
      "  [[ 0.  0.  0.]\n",
      "   [ 2.  2.  2.]\n",
      "   [ 0.  1.  1.]\n",
      "   [ 1.  1.  2.]\n",
      "   [ 0.  2.  2.]\n",
      "   [ 0.  2.  0.]\n",
      "   [ 0.  0.  0.]]\n",
      "\n",
      "  [[ 0.  0.  0.]\n",
      "   [ 0.  1.  1.]\n",
      "   [ 0.  2.  2.]\n",
      "   [ 1.  0.  2.]\n",
      "   [ 2.  2.  0.]\n",
      "   [ 2.  2.  0.]\n",
      "   [ 0.  0.  0.]]\n",
      "\n",
      "  [[ 0.  0.  0.]\n",
      "   [ 0.  0.  0.]\n",
      "   [ 0.  0.  0.]\n",
      "   [ 0.  0.  0.]\n",
      "   [ 0.  0.  0.]\n",
      "   [ 0.  0.  0.]\n",
      "   [ 0.  0.  0.]]]]\n"
     ]
    }
   ],
   "source": [
    "x = np.reshape(x, (1, 7, 7, 3))\n",
    "print(\"x:\",x)"
   ]
  },
  {
   "cell_type": "code",
   "execution_count": 4,
   "metadata": {},
   "outputs": [
    {
     "data": {
      "text/plain": [
       "array([[[[ 0.,  0.],\n",
       "         [ 1.,  0.],\n",
       "         [-1.,  0.]],\n",
       "\n",
       "        [[ 0.,  0.],\n",
       "         [ 1.,  0.],\n",
       "         [ 0.,  0.]],\n",
       "\n",
       "        [[ 1.,  0.],\n",
       "         [ 1.,  0.],\n",
       "         [ 0.,  0.]]],\n",
       "\n",
       "\n",
       "       [[[-1.,  0.],\n",
       "         [ 0.,  0.],\n",
       "         [-1.,  0.]],\n",
       "\n",
       "        [[ 1.,  0.],\n",
       "         [ 1.,  0.],\n",
       "         [ 1.,  0.]],\n",
       "\n",
       "        [[ 1.,  0.],\n",
       "         [ 1.,  0.],\n",
       "         [ 1.,  0.]]],\n",
       "\n",
       "\n",
       "       [[[ 0.,  0.],\n",
       "         [ 0.,  0.],\n",
       "         [ 0.,  0.]],\n",
       "\n",
       "        [[ 1.,  0.],\n",
       "         [ 1.,  0.],\n",
       "         [-1.,  0.]],\n",
       "\n",
       "        [[ 0.,  0.],\n",
       "         [ 0.,  0.],\n",
       "         [ 0.,  0.]]]])"
      ]
     },
     "execution_count": 4,
     "metadata": {},
     "output_type": "execute_result"
    }
   ],
   "source": [
    "w = np.zeros((3, 3, 3, 2))\n",
    "\n",
    "w[:, :, 0, 0] = np.mat(\"0 0 1;-1 1 1;0 1 0\").A\n",
    "w[:, :, 1, 0] = np.mat(\"1 1 1;0 1 1;0 1 0\").A\n",
    "w[:, :, 2, 0] = np.mat(\"-1 0 0;-1 1 1;0 -1 0\").A\n",
    "w"
   ]
  },
  {
   "cell_type": "code",
   "execution_count": 5,
   "metadata": {},
   "outputs": [
    {
     "data": {
      "text/plain": [
       "array([[[[ 0.,  0.],\n",
       "         [ 1.,  0.],\n",
       "         [-1.,  1.]],\n",
       "\n",
       "        [[ 0.,  0.],\n",
       "         [ 1.,  1.],\n",
       "         [ 0.,  1.]],\n",
       "\n",
       "        [[ 1.,  0.],\n",
       "         [ 1., -1.],\n",
       "         [ 0.,  0.]]],\n",
       "\n",
       "\n",
       "       [[[-1.,  1.],\n",
       "         [ 0.,  1.],\n",
       "         [-1., -1.]],\n",
       "\n",
       "        [[ 1.,  1.],\n",
       "         [ 1.,  1.],\n",
       "         [ 1., -1.]],\n",
       "\n",
       "        [[ 1., -1.],\n",
       "         [ 1., -1.],\n",
       "         [ 1.,  0.]]],\n",
       "\n",
       "\n",
       "       [[[ 0., -1.],\n",
       "         [ 0., -1.],\n",
       "         [ 0.,  0.]],\n",
       "\n",
       "        [[ 1.,  1.],\n",
       "         [ 1.,  1.],\n",
       "         [-1., -1.]],\n",
       "\n",
       "        [[ 0.,  1.],\n",
       "         [ 0., -1.],\n",
       "         [ 0.,  1.]]]])"
      ]
     },
     "execution_count": 5,
     "metadata": {},
     "output_type": "execute_result"
    }
   ],
   "source": [
    "# w1 = np.zeros((3,3,3))\n",
    "w[:, :, 0, 1] = np.mat(\"0 0 0;1 1 -1;-1 1 1\").A\n",
    "w[:, :, 1, 1] = np.mat(\"0 1 -1;1 1 -1;-1 1 -1\").A\n",
    "w[:, :, 2, 1] = np.mat(\"1 1 0;-1 -1 0;0 -1 1\").A\n",
    "w"
   ]
  },
  {
   "cell_type": "code",
   "execution_count": 6,
   "metadata": {},
   "outputs": [],
   "source": [
    "stride = 2\n",
    "scope = \"conv_in_numpy\"\n",
    "act = tf.nn.relu  # activation\n",
    "pad = 'VALID'  # padding\n",
    "nf = 2  # number of filters\n",
    "rf = 3  # filter size\n",
    "b = [1, 0]  # bias"
   ]
  },
  {
   "cell_type": "code",
   "execution_count": 7,
   "metadata": {},
   "outputs": [],
   "source": [
    "np_o = np.zeros((1, 3, 3, 2))\n",
    "s = stride"
   ]
  },
  {
   "cell_type": "markdown",
   "metadata": {},
   "source": [
    "## 2. Convolution in Tensorflow"
   ]
  },
  {
   "cell_type": "code",
   "execution_count": 8,
   "metadata": {},
   "outputs": [
    {
     "name": "stdout",
     "output_type": "stream",
     "text": [
      "--- Convolution in Tensorflow ---\n",
      "tf_o0:\n",
      " [[  6.   4.   3.]\n",
      " [ 13.   7.   4.]\n",
      " [ 10.   9.   5.]]\n",
      "tf_o1:\n",
      " [[ -1.  -3.   1.]\n",
      " [  0.   6.   2.]\n",
      " [  1.  -3.  12.]]\n"
     ]
    }
   ],
   "source": [
    "print(\"--- Convolution in Tensorflow ---\")\n",
    "\n",
    "tf_x = tf.constant(x, dtype=dtypes.float32)\n",
    "\n",
    "with tf.Session() as sess:\n",
    "    with tf.variable_scope(scope):\n",
    "        nin = tf_x.get_shape()[3].value\n",
    "        tf_w = tf.get_variable(\"w\", [rf, rf, nin, nf], initializer=tf.constant_initializer(w))\n",
    "        tf_b = tf.get_variable(\n",
    "            \"b\", [nf],\n",
    "            initializer=tf.constant_initializer(b, dtype=dtypes.float32))\n",
    "        tf_z = tf.nn.conv2d(\n",
    "            tf_x, w, strides=[1, stride, stride, 1], padding=pad) + b\n",
    "        tf_h = act(tf_z)\n",
    "        sess.run(tf.global_variables_initializer())\n",
    "        tf_o = sess.run(tf_z)\n",
    "        print(\"tf_o0:\\n\", tf_o[0, :, :, 0])\n",
    "        print(\"tf_o1:\\n\", tf_o[0, :, :, 1])"
   ]
  },
  {
   "cell_type": "code",
   "execution_count": 10,
   "metadata": {},
   "outputs": [],
   "source": [
    "# np.testing.assert_almost_equal(tf_o, np_o)"
   ]
  },
  {
   "cell_type": "markdown",
   "metadata": {},
   "source": [
    "* CNN Animation, Andrej Karpathy, Stanford CS231n lecture : https://cs231n.github.io/convolutional-networks/"
   ]
  },
  {
   "cell_type": "code",
   "execution_count": null,
   "metadata": {},
   "outputs": [],
   "source": []
  }
 ],
 "metadata": {
  "kernelspec": {
   "display_name": "Python 3",
   "language": "python",
   "name": "python3"
  },
  "language_info": {
   "codemirror_mode": {
    "name": "ipython",
    "version": 3
   },
   "file_extension": ".py",
   "mimetype": "text/x-python",
   "name": "python",
   "nbconvert_exporter": "python",
   "pygments_lexer": "ipython3",
   "version": "3.6.1"
  }
 },
 "nbformat": 4,
 "nbformat_minor": 2
}
