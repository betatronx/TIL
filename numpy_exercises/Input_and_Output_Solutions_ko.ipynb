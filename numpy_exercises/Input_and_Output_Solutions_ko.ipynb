{
 "cells": [
  {
   "cell_type": "markdown",
   "metadata": {},
   "source": [
    "# 입력과 출력 Input and Output"
   ]
  },
  {
   "cell_type": "code",
   "execution_count": 1,
   "metadata": {},
   "outputs": [
    {
     "data": {
      "text/plain": [
       "'1.13.3'"
      ]
     },
     "execution_count": 1,
     "metadata": {},
     "output_type": "execute_result"
    }
   ],
   "source": [
    "from __future__ import print_function\n",
    "import numpy as np\n",
    "np.__version__"
   ]
  },
  {
   "cell_type": "code",
   "execution_count": 2,
   "metadata": {},
   "outputs": [
    {
     "data": {
      "text/plain": [
       "datetime.date(2017, 11, 6)"
      ]
     },
     "execution_count": 2,
     "metadata": {},
     "output_type": "execute_result"
    }
   ],
   "source": [
    "from datetime import date\n",
    "date.today()"
   ]
  },
  {
   "cell_type": "markdown",
   "metadata": {},
   "source": [
    "## Numpy binary files (NPY, NPZ)\n",
    "## Q1.\n",
    "x를 temp.npy에 저장하고 로드한다.<br/>\n",
    "Save x into temp.npy and load it."
   ]
  },
  {
   "cell_type": "code",
   "execution_count": 3,
   "metadata": {},
   "outputs": [
    {
     "name": "stdout",
     "output_type": "stream",
     "text": [
      "[0 1 2 3 4 5 6 7 8 9]\n",
      "[0 1 2 3 4 5 6 7 8 9]\n",
      "True\n"
     ]
    }
   ],
   "source": [
    "x = np.arange(10)\n",
    "print(x)\n",
    "np.save('temp.npy', x)\n",
    "\n",
    "# temp.npy가 있는지 체크한다.\n",
    "import os\n",
    "if os.path.exists('temp.npy'):\n",
    "    x2 = np.load('temp.npy')\n",
    "    print(x2)\n",
    "    print(np.array_equal(x, x2))"
   ]
  },
  {
   "cell_type": "markdown",
   "metadata": {},
   "source": [
    "## Q2.\n",
    "x 와 y를 하나의 파일 'temp.npz'에 저장하고 로드한다.<br/>\n",
    "Save x and y into a single file 'temp.npz' and load it."
   ]
  },
  {
   "cell_type": "code",
   "execution_count": 4,
   "metadata": {},
   "outputs": [
    {
     "name": "stdout",
     "output_type": "stream",
     "text": [
      "[0 1 2 3 4 5 6 7 8 9] [11 12 13 14 15 16 17 18 19]\n",
      "True\n",
      "True\n"
     ]
    }
   ],
   "source": [
    "x = np.arange(10)\n",
    "y = np.arange(11, 20)\n",
    "print(x, y)\n",
    "np.savez('temp.npz', x=x, y=y)\n",
    "# 압축해서 저장하길 원한다면, savez_compressed를 사용한다.\n",
    "# np.savez_compressed('temp.npz', x=x, y=y) \n",
    "with np.load('temp.npz') as data:\n",
    "    x2 = data['x']\n",
    "    y2 = data['y']\n",
    "    print(np.array_equal(x, x2))\n",
    "    print(np.array_equal(y, y2))"
   ]
  },
  {
   "cell_type": "markdown",
   "metadata": {},
   "source": [
    "## Text files\n",
    "## Q3.\n",
    "x 를 'temp.txt'에 문자열 형태로 저장하고 로드한다.<br/>\n",
    "Save x to 'temp.txt' in string format and load it."
   ]
  },
  {
   "cell_type": "code",
   "execution_count": 5,
   "metadata": {},
   "outputs": [
    {
     "name": "stdout",
     "output_type": "stream",
     "text": [
      "[[0 1 2 3 4]\n",
      " [5 6 7 8 9]]\n"
     ]
    },
    {
     "data": {
      "text/plain": [
       "array([[ 0.,  1.,  2.,  3.,  4.],\n",
       "       [ 5.,  6.,  7.,  8.,  9.]])"
      ]
     },
     "execution_count": 5,
     "metadata": {},
     "output_type": "execute_result"
    }
   ],
   "source": [
    "# 0부터 9까지 있는 2행 5열의 행렬을 만든다.\n",
    "x = np.arange(10).reshape(2, 5)\n",
    "print(x)\n",
    "header = 'num1 num2 num3 num4 num5'\n",
    "np.savetxt('temp.txt', x, fmt='%d', header=header)\n",
    "np.loadtxt('temp.txt')"
   ]
  },
  {
   "cell_type": "markdown",
   "metadata": {},
   "source": [
    "## Q4.\n",
    "x, y, z를 'temp.txt'에 문자열로 저장하고 줄단위로 로드한다.<br/>\n",
    "Save x, y, and z to 'temp.txt' in string format line by line, then load it."
   ]
  },
  {
   "cell_type": "code",
   "execution_count": 6,
   "metadata": {},
   "outputs": [
    {
     "name": "stdout",
     "output_type": "stream",
     "text": [
      "[0 1 2 3 4 5 6 7 8 9] [11 12 13 14 15 16 17 18 19 20] [22 23 24 25 26 27 28 29 30 31]\n"
     ]
    },
    {
     "data": {
      "text/plain": [
       "array([[  0.,   1.,   2.,   3.,   4.,   5.,   6.,   7.,   8.,   9.],\n",
       "       [ 11.,  12.,  13.,  14.,  15.,  16.,  17.,  18.,  19.,  20.],\n",
       "       [ 22.,  23.,  24.,  25.,  26.,  27.,  28.,  29.,  30.,  31.]])"
      ]
     },
     "execution_count": 6,
     "metadata": {},
     "output_type": "execute_result"
    }
   ],
   "source": [
    "x = np.arange(10)\n",
    "y = np.arange(11, 21)\n",
    "z = np.arange(22, 32)\n",
    "print(x, y, z)\n",
    "np.savetxt('temp.txt', (x, y, z), fmt='%d')\n",
    "np.loadtxt('temp.txt')"
   ]
  },
  {
   "cell_type": "markdown",
   "metadata": {},
   "source": [
    "## Q5.\n",
    "x를 바이트로 변환하고 배열로 로드한다.<br/>\n",
    "Convert x into bytes, and load it as array."
   ]
  },
  {
   "cell_type": "code",
   "execution_count": 7,
   "metadata": {},
   "outputs": [
    {
     "name": "stdout",
     "output_type": "stream",
     "text": [
      "[1 2 3 4]\n",
      "b'\\x01\\x00\\x00\\x00\\x00\\x00\\x00\\x00\\x02\\x00\\x00\\x00\\x00\\x00\\x00\\x00\\x03\\x00\\x00\\x00\\x00\\x00\\x00\\x00\\x04\\x00\\x00\\x00\\x00\\x00\\x00\\x00'\n",
      "[1 2 3 4]\n",
      "True\n"
     ]
    }
   ],
   "source": [
    "x = np.array([1, 2, 3, 4])\n",
    "print(x)\n",
    "# 함수명은 tostring이지만 실제로는 바이트를 반환한다.\n",
    "x_bytes = x.tostring()\n",
    "print(x_bytes)\n",
    "# x 가 not이면 1차원 배열을 반환한다.\n",
    "x2 = np.fromstring(x_bytes, dtype=x.dtype)\n",
    "print(x2)\n",
    "print(np.array_equal(x, x2))"
   ]
  },
  {
   "cell_type": "markdown",
   "metadata": {},
   "source": [
    "## Q6.\n",
    "a를 ndarray로 변환하고 다시 리스트로 변환한다.<br/>\n",
    "문제는 ndarray로 변환하는 것인데, 솔루션에는 array로 변환한다.\n",
    "ndarray로 변환을 하게 되면 다음과 같은 타입에러가 난다.\n",
    "\n",
    "```\n",
    "x = np.ndarray(a)\n",
    "TypeError: 'list' object cannot be interpreted as an integer\n",
    "```\n",
    "\n",
    "\n",
    "여기에서 ndarray를 다시 알아보면, ndarray는 N차원의 배열 객체다.\n",
    "ndarray는 기존 파이썬과는 다르게 오직 같은 종류의 데이터만을 배열에 담을 수 있다.\n",
    "\n",
    "\n",
    "np.ndarray를 사용하라는 것으로 문제를 이해했는데 그냥 n차원의 배열을 얘기할때도 ndarray를 사용하는 것 같다.\n",
    "\n",
    "\n",
    "Convert a into an ndarray and then convert it into a list again."
   ]
  },
  {
   "cell_type": "code",
   "execution_count": 8,
   "metadata": {},
   "outputs": [
    {
     "name": "stdout",
     "output_type": "stream",
     "text": [
      "[[1, 2], [3, 4]]\n",
      "[[1, 2], [3, 4]]\n",
      "True\n"
     ]
    }
   ],
   "source": [
    "a = [[1, 2], [3, 4]]\n",
    "x = np.array(a)\n",
    "print(a)\n",
    "a2 = x.tolist()\n",
    "print(a2)\n",
    "print(a == a2)"
   ]
  },
  {
   "cell_type": "markdown",
   "metadata": {},
   "source": [
    "# String formatting\n",
    "## Q7.\n",
    "x 를 문자열로 변환하고 revert 한다.<br/>\n",
    "Convert x to a string, and revert it."
   ]
  },
  {
   "cell_type": "code",
   "execution_count": 9,
   "metadata": {},
   "outputs": [
    {
     "name": "stdout",
     "output_type": "stream",
     "text": [
      "[[0 1 2 3 4]\n",
      " [5 6 7 8 9]] \n",
      " <class 'str'>\n"
     ]
    }
   ],
   "source": [
    "# 0~9까지 있는 2행 5열의 배열을 만든다.\n",
    "x = np.arange(10).reshape(2, 5)\n",
    "x_str = np.array_str(x)\n",
    "print(x_str, \"\\n\", type(x_str))\n",
    "x_str = x_str.replace(\"[\", \"\")\n",
    "x_str = x_str.replace(\"]\", \"\")\n",
    "x2 = np.fromstring(x_str, dtype=x.dtype, sep=\" \").reshape(x.shape)\n",
    "assert np.array_equal(x, x2)"
   ]
  },
  {
   "cell_type": "markdown",
   "metadata": {},
   "source": [
    "## Text formatting options\n",
    "## Q8.\n",
    "x를 프린트 하고 모든 원소가 precision=1, no suppress 로 표시되도록 한다.<br/>\n",
    "Print x such that all elements are displayed with precision=1, no suppress."
   ]
  },
  {
   "cell_type": "code",
   "execution_count": 10,
   "metadata": {},
   "outputs": [
    {
     "name": "stdout",
     "output_type": "stream",
     "text": [
      "[[ 0.3  0.7  0.9  0.7  0.5  0.1  0.2  0.3  0.8  0.4  0.1  0.3  0.7  0.8\n",
      "   0.3  0.7  0.9  0.4  0.6  0.4  0.4  0.1  0.1  0.9  0.7  0.5  0.6  0.6\n",
      "   0.1  0.2  0.5  0.4  0.1  0.7  0.5  0.9  0.2  0.9  0.7  0.7  0.9  1.   0.4\n",
      "   0.3  1.   0.4  0.8  0.8  0.   0.   0.   0.3  0.9  0.5  0.5  0.7  0.1\n",
      "   0.4  0.6  0.1  0.7  0.1  0.3  0.6  0.6  0.9  0.5  0.6  0.1  0.1  0.8  1.\n",
      "   0.5  0.5  0.2  0.4  0.7  0.4  0.7  0.   0.1  0.5  0.3  0.4  0.   0.2\n",
      "   0.4  0.5  0.7  0.8  0.5  0.4  0.6  0.7  0.2  0.6  0.9  0.2  0.3  0.6]\n",
      " [ 0.9  0.8  0.7  1.   0.1  0.6  0.4  0.   0.4  0.5  0.7  0.8  0.5  0.3\n",
      "   0.1  0.3  0.5  0.9  0.4  0.5  0.9  0.6  0.1  0.   0.7  0.2  0.6  0.1\n",
      "   0.3  0.9  0.   0.5  0.   0.5  0.6  0.4  0.9  0.6  0.9  0.2  0.4  0.9\n",
      "   0.8  0.9  0.   0.8  0.4  0.6  0.5  0.9  0.5  0.4  0.7  0.5  0.3  0.   0.6\n",
      "   0.9  0.9  0.5  0.4  0.9  0.5  0.3  0.9  0.7  0.7  0.4  0.7  0.2  1.   0.2\n",
      "   0.5  0.5  0.3  0.2  1.   0.4  0.1  0.2  0.   0.3  1.   1.   0.   0.5\n",
      "   0.5  0.1  0.4  0.5  0.9  0.2  0.2  0.6  0.6  0.4  0.4  0.2  0.1  0.7]\n",
      " [ 0.7  0.7  1.   0.6  0.9  0.1  0.2  1.   0.9  0.3  0.3  0.2  0.5  0.6\n",
      "   0.4  0.9  0.9  1.   1.   0.8  0.3  0.5  0.6  0.5  0.3  0.2  0.6  0.5\n",
      "   0.6  0.5  0.3  0.2  0.2  0.3  0.3  0.6  0.3  0.8  0.1  1.   0.3  0.5\n",
      "   0.4  0.2  1.   0.8  1.   0.7  0.5  0.9  0.8  0.6  0.2  0.8  0.7  0.2\n",
      "   0.2  0.1  0.6  0.5  0.1  0.2  0.3  0.3  0.4  0.7  0.   0.8  0.1  0.1\n",
      "   0.8  0.1  0.3  0.8  0.8  0.4  0.7  0.7  0.9  0.4  0.5  0.3  1.   0.5\n",
      "   0.5  0.9  0.3  0.7  0.9  0.9  0.7  0.3  0.4  0.1  0.5  0.   0.4  0.6\n",
      "   0.9  0.1]\n",
      " [ 0.8  1.   0.8  0.3  0.4  0.   0.8  0.8  0.4  0.5  0.8  0.7  0.6  0.5\n",
      "   0.1  0.5  0.1  0.5  0.1  0.1  0.2  0.3  0.9  0.   0.3  0.4  1.   0.6\n",
      "   0.8  0.   0.7  0.9  0.2  0.8  0.2  0.6  0.5  0.   0.3  1.   1.   0.5\n",
      "   0.7  0.   0.8  0.4  0.8  0.1  0.3  0.7  0.5  0.4  0.7  0.6  0.   1.   0.5\n",
      "   0.3  0.3  0.9  0.7  0.2  0.5  0.7  0.9  0.3  0.9  0.8  0.6  0.4  0.4  1.\n",
      "   0.8  0.2  0.9  0.8  0.5  0.8  0.   0.5  0.2  0.6  0.   0.3  0.3  0.7\n",
      "   0.6  0.4  0.6  0.8  0.9  0.8  0.4  0.2  0.3  0.1  0.3  0.8  0.8  0.8]\n",
      " [ 0.6  0.5  0.8  0.1  0.7  0.6  0.2  0.5  0.9  0.8  0.2  0.5  0.5  0.4\n",
      "   0.1  1.   0.3  0.7  0.2  0.7  0.7  0.5  0.9  0.6  0.6  0.2  0.   0.7\n",
      "   0.5  0.1  0.8  0.5  0.5  0.8  0.5  0.3  0.7  0.7  0.7  0.2  0.9  0.5\n",
      "   0.6  1.   0.5  0.5  0.2  0.5  0.8  0.8  0.7  0.8  0.7  0.2  0.7  0.9\n",
      "   0.6  0.4  0.4  0.1  0.7  0.5  0.5  0.1  0.7  0.8  0.5  0.2  0.1  0.2\n",
      "   0.9  0.5  0.3  1.   1.   0.4  0.8  1.   0.5  0.6  0.6  0.7  0.   0.6  1.\n",
      "   0.6  0.1  0.1  0.2  0.9  1.   0.7  0.6  0.   0.8  0.9  0.7  0.8  1.   0.7]\n",
      " [ 0.2  0.9  0.4  0.7  0.1  0.4  0.7  0.2  0.1  0.9  0.4  0.9  0.7  1.   0.9\n",
      "   0.3  0.1  0.1  0.9  0.2  0.8  0.   0.4  0.4  0.9  0.5  0.4  0.3  0.3  1.\n",
      "   0.8  1.   0.3  0.8  0.2  0.9  0.   0.3  0.3  0.8  0.5  0.2  0.9  0.3\n",
      "   0.5  0.9  0.7  0.3  0.7  0.3  0.4  0.5  0.2  0.8  0.5  0.8  0.7  0.9\n",
      "   0.2  1.   0.4  0.8  0.1  0.4  0.6  0.2  0.8  0.6  0.3  0.8  0.5  0.4\n",
      "   0.6  0.1  0.   0.9  0.9  0.6  0.9  1.   0.1  1.   0.2  0.   0.2  0.8\n",
      "   0.2  0.5  0.9  0.1  0.2  0.8  1.   0.1  0.3  0.1  0.3  0.9  0.2  0.8]\n",
      " [ 0.1  0.1  0.2  0.1  0.4  0.3  0.5  0.5  0.1  0.5  0.   0.4  0.6  0.6\n",
      "   0.1  0.5  0.4  0.6  0.8  0.4  0.5  0.4  0.1  0.3  0.4  0.8  0.7  0.7\n",
      "   0.7  0.3  0.   0.1  0.1  0.4  0.6  0.6  0.4  0.9  0.2  0.7  0.1  0.1\n",
      "   0.2  0.7  0.9  0.1  1.   0.   0.1  0.6  0.2  0.4  0.7  0.7  0.3  0.3\n",
      "   0.2  0.9  0.5  0.   1.   0.9  0.3  0.4  0.9  0.6  0.5  0.1  0.6  0.6\n",
      "   0.5  0.7  0.3  0.1  0.3  0.8  0.6  0.4  0.8  0.6  0.7  0.9  0.9  0.4\n",
      "   0.9  0.2  1.   0.1  0.2  0.8  0.2  0.2  0.7  0.4  0.8  0.7  0.   0.9\n",
      "   0.4  0.5]\n",
      " [ 0.3  0.3  0.8  0.6  0.7  0.2  0.6  0.3  0.5  0.6  0.   0.5  0.2  0.2\n",
      "   0.6  0.2  0.3  0.6  1.   0.   0.1  0.8  0.4  1.   0.7  0.4  0.5  0.8\n",
      "   0.8  0.8  0.4  0.8  0.7  0.6  0.1  0.8  0.1  0.2  0.2  0.   0.   0.2\n",
      "   0.1  0.9  0.3  0.9  0.8  0.8  0.3  0.9  0.5  1.   0.2  0.3  0.2  0.9\n",
      "   0.6  0.7  0.2  0.9  0.4  0.1  0.6  0.5  0.8  0.9  0.5  0.7  0.9  0.6\n",
      "   0.4  0.2  0.1  0.3  0.7  0.1  0.4  0.2  0.3  0.7  0.1  0.4  0.5  0.8\n",
      "   0.2  0.3  0.3  0.5  0.7  0.8  0.2  0.6  0.   0.7  0.7  0.7  0.   0.6\n",
      "   0.6  0.8]\n",
      " [ 1.   0.   0.1  0.7  0.1  0.6  0.5  0.8  0.5  0.7  0.8  0.9  0.8  0.4\n",
      "   0.7  0.1  0.1  0.7  0.8  0.7  0.3  0.1  0.6  0.8  0.2  0.1  0.9  0.8\n",
      "   0.4  0.2  1.   0.2  0.7  0.7  0.4  0.3  0.6  0.7  0.1  0.6  0.7  0.8\n",
      "   0.9  0.4  0.6  0.2  0.5  0.7  0.9  0.1  0.   0.   0.6  0.6  0.5  0.6\n",
      "   0.2  0.8  0.9  1.   0.9  0.8  0.5  0.6  0.7  0.5  0.1  0.7  0.3  0.7\n",
      "   0.4  0.3  0.4  0.5  0.4  0.3  0.7  0.7  0.1  0.4  0.5  0.8  0.8  0.7\n",
      "   0.1  0.9  0.8  0.6  0.2  0.8  0.6  0.9  0.5  1.   0.8  0.4  0.8  0.2\n",
      "   0.5  0.5]\n",
      " [ 0.2  0.9  0.7  0.8  1.   0.5  0.3  0.9  0.7  0.9  0.   0.4  0.1  0.7\n",
      "   0.4  0.8  0.7  0.8  0.9  0.4  0.5  0.5  0.5  0.1  0.6  0.1  0.9  0.9\n",
      "   0.2  1.   0.2  0.1  0.1  0.4  0.   0.   0.2  0.1  0.8  0.2  0.6  0.1\n",
      "   0.2  0.5  0.2  0.6  0.9  0.3  0.5  0.6  0.6  0.5  0.7  0.2  1.   0.6\n",
      "   0.7  0.7  0.9  0.9  0.7  0.2  0.7  0.   0.9  0.9  0.7  0.6  0.9  0.   0.3\n",
      "   0.5  0.2  0.3  0.   0.3  0.2  0.7  0.5  0.2  0.6  0.5  0.1  0.3  0.5\n",
      "   0.4  1.   1.   0.8  1.   0.8  0.9  0.4  0.5  0.6  0.8  0.1  0.4  0.4\n",
      "   0.1]]\n"
     ]
    }
   ],
   "source": [
    "x = np.random.uniform(size=[10,100])\n",
    "np.set_printoptions(precision=1, threshold=np.nan, suppress=True)\n",
    "print(x)"
   ]
  },
  {
   "cell_type": "markdown",
   "metadata": {},
   "source": [
    "## Base-n representations\n",
    "## Q9.\n",
    "12를 문자열 형식의 2진수로 변환한다.<br/>\n",
    "Convert 12 into a binary number in string format."
   ]
  },
  {
   "cell_type": "code",
   "execution_count": 11,
   "metadata": {},
   "outputs": [
    {
     "name": "stdout",
     "output_type": "stream",
     "text": [
      "1100\n"
     ]
    }
   ],
   "source": [
    "out1 = np.binary_repr(12)\n",
    "out2 = np.base_repr(12, base=2)\n",
    "assert out1 == out2\n",
    "print(out1)"
   ]
  },
  {
   "cell_type": "markdown",
   "metadata": {},
   "source": [
    "## Q10.\n",
    "12를 문자열 형식의 16진수로 변환한다. <br/>\n",
    "솔루션에는 12의 이진수인 1100을 넣었는데 12로 넣는게 맞지 않을까 싶음<br/>\n",
    "Convert 12 into a hexadecimal number in string format."
   ]
  },
  {
   "cell_type": "code",
   "execution_count": 12,
   "metadata": {},
   "outputs": [
    {
     "name": "stdout",
     "output_type": "stream",
     "text": [
      "44C C\n"
     ]
    }
   ],
   "source": [
    "out1 = np.base_repr(1100, base=16)\n",
    "out2 = np.base_repr(12, base=16)\n",
    "print(out1, out2)"
   ]
  },
  {
   "cell_type": "code",
   "execution_count": null,
   "metadata": {},
   "outputs": [],
   "source": []
  }
 ],
 "metadata": {
  "kernelspec": {
   "display_name": "Python 3",
   "language": "python",
   "name": "python3"
  },
  "language_info": {
   "codemirror_mode": {
    "name": "ipython",
    "version": 3
   },
   "file_extension": ".py",
   "mimetype": "text/x-python",
   "name": "python",
   "nbconvert_exporter": "python",
   "pygments_lexer": "ipython3",
   "version": "3.6.1"
  }
 },
 "nbformat": 4,
 "nbformat_minor": 2
}
