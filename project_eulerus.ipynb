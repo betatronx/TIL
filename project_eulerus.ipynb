{
 "cells": [
  {
   "cell_type": "markdown",
   "metadata": {},
   "source": [
    "출처 : https://opentutorials.org/module/2980/17353\n",
    "\n",
    "### 프로젝트 오일러 1번문제 - 배수의 합\n",
    "* 1000 미만의 3과 5의 배수의 합을 모두 구하는 문제"
   ]
  },
  {
   "cell_type": "code",
   "execution_count": 1,
   "metadata": {},
   "outputs": [
    {
     "data": {
      "text/plain": [
       "233168"
      ]
     },
     "execution_count": 1,
     "metadata": {},
     "output_type": "execute_result"
    }
   ],
   "source": [
    "total = 0\n",
    "for m in range(1, 1000):\n",
    "    if m%3 == 0 or m%5 == 0:\n",
    "        total += m\n",
    "\n",
    "total        "
   ]
  },
  {
   "cell_type": "markdown",
   "metadata": {},
   "source": [
    "### 프로젝트 오일러 2번 문제 - 피보나치 수열\n",
    "* 차례로 두 숫자씩 더해서 새로운 수를 만드는 피보나치 수열\n",
    "* 1, 2, 3, 5, 8, 13, 21, 34, 55, 89, ...\n",
    "* 400만 이하의 피보나치 수 중 \"짝수\"만의 합을 구하는 문제"
   ]
  },
  {
   "cell_type": "code",
   "execution_count": 2,
   "metadata": {},
   "outputs": [
    {
     "name": "stdout",
     "output_type": "stream",
     "text": [
      "i : 2\n",
      "i : 8\n",
      "i : 34\n",
      "i : 144\n",
      "i : 610\n",
      "i : 2584\n",
      "i : 10946\n",
      "i : 46368\n",
      "i : 196418\n",
      "i : 832040\n",
      "i : 3524578\n",
      "4613732\n"
     ]
    }
   ],
   "source": [
    "i = 1; p = 1\n",
    "t = 0\n",
    "while i <= 4000000:\n",
    "    p, i = i, p+i\n",
    "    if i % 2 == 0:\n",
    "        print('i :', i)\n",
    "        t += i\n",
    "\n",
    "print(t)        "
   ]
  },
  {
   "cell_type": "markdown",
   "metadata": {},
   "source": [
    "###  프로젝트 오일러 3번 문제 - 가장 큰 소인수\n",
    "\n",
    "어떤 숫자의 가장 큰 소인수를 구한다.\n",
    "\n",
    "13195의 소인수는 5, 7, 13, 29이다.\n",
    "\n",
    "600851475143 의 소인수를 구하다."
   ]
  },
  {
   "cell_type": "code",
   "execution_count": 3,
   "metadata": {},
   "outputs": [
    {
     "name": "stdout",
     "output_type": "stream",
     "text": [
      "600851475143 71\n",
      "8462696833.0 839\n",
      "10086647.0 1471\n",
      "6857.0 6857\n",
      "6857\n"
     ]
    }
   ],
   "source": [
    "def prime_factor(num):\n",
    "    factor = 2\n",
    "    while not num == 1:\n",
    "        if num%factor == 0:\n",
    "            print(num, factor)\n",
    "            num = num / factor\n",
    "        else:\n",
    "            factor += 1\n",
    "    return factor\n",
    "\n",
    "number = 600851475143\n",
    "print(prime_factor(number))"
   ]
  },
  {
   "cell_type": "code",
   "execution_count": 4,
   "metadata": {},
   "outputs": [
    {
     "data": {
      "text/plain": [
       "6857"
      ]
     },
     "execution_count": 4,
     "metadata": {},
     "output_type": "execute_result"
    }
   ],
   "source": [
    "list_i = list()\n",
    "def prime_factor2(num):\n",
    "    i = 2\n",
    "    while i <= num:\n",
    "        if num % i == 0:\n",
    "            list_i.append(i)\n",
    "            num /= i\n",
    "        else:\n",
    "            i += 1\n",
    "    \n",
    "    list_i.sort()\n",
    "    last = list_i.pop()\n",
    "    return last\n",
    "\n",
    "prime_factor2(600851475143)"
   ]
  },
  {
   "cell_type": "markdown",
   "metadata": {},
   "source": [
    "### 프로젝트 오일러 4번 문제 - 팰린드롬 수\n",
    "좌우대칭의 숫자나 문자열을 의미한다.\n",
    "\n",
    "세자리의 두 수를 곱해서 가장 큰 팰린드롬 수를 찾는 문제\n",
    "\n",
    "9009 = 91 x 99\n"
   ]
  },
  {
   "cell_type": "code",
   "execution_count": 5,
   "metadata": {},
   "outputs": [],
   "source": [
    "# 팰린드롬 확인 \n",
    "# for i in range(900, 1000):\n",
    "#     for j in range(900, 1000):\n",
    "#         print(i*j, end=',')"
   ]
  },
  {
   "cell_type": "code",
   "execution_count": 6,
   "metadata": {},
   "outputs": [
    {
     "name": "stdout",
     "output_type": "stream",
     "text": [
      "819918 is Palindrome 902 909\n",
      "824428 is Palindrome 902 914\n",
      "819918 is Palindrome 909 902\n",
      "906609 is Palindrome 913 993\n",
      "824428 is Palindrome 914 902\n",
      "886688 is Palindrome 916 968\n",
      "861168 is Palindrome 924 932\n",
      "888888 is Palindrome 924 962\n",
      "861168 is Palindrome 932 924\n",
      "888888 is Palindrome 962 924\n",
      "886688 is Palindrome 968 916\n",
      "906609 is Palindrome 993 913\n",
      "906609\n"
     ]
    }
   ],
   "source": [
    "# 가장 큰 값을 찾는 것이기 때문에 세자리 수 중 900 번대부터 시작하면 된다.\n",
    "def isPalindrome(string):\n",
    "    if string == string[::-1]:\n",
    "        return True\n",
    "    return False\n",
    "\n",
    "maxValue = 0\n",
    "for i in range(900, 1000):\n",
    "    for j in range(900, 1000):\n",
    "        product = i*j\n",
    "        if isPalindrome(str(product)):\n",
    "            print(product,\"is Palindrome\", i, j)\n",
    "            if product > maxValue:\n",
    "                maxValue = product\n",
    "\n",
    "print(maxValue)                "
   ]
  },
  {
   "cell_type": "markdown",
   "metadata": {},
   "source": [
    "### 프로젝트 오일러 5번문제 - 최소공배수\n",
    "1~10 사이의 어떤 수로도 나누어 떨어지는 가장 작은 수는 2520이다.\n",
    "그러면 1~20 사이의 어떤 수로도 나누어 떨어지는 가장 작은 수는 얼마인가?\n",
    "\n",
    "1~20까지 공통의 배수, 최소공배수(LCM)를 구하는 문제"
   ]
  },
  {
   "cell_type": "code",
   "execution_count": 7,
   "metadata": {},
   "outputs": [
    {
     "name": "stdout",
     "output_type": "stream",
     "text": [
      "1 1 1.0\n",
      "2 1 2.0\n",
      "3 1 6.0\n",
      "4 1 24.0\n",
      "5 1 120.0\n",
      "6 1 720.0\n",
      "7 1 5040.0\n",
      "8 1 40320.0\n",
      "9 1 362880.0\n",
      "10 1 3628800.0\n",
      "11 1 39916800.0\n",
      "12 1 479001600.0\n",
      "13 1 6227020800.0\n",
      "14 1 87178291200.0\n",
      "15 1 1307674368000.0\n"
     ]
    }
   ],
   "source": [
    "def getGCD(num1, num2):\n",
    "    return 1\n",
    "\n",
    "lcm = 1\n",
    "i = 1\n",
    "while i <= 15:\n",
    "    gcd =  getGCD(lcm, i)\n",
    "    lcm = lcm*i/gcd\n",
    "    print(i, gcd, lcm)\n",
    "    i += 1"
   ]
  },
  {
   "cell_type": "code",
   "execution_count": 8,
   "metadata": {},
   "outputs": [
    {
     "name": "stdout",
     "output_type": "stream",
     "text": [
      "1 1 1.0\n",
      "2 1 2.0\n",
      "3 1 6.0\n",
      "4 2 12.0\n",
      "5 1 60.0\n",
      "6 6 60.0\n",
      "7 1 420.0\n",
      "8 4 840.0\n",
      "9 3 2520.0\n",
      "10 10 2520.0\n",
      "11 1 27720.0\n",
      "12 12 27720.0\n",
      "13 1 360360.0\n",
      "14 14 360360.0\n",
      "15 15 360360.0\n",
      "16 8 720720.0\n",
      "17 1 12252240.0\n",
      "18 18 12252240.0\n",
      "19 1 232792560.0\n",
      "20 20 232792560.0\n"
     ]
    }
   ],
   "source": [
    "# 최대공약수\n",
    "def getGCD(num1, num2):\n",
    "    i = 1\n",
    "    while i <= num2:\n",
    "        if num1%i == 0 and num2%i == 0:\n",
    "            gcd = i\n",
    "        i += 1\n",
    "    return gcd\n",
    "\n",
    "lcm = 1\n",
    "i = 1\n",
    "while i <= 20:\n",
    "    gcd = getGCD(lcm, i)\n",
    "    lcm = lcm*i/gcd\n",
    "    print(i, gcd, lcm)\n",
    "    i += 1"
   ]
  },
  {
   "cell_type": "markdown",
   "metadata": {},
   "source": [
    "### 프로젝트 오일러 6번 문제 - 제곱의 합과, 합의 제곱\n",
    "* 1부터 10까지 각각 제곱해 더하면 385가 되고\n",
    "* 1부터 10까지를 먼저 더한 후에 그 결과를 제곱하면 3025가 된다.\n",
    "* 1부터 10까지 자연수에 대해 \"합의 제곱\"과 \"제곱의 합\"의 차이는 3025-385 = 2640 이 된다.\n",
    "* 그럼 1부터 100까지 자연수에 대해 \"합의 제곱\"과 \"제곱의 합\"의 차이는 얼마인가?"
   ]
  },
  {
   "cell_type": "code",
   "execution_count": 9,
   "metadata": {},
   "outputs": [
    {
     "name": "stdout",
     "output_type": "stream",
     "text": [
      "10404 10202\n"
     ]
    },
    {
     "data": {
      "text/plain": [
       "202"
      ]
     },
     "execution_count": 9,
     "metadata": {},
     "output_type": "execute_result"
    }
   ],
   "source": [
    "def cal_square():\n",
    "    sum_square = 0\n",
    "    square_sum = 0\n",
    "    for i in (1, 101):\n",
    "        sum_square += i\n",
    "        square_sum += i ** 2\n",
    "        \n",
    "    print(sum_square ** 2, square_sum)    \n",
    "    return sum_square ** 2  - square_sum\n",
    "\n",
    "cal_square()"
   ]
  },
  {
   "cell_type": "markdown",
   "metadata": {},
   "source": [
    "### 프로젝트 오일러 7번 문제 10001번째 소수\n",
    "* 소수를 크기 순으로 나열하면 2, 3, 5, 7, 11, 13, ... 과 같이 된다.\n",
    "* 이 때 10,001번째의 소수를 구한다. "
   ]
  },
  {
   "cell_type": "code",
   "execution_count": 10,
   "metadata": {},
   "outputs": [
    {
     "name": "stdout",
     "output_type": "stream",
     "text": [
      "104743\n"
     ]
    }
   ],
   "source": [
    "def prime_number(num):\n",
    "    if num == 1:\n",
    "        return False\n",
    "    loop = num ** 0.5\n",
    "    i = 2\n",
    "    while i <= loop:\n",
    "        if num%i == 0:\n",
    "            return False\n",
    "        i += 1\n",
    "    return True\n",
    "\n",
    "i = 1; prime_count = 0\n",
    "while True:\n",
    "    if prime_number(i):\n",
    "        prime_count += 1\n",
    "    if prime_count == 10001:\n",
    "        break\n",
    "    i += 1\n",
    "    \n",
    "print(i)    "
   ]
  },
  {
   "cell_type": "code",
   "execution_count": null,
   "metadata": {},
   "outputs": [],
   "source": []
  }
 ],
 "metadata": {
  "kernelspec": {
   "display_name": "Python 3",
   "language": "python",
   "name": "python3"
  },
  "language_info": {
   "codemirror_mode": {
    "name": "ipython",
    "version": 3
   },
   "file_extension": ".py",
   "mimetype": "text/x-python",
   "name": "python",
   "nbconvert_exporter": "python",
   "pygments_lexer": "ipython3",
   "version": "3.6.1"
  }
 },
 "nbformat": 4,
 "nbformat_minor": 2
}
