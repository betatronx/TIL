{
 "cells": [
  {
   "cell_type": "markdown",
   "metadata": {},
   "source": [
    "참고 : \n",
    "* https://financedata.github.io/posts/matplotlib-hangul-for-osx.html\n",
    "\n",
    "* [Customizing matplotlib — Matplotlib 2.0.2 documentation](https://matplotlib.org/users/customizing.html)"
   ]
  },
  {
   "cell_type": "code",
   "execution_count": 1,
   "metadata": {},
   "outputs": [],
   "source": [
    "import platform\n",
    "# platform.platform()"
   ]
  },
  {
   "cell_type": "code",
   "execution_count": 2,
   "metadata": {},
   "outputs": [
    {
     "data": {
      "text/plain": [
       "sys.version_info(major=3, minor=6, micro=1, releaselevel='final', serial=0)"
      ]
     },
     "execution_count": 2,
     "metadata": {},
     "output_type": "execute_result"
    }
   ],
   "source": [
    "import sys\n",
    "sys.version_info"
   ]
  },
  {
   "cell_type": "code",
   "execution_count": 3,
   "metadata": {},
   "outputs": [
    {
     "name": "stdout",
     "output_type": "stream",
     "text": [
      "버전:  2.1.0\n"
     ]
    }
   ],
   "source": [
    "import matplotlib as mpl\n",
    "import matplotlib.pyplot as plt\n",
    "import matplotlib.font_manager as fm\n",
    "\n",
    "print ('버전: ', mpl.__version__)\n",
    "# print ('설치 위치: ', mpl.__file__)\n",
    "# print ('설정 위치: ', mpl.get_configdir())\n",
    "# print ('캐시 위치: ', mpl.get_cachedir())"
   ]
  },
  {
   "cell_type": "code",
   "execution_count": 4,
   "metadata": {},
   "outputs": [],
   "source": [
    "# print ('설정파일 위치: ', mpl.matplotlib_fname())"
   ]
  },
  {
   "cell_type": "code",
   "execution_count": 5,
   "metadata": {},
   "outputs": [
    {
     "data": {
      "text/plain": [
       "['seaborn-dark',\n",
       " 'seaborn-darkgrid',\n",
       " 'seaborn-ticks',\n",
       " 'fivethirtyeight',\n",
       " 'seaborn-whitegrid',\n",
       " 'classic',\n",
       " '_classic_test',\n",
       " 'fast',\n",
       " 'seaborn-talk',\n",
       " 'seaborn-dark-palette',\n",
       " 'seaborn-bright',\n",
       " 'seaborn-pastel',\n",
       " 'grayscale',\n",
       " 'seaborn-notebook',\n",
       " 'ggplot',\n",
       " 'seaborn-colorblind',\n",
       " 'seaborn-muted',\n",
       " 'seaborn',\n",
       " 'Solarize_Light2',\n",
       " 'seaborn-paper',\n",
       " 'bmh',\n",
       " 'seaborn-white',\n",
       " 'dark_background',\n",
       " 'seaborn-poster',\n",
       " 'seaborn-deep']"
      ]
     },
     "execution_count": 5,
     "metadata": {},
     "output_type": "execute_result"
    }
   ],
   "source": [
    "# matplotlib 설치 된 스타일 템플릿 \n",
    "plt.style.available"
   ]
  },
  {
   "cell_type": "code",
   "execution_count": 6,
   "metadata": {},
   "outputs": [
    {
     "data": {
      "text/plain": [
       "array([ 94,  18,   3,  77,   0,  22,  75, 123, 220, 121, 113, 205, 174,\n",
       "        87,  68, 150, 138,  46,  42,  28,  58,  90, 144, 192, 218, 265,\n",
       "       280, 357, 391, 429, 446, 525, 429, 330, 350, 421, 413, 330, 275,\n",
       "       210, 237, 268, 184, 200, 289, 209, 176, 108, 139, 225])"
      ]
     },
     "execution_count": 6,
     "metadata": {},
     "output_type": "execute_result"
    }
   ],
   "source": [
    "import numpy as np\n",
    "\n",
    "data = np.random.randint(-100, 100, 50).cumsum()\n",
    "data"
   ]
  },
  {
   "cell_type": "code",
   "execution_count": 7,
   "metadata": {},
   "outputs": [
    {
     "name": "stdout",
     "output_type": "stream",
     "text": [
      "197\n"
     ]
    },
    {
     "data": {
      "text/plain": [
       "['/System/Library/Fonts/SFCompactText-RegularItalic.otf',\n",
       " '/System/Library/Fonts/SFNSDisplayCondensed-Black.otf',\n",
       " '/System/Library/Fonts/SFCompactRounded-Light.otf',\n",
       " '/System/Library/Fonts/SFCompactDisplay-Semibold.otf',\n",
       " '/Library/Fonts/Microsoft Sans Serif.ttf',\n",
       " '/Library/Fonts/Times New Roman.ttf',\n",
       " '/System/Library/Fonts/SFCompactRounded-Bold.otf',\n",
       " '/Library/Fonts/STIXNonUniBolIta.otf',\n",
       " '/Library/Fonts/Courier New Bold.ttf',\n",
       " '/Library/Fonts/Arial Bold Italic.ttf']"
      ]
     },
     "execution_count": 7,
     "metadata": {},
     "output_type": "execute_result"
    }
   ],
   "source": [
    "import matplotlib.font_manager as font_manager\n",
    "\n",
    "font_list = font_manager.findSystemFonts(fontpaths=None, fontext='ttf')\n",
    "\n",
    "# 전체개수\n",
    "print(len(font_list)) \n",
    "\n",
    "# 처음 10개만 출력\n",
    "font_list[:10] "
   ]
  },
  {
   "cell_type": "code",
   "execution_count": 8,
   "metadata": {},
   "outputs": [
    {
     "name": "stdout",
     "output_type": "stream",
     "text": [
      "197\n"
     ]
    },
    {
     "data": {
      "text/plain": [
       "['cmsy10',\n",
       " 'DejaVu Sans',\n",
       " 'STIXSizeThreeSym',\n",
       " 'DejaVu Sans Display',\n",
       " 'DejaVu Sans Mono',\n",
       " 'STIXNonUnicode',\n",
       " 'STIXNonUnicode',\n",
       " 'cmr10',\n",
       " 'DejaVu Sans',\n",
       " 'DejaVu Sans Mono']"
      ]
     },
     "execution_count": 8,
     "metadata": {},
     "output_type": "execute_result"
    }
   ],
   "source": [
    "import matplotlib\n",
    "import matplotlib.font_manager\n",
    "\n",
    "f = [f.name for f in matplotlib.font_manager.fontManager.ttflist]\n",
    "print(len(font_list))\n",
    "\n",
    "f[:10]"
   ]
  },
  {
   "cell_type": "code",
   "execution_count": 9,
   "metadata": {},
   "outputs": [
    {
     "data": {
      "text/plain": [
       "['cmsy10',\n",
       " 'DejaVu Sans',\n",
       " 'STIXSizeThreeSym',\n",
       " 'DejaVu Sans Display',\n",
       " 'DejaVu Sans Mono',\n",
       " 'STIXNonUnicode',\n",
       " 'STIXNonUnicode',\n",
       " 'cmr10',\n",
       " 'DejaVu Sans',\n",
       " 'DejaVu Sans Mono',\n",
       " 'STIXGeneral',\n",
       " 'DejaVu Sans Mono',\n",
       " 'DejaVu Serif',\n",
       " 'STIXSizeFourSym',\n",
       " 'STIXSizeTwoSym',\n",
       " 'STIXSizeFourSym',\n",
       " 'DejaVu Serif',\n",
       " 'cmss10',\n",
       " 'DejaVu Serif',\n",
       " 'STIXNonUnicode',\n",
       " 'STIXGeneral',\n",
       " 'STIXSizeThreeSym',\n",
       " 'STIXSizeFiveSym',\n",
       " 'cmtt10',\n",
       " 'STIXGeneral',\n",
       " 'cmex10',\n",
       " 'DejaVu Sans',\n",
       " 'DejaVu Sans Mono',\n",
       " 'cmmi10',\n",
       " 'STIXNonUnicode',\n",
       " 'DejaVu Serif Display',\n",
       " 'DejaVu Sans',\n",
       " 'STIXSizeTwoSym',\n",
       " 'STIXSizeOneSym',\n",
       " 'STIXSizeOneSym',\n",
       " 'STIXGeneral',\n",
       " 'cmb10',\n",
       " 'DejaVu Serif',\n",
       " 'DIN Condensed',\n",
       " 'Luminari',\n",
       " 'Mishafi Gold',\n",
       " '.SF Compact Text',\n",
       " 'Georgia',\n",
       " 'Webdings',\n",
       " 'STIXNonUnicode',\n",
       " 'Lao Sangam MN',\n",
       " 'Arial Black',\n",
       " '.SF Compact Rounded',\n",
       " 'Georgia',\n",
       " 'System Font',\n",
       " 'Herculanum',\n",
       " 'Bodoni 72 Smallcaps',\n",
       " '.SF Compact Text',\n",
       " '.SF NS Display Condensed',\n",
       " 'Microsoft Sans Serif',\n",
       " 'Times New Roman',\n",
       " 'NanumGothicOTF',\n",
       " 'STIXIntegralsUpSm',\n",
       " '.SF Compact Text',\n",
       " '.SF Compact Text',\n",
       " 'System Font',\n",
       " 'NanumBarunGothicOTF',\n",
       " 'Nanum Pen Script OTF',\n",
       " '.SF Compact Text',\n",
       " '.SF NS Display Condensed',\n",
       " 'STIXIntegralsUpSm',\n",
       " 'Andale Mono',\n",
       " 'System Font',\n",
       " '.SF Compact Text',\n",
       " 'System Font',\n",
       " 'STIXVariants',\n",
       " 'NanumSquareOTF',\n",
       " 'STIXIntegralsUpD',\n",
       " 'Comic Sans MS',\n",
       " 'Big Caslon',\n",
       " '.SF NS Text Condensed',\n",
       " '.SF Compact Display',\n",
       " '.SF Compact Rounded',\n",
       " 'STIXGeneral',\n",
       " 'Arial Unicode MS',\n",
       " 'Arial Narrow',\n",
       " 'NanumGothicOTF',\n",
       " 'Courier New',\n",
       " 'Apple Braille',\n",
       " 'Ayuthaya',\n",
       " 'NanumMyeongjoOTF',\n",
       " 'Georgia',\n",
       " '.SF Compact Display',\n",
       " 'System Font',\n",
       " '.SF Compact Display',\n",
       " '.SF NS Text Condensed',\n",
       " 'Arial',\n",
       " 'STIXIntegralsSm',\n",
       " 'Tahoma',\n",
       " 'Zapf Dingbats',\n",
       " '.SF Compact Text',\n",
       " '.SF Compact Rounded',\n",
       " 'STIXSizeTwoSym',\n",
       " 'Arial Narrow',\n",
       " '.SF NS Display Condensed',\n",
       " 'Bradley Hand',\n",
       " 'NanumBarunpen',\n",
       " 'STIXSizeFiveSym',\n",
       " 'STIXVariants',\n",
       " '.SF NS Display Condensed',\n",
       " 'Courier New',\n",
       " 'Arial',\n",
       " 'NanumBarunpen',\n",
       " '.SF Compact Text',\n",
       " 'Verdana',\n",
       " 'Georgia',\n",
       " '.SF Compact Display',\n",
       " 'NanumBarunGothicOTF',\n",
       " 'Trebuchet MS',\n",
       " 'Wingdings 2',\n",
       " 'Plantagenet Cherokee',\n",
       " '.SF Compact Rounded',\n",
       " 'Farisi',\n",
       " 'NanumSquareRoundOTF',\n",
       " 'NanumBarunGothicOTF',\n",
       " 'STIXGeneral',\n",
       " 'System Font',\n",
       " 'STIXSizeFourSym',\n",
       " 'STIXGeneral',\n",
       " 'STIXIntegralsD',\n",
       " 'Apple Braille',\n",
       " '.SF NS Text Condensed',\n",
       " 'Zapfino',\n",
       " 'System Font',\n",
       " 'Wingdings 3',\n",
       " 'NanumBarunGothic',\n",
       " 'NanumBarunGothic',\n",
       " 'DIN Alternate',\n",
       " 'Courier New',\n",
       " 'Arial Narrow',\n",
       " 'Trebuchet MS',\n",
       " 'System Font',\n",
       " 'AppleMyungjo',\n",
       " 'NanumGothicOTF',\n",
       " 'STIXIntegralsD',\n",
       " 'Apple Braille',\n",
       " 'Arial',\n",
       " 'Tahoma',\n",
       " 'Krungthep',\n",
       " '.SF NS Display Condensed',\n",
       " 'Symbol',\n",
       " '.SF Compact Text',\n",
       " 'STIXSizeTwoSym',\n",
       " 'NanumBarunGothic',\n",
       " 'STIXNonUnicode',\n",
       " 'Arial Rounded MT Bold',\n",
       " 'Skia',\n",
       " 'Arial Narrow',\n",
       " 'Bodoni Ornaments',\n",
       " 'Gurmukhi MT',\n",
       " 'STIXSizeOneSym',\n",
       " '.SF Compact Rounded',\n",
       " '.SF NS Text Condensed',\n",
       " '.SF Compact Text',\n",
       " '.SF NS Display Condensed',\n",
       " 'STIXNonUnicode',\n",
       " '.SF Compact Display',\n",
       " 'NanumSquareOTF',\n",
       " 'STIXIntegralsUpD',\n",
       " 'Khmer Sangam MN',\n",
       " 'NanumBarunGothicOTF',\n",
       " 'System Font',\n",
       " 'NanumSquareOTF',\n",
       " 'Arial',\n",
       " '.SF NS Display Condensed',\n",
       " 'STIXIntegralsSm',\n",
       " 'Apple Braille',\n",
       " '.Keyboard',\n",
       " '.SF Compact Display',\n",
       " '.SF Compact Rounded',\n",
       " '.SF NS Display Condensed',\n",
       " 'Kokonor',\n",
       " 'Verdana',\n",
       " '.SF Compact Display',\n",
       " 'Times New Roman',\n",
       " 'Verdana',\n",
       " '.SF Compact Rounded',\n",
       " '.SF Compact Text',\n",
       " '.SF Compact Rounded',\n",
       " 'Diwan Thuluth',\n",
       " 'Brush Script MT',\n",
       " 'STIXGeneral',\n",
       " 'NanumGothicOTF',\n",
       " 'Impact',\n",
       " 'NanumBarunGothic',\n",
       " '.SF NS Text Condensed',\n",
       " 'Apple Symbols',\n",
       " '.SF Compact Text',\n",
       " 'Verdana',\n",
       " 'NanumSquareRoundOTF',\n",
       " '.SF Compact Rounded',\n",
       " '.SF NS Display Condensed',\n",
       " '.SF NS Text Condensed',\n",
       " 'Mishafi',\n",
       " 'STIXIntegralsUp',\n",
       " 'Courier New',\n",
       " 'System Font',\n",
       " '.SF Compact Display',\n",
       " 'AppleGothic',\n",
       " 'Apple Chancery',\n",
       " 'Sathu',\n",
       " 'Trattatello',\n",
       " 'Wingdings',\n",
       " 'STIXSizeFourSym',\n",
       " 'System Font',\n",
       " 'Silom',\n",
       " 'Nanum Brush Script OTF',\n",
       " 'NanumSquareOTF',\n",
       " 'NanumSquareRoundOTF',\n",
       " 'System Font',\n",
       " 'Chalkduster',\n",
       " '.SF Compact Display',\n",
       " 'Apple Braille',\n",
       " 'NanumSquareRoundOTF',\n",
       " 'Trebuchet MS',\n",
       " 'STIXSizeOneSym',\n",
       " 'STIXNonUnicode',\n",
       " 'Hoefler Text',\n",
       " 'STIXSizeThreeSym',\n",
       " '.LastResort',\n",
       " 'Times New Roman',\n",
       " 'Comic Sans MS',\n",
       " 'NanumMyeongjoOTF',\n",
       " 'System Font',\n",
       " 'Trebuchet MS',\n",
       " 'STIXSizeThreeSym',\n",
       " 'STIXIntegralsUp',\n",
       " 'NanumMyeongjoOTF',\n",
       " 'Times New Roman']"
      ]
     },
     "execution_count": 9,
     "metadata": {},
     "output_type": "execute_result"
    }
   ],
   "source": [
    "import matplotlib\n",
    "import matplotlib.font_manager\n",
    "\n",
    "[f.name for f in matplotlib.font_manager.fontManager.ttflist if '' in f.name]"
   ]
  },
  {
   "cell_type": "code",
   "execution_count": 10,
   "metadata": {},
   "outputs": [
    {
     "data": {
      "text/plain": [
       "[]"
      ]
     },
     "execution_count": 10,
     "metadata": {},
     "output_type": "execute_result"
    }
   ],
   "source": [
    "matplotlib.font_manager.get_fontconfig_fonts()"
   ]
  },
  {
   "cell_type": "code",
   "execution_count": 11,
   "metadata": {},
   "outputs": [
    {
     "data": {
      "text/plain": [
       "[('NanumGothicOTF', '/Library/Fonts/NanumGothicLight.otf'),\n",
       " ('NanumBarunGothicOTF', '/Library/Fonts/NanumBarunGothicUltraLight.otf'),\n",
       " ('Nanum Pen Script OTF', '/Library/Fonts/NanumPen.otf'),\n",
       " ('NanumSquareOTF', '/Library/Fonts/NanumSquareOTFBold.otf'),\n",
       " ('NanumGothicOTF', '/Library/Fonts/NanumGothicBold.otf'),\n",
       " ('NanumMyeongjoOTF', '/Library/Fonts/NanumMyeongjo.otf'),\n",
       " ('NanumBarunpen', '/Library/Fonts/NanumBarunpenBold.otf'),\n",
       " ('NanumBarunpen', '/Library/Fonts/NanumBarunpenRegular.otf'),\n",
       " ('NanumBarunGothicOTF', '/Library/Fonts/NanumBarunGothicBold.otf'),\n",
       " ('NanumSquareRoundOTF', '/Library/Fonts/NanumSquareRoundOTFB.otf'),\n",
       " ('NanumBarunGothicOTF', '/Library/Fonts/NanumBarunGothicLight.otf'),\n",
       " ('NanumBarunGothic', '/Library/Fonts/NanumBarunGothic.ttf'),\n",
       " ('NanumBarunGothic', '/Library/Fonts/NanumBarunGothicLight.ttf'),\n",
       " ('NanumGothicOTF', '/Library/Fonts/NanumGothic.otf'),\n",
       " ('NanumBarunGothic', '/Library/Fonts/NanumBarunGothicBold.ttf'),\n",
       " ('NanumSquareOTF', '/Library/Fonts/NanumSquareOTFRegular.otf'),\n",
       " ('NanumBarunGothicOTF', '/Library/Fonts/NanumBarunGothic.otf'),\n",
       " ('NanumSquareOTF', '/Library/Fonts/NanumSquareOTFExtraBold.otf'),\n",
       " ('NanumGothicOTF', '/Library/Fonts/NanumGothicExtraBold.otf'),\n",
       " ('NanumBarunGothic', '/Library/Fonts/NanumBarunGothicUltraLight.ttf'),\n",
       " ('NanumSquareRoundOTF', '/Library/Fonts/NanumSquareRoundOTFEB.otf'),\n",
       " ('Nanum Brush Script OTF', '/Library/Fonts/NanumBrush.otf'),\n",
       " ('NanumSquareOTF', '/Library/Fonts/NanumSquareOTFLight.otf'),\n",
       " ('NanumSquareRoundOTF', '/Library/Fonts/NanumSquareRoundOTFL.otf'),\n",
       " ('NanumSquareRoundOTF', '/Library/Fonts/NanumSquareRoundOTFR.otf'),\n",
       " ('NanumMyeongjoOTF', '/Library/Fonts/NanumMyeongjoBold.otf'),\n",
       " ('NanumMyeongjoOTF', '/Library/Fonts/NanumMyeongjoExtraBold.otf')]"
      ]
     },
     "execution_count": 11,
     "metadata": {},
     "output_type": "execute_result"
    }
   ],
   "source": [
    "# 설치 된 나눔고딕 관련 폰트를 가져옴\n",
    "[(f.name, f.fname) for f in matplotlib.font_manager.fontManager.ttflist if 'Nanum' in f.name]"
   ]
  },
  {
   "cell_type": "code",
   "execution_count": 12,
   "metadata": {},
   "outputs": [
    {
     "data": {
      "image/png": "[encoded data removed]",
      "text/plain": [
       "<matplotlib.figure.Figure at 0x10f433518>"
      ]
     },
     "metadata": {},
     "output_type": "display_data"
    }
   ],
   "source": [
    "path = '/Library/Fonts/NanumBarunGothicLight.otf'\n",
    "fontprop = fm.FontProperties(fname=path, size=18)\n",
    "\n",
    "plt.plot(range(50), data, 'r')\n",
    "plt.title('가격변동 추이', fontproperties=fontprop)\n",
    "plt.ylabel('가격', fontproperties=fontprop)\n",
    "plt.show()"
   ]
  },
  {
   "cell_type": "code",
   "execution_count": 13,
   "metadata": {},
   "outputs": [
    {
     "data": {
      "image/png": "[encoded data removed]",
      "text/plain": [
       "<matplotlib.figure.Figure at 0x10f4e3358>"
      ]
     },
     "metadata": {},
     "output_type": "display_data"
    }
   ],
   "source": [
    "path = '/Library/Fonts/NanumBrush.otf'\n",
    "prop = fm.FontProperties(fname=path, size=28)\n",
    "\n",
    "fig, ax = plt.subplots()\n",
    "ax.plot(data)\n",
    "ax.set_title('가격 변화 (나눔붓체)', fontproperties=prop)\n",
    "plt.style.use('ggplot')\n",
    "plt.show()"
   ]
  },
  {
   "cell_type": "markdown",
   "metadata": {},
   "source": [
    "## 전역 글꼴 설정: matplotlib.rcParams[]\n",
    "[Customizing matplotlib — Matplotlib 2.0.2 documentation](https://matplotlib.org/users/customizing.html)"
   ]
  },
  {
   "cell_type": "code",
   "execution_count": 14,
   "metadata": {},
   "outputs": [
    {
     "name": "stdout",
     "output_type": "stream",
     "text": [
      "10.0\n",
      "['sans-serif']\n"
     ]
    }
   ],
   "source": [
    "# 기본 설정 읽기\n",
    "import matplotlib.pyplot as plt\n",
    "\n",
    "# size, family\n",
    "print (plt.rcParams['font.size'] ) \n",
    "print (plt.rcParams['font.family'] )"
   ]
  },
  {
   "cell_type": "code",
   "execution_count": 15,
   "metadata": {},
   "outputs": [
    {
     "name": "stdout",
     "output_type": "stream",
     "text": [
      "['DejaVu Serif', 'Bitstream Vera Serif', 'Computer Modern Roman', 'New Century Schoolbook', 'Century Schoolbook L', 'Utopia', 'ITC Bookman', 'Bookman', 'Nimbus Roman No9 L', 'Times New Roman', 'Times', 'Palatino', 'Charter', 'serif']\n",
      "['DejaVu Sans', 'Bitstream Vera Sans', 'Computer Modern Sans Serif', 'Lucida Grande', 'Verdana', 'Geneva', 'Lucid', 'Arial', 'Helvetica', 'Avant Garde', 'sans-serif']\n",
      "['DejaVu Sans Mono', 'Bitstream Vera Sans Mono', 'Computer Modern Typewriter', 'Andale Mono', 'Nimbus Mono L', 'Courier New', 'Courier', 'Fixed', 'Terminal', 'monospace']\n"
     ]
    }
   ],
   "source": [
    "# serif, sans-serif, monospace\n",
    "print (plt.rcParams['font.serif']) \n",
    "print (plt.rcParams['font.sans-serif']) \n",
    "print (plt.rcParams['font.monospace']) "
   ]
  },
  {
   "cell_type": "code",
   "execution_count": null,
   "metadata": {},
   "outputs": [],
   "source": []
  },
  {
   "cell_type": "code",
   "execution_count": null,
   "metadata": {},
   "outputs": [],
   "source": []
  }
 ],
 "metadata": {
  "kernelspec": {
   "display_name": "Python 3",
   "language": "python",
   "name": "python3"
  },
  "language_info": {
   "codemirror_mode": {
    "name": "ipython",
    "version": 3
   },
   "file_extension": ".py",
   "mimetype": "text/x-python",
   "name": "python",
   "nbconvert_exporter": "python",
   "pygments_lexer": "ipython3",
   "version": "3.6.1"
  }
 },
 "nbformat": 4,
 "nbformat_minor": 2
}
