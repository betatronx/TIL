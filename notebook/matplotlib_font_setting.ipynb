{
 "cells": [
  {
   "cell_type": "markdown",
   "metadata": {},
   "source": [
    "출처 : https://financedata.github.io/posts/matplotlib-hangul-for-osx.html"
   ]
  },
  {
   "cell_type": "code",
   "execution_count": 1,
   "metadata": {},
   "outputs": [
    {
     "data": {
      "text/plain": [
       "'Darwin-17.2.0-x86_64-i386-64bit'"
      ]
     },
     "execution_count": 1,
     "metadata": {},
     "output_type": "execute_result"
    }
   ],
   "source": [
    "import platform\n",
    "platform.platform()"
   ]
  },
  {
   "cell_type": "code",
   "execution_count": 2,
   "metadata": {},
   "outputs": [
    {
     "data": {
      "text/plain": [
       "sys.version_info(major=3, minor=6, micro=1, releaselevel='final', serial=0)"
      ]
     },
     "execution_count": 2,
     "metadata": {},
     "output_type": "execute_result"
    }
   ],
   "source": [
    "import sys\n",
    "sys.version_info"
   ]
  },
  {
   "cell_type": "code",
   "execution_count": 3,
   "metadata": {},
   "outputs": [],
   "source": [
    "import matplotlib\n",
    "\n",
    "# print ('버전: ', matplotlib.__version__)\n",
    "# print ('설치위치: ', matplotlib.__file__)\n",
    "# print ('설정: ', matplotlib.get_configdir())\n",
    "# print ('캐시: ', matplotlib.get_cachedir())"
   ]
  },
  {
   "cell_type": "code",
   "execution_count": 4,
   "metadata": {},
   "outputs": [
    {
     "data": {
      "text/plain": [
       "array([  85,   50,  -18,  -93,  -71,  -71, -110, -135,  -62,  -91, -135,\n",
       "        -66, -160, -158,  -86,    2,  -98, -107, -188, -206, -160, -231,\n",
       "       -318, -357, -387, -484, -460, -391, -324, -318, -415, -412, -389,\n",
       "       -331, -321, -381, -356, -423, -436, -338, -332, -310, -406, -497,\n",
       "       -534, -472, -533, -561, -499, -494])"
      ]
     },
     "execution_count": 4,
     "metadata": {},
     "output_type": "execute_result"
    }
   ],
   "source": [
    "import numpy as np\n",
    "\n",
    "data = np.random.randint(-100, 100, 50).cumsum()\n",
    "data"
   ]
  },
  {
   "cell_type": "code",
   "execution_count": 5,
   "metadata": {},
   "outputs": [
    {
     "name": "stdout",
     "output_type": "stream",
     "text": [
      "193\n"
     ]
    },
    {
     "data": {
      "text/plain": [
       "['/Library/Fonts/NanumBarunGothicLight.otf',\n",
       " '/Library/Fonts/NanumSquareRoundOTFB.otf',\n",
       " '/System/Library/Fonts/Apple Braille.ttf',\n",
       " '/System/Library/Fonts/ZapfDingbats.ttf',\n",
       " '/Library/Fonts/Comic Sans MS Bold.ttf',\n",
       " '/Library/Fonts/NanumSquareRoundOTFR.otf',\n",
       " '/System/Library/Fonts/SFNSDisplay-UltralightItalic.otf',\n",
       " '/Library/Fonts/STIXIntUpDReg.otf',\n",
       " '/Library/Fonts/Apple Chancery.ttf',\n",
       " '/System/Library/Fonts/SFCompactText-Semibold.otf']"
      ]
     },
     "execution_count": 5,
     "metadata": {},
     "output_type": "execute_result"
    }
   ],
   "source": [
    "import matplotlib.font_manager as font_manager\n",
    "\n",
    "font_list = font_manager.findSystemFonts(fontpaths=None, fontext='ttf')\n",
    "\n",
    "# 전체개수\n",
    "print(len(font_list)) \n",
    "\n",
    "# 처음 10개만 출력\n",
    "font_list[:10] "
   ]
  },
  {
   "cell_type": "code",
   "execution_count": 6,
   "metadata": {},
   "outputs": [
    {
     "name": "stdout",
     "output_type": "stream",
     "text": [
      "193\n"
     ]
    },
    {
     "data": {
      "text/plain": [
       "['cmss10',\n",
       " 'DejaVu Sans',\n",
       " 'DejaVu Sans Mono',\n",
       " 'cmtt10',\n",
       " 'STIXGeneral',\n",
       " 'STIXGeneral',\n",
       " 'DejaVu Serif',\n",
       " 'DejaVu Serif Display',\n",
       " 'STIXSizeTwoSym',\n",
       " 'STIXSizeOneSym']"
      ]
     },
     "execution_count": 6,
     "metadata": {},
     "output_type": "execute_result"
    }
   ],
   "source": [
    "import matplotlib\n",
    "import matplotlib.font_manager\n",
    "\n",
    "f = [f.name for f in matplotlib.font_manager.fontManager.ttflist]\n",
    "print(len(font_list))\n",
    "\n",
    "f[:10]"
   ]
  },
  {
   "cell_type": "code",
   "execution_count": 7,
   "metadata": {},
   "outputs": [
    {
     "data": {
      "text/plain": [
       "['cmss10',\n",
       " 'DejaVu Sans',\n",
       " 'DejaVu Sans Mono',\n",
       " 'cmtt10',\n",
       " 'STIXGeneral',\n",
       " 'STIXGeneral',\n",
       " 'DejaVu Serif',\n",
       " 'DejaVu Serif Display',\n",
       " 'STIXSizeTwoSym',\n",
       " 'STIXSizeOneSym',\n",
       " 'cmsy10',\n",
       " 'cmex10',\n",
       " 'DejaVu Sans Mono',\n",
       " 'STIXSizeOneSym',\n",
       " 'DejaVu Sans Mono',\n",
       " 'STIXSizeFourSym',\n",
       " 'STIXNonUnicode',\n",
       " 'STIXSizeFiveSym',\n",
       " 'DejaVu Sans',\n",
       " 'cmb10',\n",
       " 'STIXGeneral',\n",
       " 'DejaVu Sans',\n",
       " 'STIXNonUnicode',\n",
       " 'DejaVu Serif',\n",
       " 'DejaVu Sans Mono',\n",
       " 'STIXNonUnicode',\n",
       " 'DejaVu Serif',\n",
       " 'STIXSizeTwoSym',\n",
       " 'DejaVu Sans Display',\n",
       " 'cmmi10',\n",
       " 'STIXNonUnicode',\n",
       " 'cmr10',\n",
       " 'DejaVu Serif',\n",
       " 'STIXSizeThreeSym',\n",
       " 'STIXSizeThreeSym',\n",
       " 'STIXSizeFourSym',\n",
       " 'STIXGeneral',\n",
       " 'DejaVu Sans',\n",
       " 'Apple SD Gothic Neo',\n",
       " 'STIXIntegralsUp',\n",
       " 'STIXGeneral',\n",
       " 'Apple Braille',\n",
       " 'Apple SD Gothic Neo',\n",
       " 'YuGothic',\n",
       " 'Hiragino Maru Gothic ProN',\n",
       " 'STIXNonUnicode',\n",
       " 'Weibei SC',\n",
       " 'STIXSizeThreeSym',\n",
       " 'Farisi',\n",
       " 'STIXIntegralsD',\n",
       " 'STIXSizeTwoSym',\n",
       " 'Hiragino Kaku Gothic ProN',\n",
       " 'Arial Unicode MS',\n",
       " 'Webdings',\n",
       " 'Wawati SC',\n",
       " 'Apple SD Gothic Neo',\n",
       " 'Georgia',\n",
       " 'Hiragino Mincho ProN',\n",
       " 'Osaka',\n",
       " 'Arial Narrow',\n",
       " 'Hiragino Kaku Gothic Pro',\n",
       " 'Kokonor',\n",
       " 'STIXSizeThreeSym',\n",
       " 'Apple SD Gothic Neo',\n",
       " 'Courier New',\n",
       " 'Hiragino Mincho Pro',\n",
       " 'Georgia',\n",
       " 'Impact',\n",
       " 'Luminari',\n",
       " 'Arial',\n",
       " 'Wawati TC',\n",
       " 'Zapfino',\n",
       " 'Arial Narrow',\n",
       " 'Hiragino Kaku Gothic StdN',\n",
       " 'LastResort',\n",
       " 'Arial',\n",
       " 'STIXSizeFourSym',\n",
       " 'Gurmukhi MT',\n",
       " 'Brush Script MT',\n",
       " 'Times New Roman',\n",
       " '.Hiragino Kaku Gothic Interface',\n",
       " 'Apple Braille',\n",
       " 'Comic Sans MS',\n",
       " 'Tahoma',\n",
       " 'Hiragino Kaku Gothic ProN',\n",
       " 'Hiragino Maru Gothic Pro',\n",
       " 'STIXIntegralsUpD',\n",
       " 'Times New Roman',\n",
       " 'Times New Roman',\n",
       " 'HeadLineA',\n",
       " 'Times New Roman',\n",
       " 'STIXSizeOneSym',\n",
       " 'Weibei TC',\n",
       " 'Trebuchet MS',\n",
       " 'Apple Braille',\n",
       " 'Courier New',\n",
       " 'Kailasa',\n",
       " 'LiHei Pro',\n",
       " 'Trebuchet MS',\n",
       " 'STIXGeneral',\n",
       " 'Hiragino Kaku Gothic Pro',\n",
       " 'Arial Rounded MT Bold',\n",
       " 'Apple SD Gothic Neo',\n",
       " 'DIN Condensed',\n",
       " 'STIXIntegralsSm',\n",
       " 'Verdana',\n",
       " 'Bodoni Ornaments',\n",
       " 'Trattatello',\n",
       " 'Mishafi',\n",
       " 'STIXSizeTwoSym',\n",
       " 'Arial',\n",
       " 'Mshtakan',\n",
       " 'Sathu',\n",
       " 'STIXSizeOneSym',\n",
       " 'Osaka',\n",
       " 'Gujarati MT',\n",
       " 'Apple SD Gothic Neo',\n",
       " 'Herculanum',\n",
       " 'InaiMathi',\n",
       " '.Keyboard',\n",
       " 'STIXVariants',\n",
       " 'Yuppy TC',\n",
       " 'Arial Narrow',\n",
       " 'Khmer Sangam MN',\n",
       " 'Hiragino Mincho ProN',\n",
       " 'Apple Braille',\n",
       " 'Apple Chancery',\n",
       " 'Lao Sangam MN',\n",
       " 'Plantagenet Cherokee',\n",
       " 'Hiragino Kaku Gothic Std',\n",
       " 'Wingdings 3',\n",
       " 'Apple SD Gothic Neo',\n",
       " 'Andale Mono',\n",
       " 'Skia',\n",
       " 'STIXIntegralsUpSm',\n",
       " 'Trebuchet MS',\n",
       " 'Comic Sans MS',\n",
       " 'Verdana',\n",
       " 'Apple SD Gothic Neo',\n",
       " 'YuGothic',\n",
       " 'PilGi',\n",
       " 'Big Caslon',\n",
       " 'PCMyungjo',\n",
       " 'SignPainter',\n",
       " 'Silom',\n",
       " 'Myanmar Sangam MN',\n",
       " 'Hiragino Sans GB',\n",
       " 'Zapf Dingbats',\n",
       " 'Mshtakan',\n",
       " 'Verdana',\n",
       " 'DIN Alternate',\n",
       " 'Symbol',\n",
       " 'YuMincho',\n",
       " 'LiSong Pro',\n",
       " 'Mshtakan',\n",
       " 'STIXGeneral',\n",
       " 'STIXIntegralsD',\n",
       " 'Arial Narrow',\n",
       " 'Bradley Hand',\n",
       " 'STIXIntegralsUpSm',\n",
       " 'Chalkduster',\n",
       " 'Georgia',\n",
       " 'Microsoft Sans Serif',\n",
       " 'STIXIntegralsUp',\n",
       " 'Hiragino Mincho Pro',\n",
       " 'Apple Braille',\n",
       " 'Courier New',\n",
       " 'STFangsong',\n",
       " 'GungSeo',\n",
       " 'YuMincho',\n",
       " 'STIXVariants',\n",
       " 'STHeiti',\n",
       " 'Krungthep',\n",
       " 'Mshtakan',\n",
       " 'Hiragino Sans GB',\n",
       " 'STIXGeneral',\n",
       " 'STIXIntegralsSm',\n",
       " 'Wingdings 2',\n",
       " 'Arial',\n",
       " 'Wingdings',\n",
       " 'Verdana',\n",
       " 'Gujarati MT',\n",
       " 'AppleMyungjo',\n",
       " 'Apple SD Gothic Neo',\n",
       " 'STIXNonUnicode',\n",
       " 'AppleGothic',\n",
       " 'Yuppy SC',\n",
       " 'Arial Black',\n",
       " 'Diwan Thuluth',\n",
       " 'STHeiti',\n",
       " 'Georgia',\n",
       " 'STIXNonUnicode',\n",
       " 'Courier New',\n",
       " 'Tahoma',\n",
       " 'Hoefler Text',\n",
       " '.Hiragino Kaku Gothic Interface',\n",
       " 'STIXSizeFourSym',\n",
       " 'STIXNonUnicode',\n",
       " 'Ayuthaya',\n",
       " 'Bodoni 72 Smallcaps',\n",
       " 'Trebuchet MS',\n",
       " 'STIXIntegralsUpD',\n",
       " 'Mishafi Gold',\n",
       " 'STIXSizeFiveSym']"
      ]
     },
     "execution_count": 7,
     "metadata": {},
     "output_type": "execute_result"
    }
   ],
   "source": [
    "import matplotlib\n",
    "import matplotlib.font_manager\n",
    "\n",
    "[f.name for f in matplotlib.font_manager.fontManager.ttflist if '' in f.name]"
   ]
  },
  {
   "cell_type": "code",
   "execution_count": 8,
   "metadata": {},
   "outputs": [
    {
     "data": {
      "text/plain": [
       "[]"
      ]
     },
     "execution_count": 8,
     "metadata": {},
     "output_type": "execute_result"
    }
   ],
   "source": [
    "matplotlib.font_manager.get_fontconfig_fonts()"
   ]
  },
  {
   "cell_type": "code",
   "execution_count": 9,
   "metadata": {},
   "outputs": [
    {
     "data": {
      "text/plain": [
       "[]"
      ]
     },
     "execution_count": 9,
     "metadata": {},
     "output_type": "execute_result"
    }
   ],
   "source": [
    "[(f.name, f.fname) for f in matplotlib.font_manager.fontManager.ttflist if 'Nanum' in f.name]"
   ]
  },
  {
   "cell_type": "code",
   "execution_count": 10,
   "metadata": {},
   "outputs": [
    {
     "data": {
      "image/png": "[encoded data removed]",
      "text/plain": [
       "<matplotlib.figure.Figure at 0x10e8c6630>"
      ]
     },
     "metadata": {},
     "output_type": "display_data"
    }
   ],
   "source": [
    "import matplotlib.pyplot as plt\n",
    "import matplotlib.font_manager as fm\n",
    "\n",
    "path = '/Library/Fonts/NanumMyeongjo.otf'\n",
    "fontprop = fm.FontProperties(fname=path, size=18)\n",
    "\n",
    "plt.plot(range(50), data, 'r')\n",
    "plt.title('가격변동 추이', fontproperties=fontprop)\n",
    "plt.ylabel('가격', fontproperties=fontprop)\n",
    "plt.show()"
   ]
  },
  {
   "cell_type": "code",
   "execution_count": 11,
   "metadata": {},
   "outputs": [
    {
     "data": {
      "image/png": "[encoded data removed]",
      "text/plain": [
       "<matplotlib.figure.Figure at 0x10e8c6588>"
      ]
     },
     "metadata": {},
     "output_type": "display_data"
    }
   ],
   "source": [
    "path = '/Library/Fonts/NanumBrush.otf'\n",
    "prop = fm.FontProperties(fname=path, size=28)\n",
    "\n",
    "fig, ax = plt.subplots()\n",
    "ax.plot(data)\n",
    "ax.set_title('가격 변화 (나눔붓체)', fontproperties=prop)\n",
    "\n",
    "plt.show()"
   ]
  },
  {
   "cell_type": "markdown",
   "metadata": {},
   "source": [
    "## 전역 글꼴 설정: matplotlib.rcParams[]\n",
    "[Customizing matplotlib — Matplotlib 2.0.2 documentation](https://matplotlib.org/users/customizing.html)"
   ]
  },
  {
   "cell_type": "code",
   "execution_count": 12,
   "metadata": {},
   "outputs": [
    {
     "name": "stdout",
     "output_type": "stream",
     "text": [
      "10.0\n",
      "['sans-serif']\n"
     ]
    }
   ],
   "source": [
    "# 기본 설정 읽기\n",
    "import matplotlib.pyplot as plt\n",
    "\n",
    "# size, family\n",
    "print (plt.rcParams['font.size'] ) \n",
    "print (plt.rcParams['font.family'] )"
   ]
  },
  {
   "cell_type": "code",
   "execution_count": 13,
   "metadata": {},
   "outputs": [
    {
     "name": "stdout",
     "output_type": "stream",
     "text": [
      "['DejaVu Serif', 'Bitstream Vera Serif', 'Computer Modern Roman', 'New Century Schoolbook', 'Century Schoolbook L', 'Utopia', 'ITC Bookman', 'Bookman', 'Nimbus Roman No9 L', 'Times New Roman', 'Times', 'Palatino', 'Charter', 'serif']\n",
      "['DejaVu Sans', 'Bitstream Vera Sans', 'Computer Modern Sans Serif', 'Lucida Grande', 'Verdana', 'Geneva', 'Lucid', 'Arial', 'Helvetica', 'Avant Garde', 'sans-serif']\n",
      "['DejaVu Sans Mono', 'Bitstream Vera Sans Mono', 'Computer Modern Typewriter', 'Andale Mono', 'Nimbus Mono L', 'Courier New', 'Courier', 'Fixed', 'Terminal', 'monospace']\n"
     ]
    }
   ],
   "source": [
    "# serif, sans-serif, monospace\n",
    "print (plt.rcParams['font.serif']) \n",
    "print (plt.rcParams['font.sans-serif']) \n",
    "print (plt.rcParams['font.monospace']) "
   ]
  },
  {
   "cell_type": "code",
   "execution_count": 14,
   "metadata": {},
   "outputs": [],
   "source": [
    "# matplotlib 설정 파일의 위치\n",
    "# matplotlib.matplotlib_fname()"
   ]
  },
  {
   "cell_type": "code",
   "execution_count": 15,
   "metadata": {},
   "outputs": [],
   "source": [
    "# 캐시 디렉토리\n",
    "# matplotlib.get_cachedir()"
   ]
  },
  {
   "cell_type": "code",
   "execution_count": null,
   "metadata": {},
   "outputs": [],
   "source": []
  }
 ],
 "metadata": {
  "kernelspec": {
   "display_name": "Python 3",
   "language": "python",
   "name": "python3"
  },
  "language_info": {
   "codemirror_mode": {
    "name": "ipython",
    "version": 3
   },
   "file_extension": ".py",
   "mimetype": "text/x-python",
   "name": "python",
   "nbconvert_exporter": "python",
   "pygments_lexer": "ipython3",
   "version": "3.6.1"
  }
 },
 "nbformat": 4,
 "nbformat_minor": 2
}
