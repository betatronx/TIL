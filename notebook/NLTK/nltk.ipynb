{
 "cells": [
  {
   "cell_type": "markdown",
   "metadata": {},
   "source": [
    "# [NLTK Data](http://www.nltk.org/nltk_data/)\n",
    "\n",
    "\n",
    "* nltk.download() 에서 링크가 깨져 고생하고, nltk_data 를 일일이 다운 받느라 고생을 했지만, 한번에 받는 방법도 있다. 하지만 그 방법도 SSL 오류가 발생한다.\n",
    "* 일단 nltk부터 설치한다."
   ]
  },
  {
   "cell_type": "code",
   "execution_count": 1,
   "metadata": {},
   "outputs": [
    {
     "name": "stdout",
     "output_type": "stream",
     "text": [
      "Name: nltk\r\n",
      "Version: 3.2.5\r\n",
      "Summary: Natural Language Toolkit\r\n",
      "Home-page: http://nltk.org/\r\n",
      "Author: Steven Bird\r\n",
      "Author-email: stevenbird1@gmail.com\r\n",
      "License: Apache License, Version 2.0\r\n",
      "Location: /Users/corazzon/codes/jupyter/lib/python3.6/site-packages\r\n",
      "Requires: six\r\n"
     ]
    }
   ],
   "source": [
    "import nltk\n",
    "!pip3 show nltk"
   ]
  },
  {
   "cell_type": "code",
   "execution_count": 2,
   "metadata": {},
   "outputs": [],
   "source": [
    "sentence = \"\"\"At eight o'clock on Thursday morning Arthur didn't feel very good.\"\"\""
   ]
  },
  {
   "cell_type": "markdown",
   "metadata": {
    "collapsed": true
   },
   "source": [
    "nltk.download()를 하면 다음과 같은 창과 함께 오류메시지가 출력되고 다운로드가 되지 않는다.\n",
    "!['image'](nltk_download.png)\n",
    "터미널로 다운로드를 시도해도 같은 오류가 발생한다.\n",
    "```\n",
    "sudo python -m nltk.downloader -d /usr/local/share/nltk_data all\n",
    "/Library/Frameworks/Python.framework/Versions/3.6/lib/python3.6/runpy.py:125: RuntimeWarning: 'nltk.downloader' found in sys.modules after import of package 'nltk', but prior to execution of 'nltk.downloader'; this may result in unpredictable behaviour\n",
    "  warn(RuntimeWarning(msg))\n",
    "[nltk_data] Error loading all: <urlopen error [SSL:\n",
    "[nltk_data]     CERTIFICATE_VERIFY_FAILED] certificate verify failed\n",
    "[nltk_data]     (_ssl.c:749)>\n",
    "```"
   ]
  },
  {
   "cell_type": "code",
   "execution_count": 3,
   "metadata": {},
   "outputs": [],
   "source": [
    "# 다음의 항목을 추가로 설치해야 했으나 링크가 깨져 직접 다운로드 받음\n",
    "# nltk.download('punkt')\n",
    "# nltk.download('averaged_perceptron_tagger')\n",
    "\n",
    "# nltk.download('treebank')\n",
    "# nltk.download('wordnet')"
   ]
  },
  {
   "cell_type": "markdown",
   "metadata": {},
   "source": [
    "* 링크가 깨져서 http://www.nltk.org/nltk_data/ 에서 직접 다운로드 후 다음의 링크에 넣어 둠\n",
    "* nltk_data 경로에 punkt 폴더를 추가해도 읽어오지 못해서 무슨 문제인지 찾아보았더니 tokenizers 폴더를 생성하고 그 안에 punkt를 넣어주어야 로드해 올 수 있다.\n",
    "* /usr/local/share/nltk_data/tokenizers/punkt\n",
    "[NLTK download SSL: Certificate verify failed - Stack Overflow](https://stackoverflow.com/questions/38916452/nltk-download-ssl-certificate-verify-failed)"
   ]
  },
  {
   "cell_type": "code",
   "execution_count": 4,
   "metadata": {},
   "outputs": [
    {
     "data": {
      "text/plain": [
       "['At',\n",
       " 'eight',\n",
       " \"o'clock\",\n",
       " 'on',\n",
       " 'Thursday',\n",
       " 'morning',\n",
       " 'Arthur',\n",
       " 'did',\n",
       " \"n't\",\n",
       " 'feel',\n",
       " 'very',\n",
       " 'good',\n",
       " '.']"
      ]
     },
     "execution_count": 4,
     "metadata": {},
     "output_type": "execute_result"
    }
   ],
   "source": [
    "tokens = nltk.word_tokenize(sentence)\n",
    "tokens "
   ]
  },
  {
   "cell_type": "code",
   "execution_count": 5,
   "metadata": {},
   "outputs": [
    {
     "data": {
      "text/plain": [
       "[('At', 'IN'),\n",
       " ('eight', 'CD'),\n",
       " (\"o'clock\", 'NN'),\n",
       " ('on', 'IN'),\n",
       " ('Thursday', 'NNP'),\n",
       " ('morning', 'NN'),\n",
       " ('Arthur', 'NNP'),\n",
       " ('did', 'VBD'),\n",
       " (\"n't\", 'RB'),\n",
       " ('feel', 'VB'),\n",
       " ('very', 'RB'),\n",
       " ('good', 'JJ'),\n",
       " ('.', '.')]"
      ]
     },
     "execution_count": 5,
     "metadata": {},
     "output_type": "execute_result"
    }
   ],
   "source": [
    "# [nltk_data] Error loading wordnet: <urlopen error [SSL:\n",
    "# [nltk_data]     CERTIFICATE_VERIFY_FAILED] certificate verify failed\n",
    "# [nltk_data]     (_ssl.c:749)>\n",
    "# 위와 같은 오류가 나서 스택오버플로우를 검색해 봤더니 SSL 링크가 깨져서 직접 다운로드 받아야 한다고 한다.\n",
    "# 다음의 폴더에 넣어주면 작동을 한다. 첫줄에 있는 Resource에 있는 하위 경로도 같이 맞춰주어야 한다.\n",
    "# **********************************************************************\n",
    "#   Resource 'corpora/wordnet.zip/wordnet/' not found.  Please use\n",
    "#   the NLTK Downloader to obtain the resource:  >>> nltk.download()\n",
    "#   Searched in:\n",
    "#     - '/usr/share/nltk_data'\n",
    "#     - '/usr/local/share/nltk_data'\n",
    "#     - '/usr/lib/nltk_data'\n",
    "#     - '/usr/local/lib/nltk_data'\n",
    "# **********************************************************************\n",
    "#   >>> import nltk\n",
    "#   >>> nltk.download('averaged_perceptron_tagger')\n",
    "# 오류 내용을 보니 다음의 경로에서 파일을 찾을 수 없는 것으로 보인다.\n",
    "# 위의 nltk_data폴더에 아래 경로의 폴더를 만들어 넣어주어야지 읽어올 수 있다.\n",
    "# 오류 로그에 나오는 아래의 경로를 확인해서 다운로드 받은 averaged_perceptron_tagger를 nltk_data/taggers 경로에 넣어준다.\n",
    "#  AP_MODEL_LOC = 'file:'+str(find('taggers/averaged_perceptron_tagger/'+PICKLE))\n",
    "\n",
    "tagged = nltk.pos_tag(tokens)\n",
    "\n",
    "tagged"
   ]
  },
  {
   "cell_type": "code",
   "execution_count": 6,
   "metadata": {},
   "outputs": [],
   "source": [
    "# from nltk.corpus import treebank\n",
    "# t = treebank.parsed_sents('wsj_001.mrg')[0]"
   ]
  },
  {
   "cell_type": "code",
   "execution_count": 7,
   "metadata": {},
   "outputs": [],
   "source": [
    "# nltk.download()"
   ]
  },
  {
   "cell_type": "code",
   "execution_count": null,
   "metadata": {},
   "outputs": [],
   "source": []
  }
 ],
 "metadata": {
  "kernelspec": {
   "display_name": "Python 3",
   "language": "python",
   "name": "python3"
  },
  "language_info": {
   "codemirror_mode": {
    "name": "ipython",
    "version": 3
   },
   "file_extension": ".py",
   "mimetype": "text/x-python",
   "name": "python",
   "nbconvert_exporter": "python",
   "pygments_lexer": "ipython3",
   "version": "3.6.1"
  }
 },
 "nbformat": 4,
 "nbformat_minor": 2
}
