{
 "cells": [
  {
   "cell_type": "markdown",
   "metadata": {},
   "source": [
    "# [NLTK Data](http://www.nltk.org/nltk_data/)\n",
    "\n",
    "\n",
    "* nltk.download() 에서 링크가 깨져 고생하고, nltk_data 를 일일이 다운 받느라 고생을 했지만, 한번에 받는 방법이 nltk 홈페이지 하단에 있다. "
   ]
  },
  {
   "cell_type": "code",
   "execution_count": 1,
   "metadata": {},
   "outputs": [
    {
     "name": "stdout",
     "output_type": "stream",
     "text": [
      "Name: nltk\r\n",
      "Version: 3.2.3\r\n",
      "Summary: Natural Language Toolkit\r\n",
      "Home-page: http://nltk.org/\r\n",
      "Author: Steven Bird\r\n",
      "Author-email: stevenbird1@gmail.com\r\n",
      "License: Apache License, Version 2.0\r\n",
      "Location: /Library/Frameworks/Python.framework/Versions/3.6/lib/python3.6/site-packages\r\n",
      "Requires: six\r\n"
     ]
    }
   ],
   "source": [
    "import nltk\n",
    "!pip3 show nltk"
   ]
  },
  {
   "cell_type": "code",
   "execution_count": 2,
   "metadata": {
    "collapsed": true
   },
   "outputs": [],
   "source": [
    "sentence = \"\"\"At eight o'clock on Thursday morning Arthur didn't feel very good.\"\"\""
   ]
  },
  {
   "cell_type": "code",
   "execution_count": 3,
   "metadata": {},
   "outputs": [
    {
     "name": "stdout",
     "output_type": "stream",
     "text": [
      "[nltk_data] Error loading wordnet: <urlopen error [SSL:\n",
      "[nltk_data]     CERTIFICATE_VERIFY_FAILED] certificate verify failed\n",
      "[nltk_data]     (_ssl.c:749)>\n"
     ]
    },
    {
     "data": {
      "text/plain": [
       "False"
      ]
     },
     "execution_count": 3,
     "metadata": {},
     "output_type": "execute_result"
    }
   ],
   "source": [
    "# 다음의 항목을 추가로 설치해야 했으나 링크가 깨져 직접 다운로드 받음\n",
    "# nltk.download('punkt')\n",
    "# nltk.download('averaged_perceptron_tagger')\n",
    "\n",
    "# nltk.download('treebank')\n",
    "nltk.download('wordnet')"
   ]
  },
  {
   "cell_type": "markdown",
   "metadata": {},
   "source": [
    "* 링크가 깨져서 http://www.nltk.org/nltk_data/ 에서 직접 다운로드 후 다음의 링크에 넣어 둠\n",
    "* /usr/local/share/nltk_data/tokenizers/punkt\n",
    "[NLTK download SSL: Certificate verify failed - Stack Overflow](https://stackoverflow.com/questions/38916452/nltk-download-ssl-certificate-verify-failed)"
   ]
  },
  {
   "cell_type": "code",
   "execution_count": 4,
   "metadata": {},
   "outputs": [
    {
     "data": {
      "text/plain": [
       "['At',\n",
       " 'eight',\n",
       " \"o'clock\",\n",
       " 'on',\n",
       " 'Thursday',\n",
       " 'morning',\n",
       " 'Arthur',\n",
       " 'did',\n",
       " \"n't\",\n",
       " 'feel',\n",
       " 'very',\n",
       " 'good',\n",
       " '.']"
      ]
     },
     "execution_count": 4,
     "metadata": {},
     "output_type": "execute_result"
    }
   ],
   "source": [
    "tokens = nltk.word_tokenize(sentence)\n",
    "tokens "
   ]
  },
  {
   "cell_type": "code",
   "execution_count": 5,
   "metadata": {},
   "outputs": [],
   "source": [
    "# [nltk_data] Error loading wordnet: <urlopen error [SSL:\n",
    "# [nltk_data]     CERTIFICATE_VERIFY_FAILED] certificate verify failed\n",
    "# [nltk_data]     (_ssl.c:749)>\n",
    "# 위와 같은 오류가 나서 스택오버플로우를 검색해 봤더니 SSL 링크가 깨져서 직접 다운로드 받아야 한다고 한다.\n",
    "# 다음의 폴더에 넣어주면 작동을 한다. 첫줄에 있는 Resource에 있는 하위 경로도 같이 맞춰주어야 한다.\n",
    "# **********************************************************************\n",
    "#   Resource 'corpora/wordnet.zip/wordnet/' not found.  Please use\n",
    "#   the NLTK Downloader to obtain the resource:  >>> nltk.download()\n",
    "#   Searched in:\n",
    "#     - '/usr/share/nltk_data'\n",
    "#     - '/usr/local/share/nltk_data'\n",
    "#     - '/usr/lib/nltk_data'\n",
    "#     - '/usr/local/lib/nltk_data'\n",
    "# **********************************************************************\n",
    "\n",
    "\n",
    "tagged = nltk.pos_tag(tokens)\n",
    "\n"
   ]
  },
  {
   "cell_type": "code",
   "execution_count": 6,
   "metadata": {},
   "outputs": [],
   "source": [
    "# from nltk.corpus import treebank\n",
    "# t = treebank.parsed_sents('wsj_001.mrg')[0]"
   ]
  },
  {
   "cell_type": "code",
   "execution_count": null,
   "metadata": {
    "collapsed": true
   },
   "outputs": [],
   "source": []
  }
 ],
 "metadata": {
  "kernelspec": {
   "display_name": "Python 3",
   "language": "python",
   "name": "python3"
  },
  "language_info": {
   "codemirror_mode": {
    "name": "ipython",
    "version": 3
   },
   "file_extension": ".py",
   "mimetype": "text/x-python",
   "name": "python",
   "nbconvert_exporter": "python",
   "pygments_lexer": "ipython3",
   "version": "3.6.1"
  }
 },
 "nbformat": 4,
 "nbformat_minor": 2
}
