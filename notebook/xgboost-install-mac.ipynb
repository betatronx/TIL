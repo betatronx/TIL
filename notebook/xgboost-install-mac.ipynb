{
 "cells": [
  {
   "cell_type": "markdown",
   "metadata": {},
   "source": [
    "* pip로 설치가 되지 않아 다음의 방법으로 설치\n",
    "* [pip install failure · Issue #463 · dmlc/xgboost](https://github.com/dmlc/xgboost/issues/463)\n",
    "\n",
    "<pre>\n",
    "git clone --recursive https://github.com/dmlc/xgboost.git  \n",
    "cd xgboost  \n",
    "./build.sh\n",
    "pip3 install -e python-package  \n",
    "</pre>"
   ]
  },
  {
   "cell_type": "code",
   "execution_count": 1,
   "metadata": {},
   "outputs": [
    {
     "name": "stdout",
     "output_type": "stream",
     "text": [
      "Name: xgboost\r\n",
      "Version: 0.6\r\n",
      "Summary: XGBoost Python Package\r\n",
      "Home-page: https://github.com/dmlc/xgboost\r\n",
      "Author: Hongliang Liu\r\n",
      "Author-email: phunter.lau@gmail.com\r\n",
      "License: Apache-2.0\r\n",
      "Location: /data/xgboost/python-package\r\n",
      "Requires: numpy, scipy\r\n"
     ]
    }
   ],
   "source": [
    "!pip3 show xgboost"
   ]
  },
  {
   "cell_type": "markdown",
   "metadata": {
    "collapsed": true
   },
   "source": [
    "설치는 되었지만 Jupyter Notebook에서 실행되지 않는 문제가 있었다.\n",
    "\n",
    "다음 글을 참고하여 노트북에서 불러오기에 성공했다.\n",
    "\n",
    "* [python - Jupyter notebook xgboost import - Stack Overflow](https://stackoverflow.com/questions/44856105/jupyter-notebook-xgboost-import)\n"
   ]
  },
  {
   "cell_type": "code",
   "execution_count": 2,
   "metadata": {},
   "outputs": [
    {
     "name": "stdout",
     "output_type": "stream",
     "text": [
      "Requirement already satisfied: xgboost in /data/xgboost/python-package\n",
      "Requirement already satisfied: numpy in /Library/Frameworks/Python.framework/Versions/3.6/lib/python3.6/site-packages (from xgboost)\n",
      "Requirement already satisfied: scipy in /Library/Frameworks/Python.framework/Versions/3.6/lib/python3.6/site-packages (from xgboost)\n"
     ]
    },
    {
     "data": {
      "text/plain": [
       "0"
      ]
     },
     "execution_count": 2,
     "metadata": {},
     "output_type": "execute_result"
    }
   ],
   "source": [
    "import pip\n",
    "pip.main(['install', 'xgboost'])"
   ]
  },
  {
   "cell_type": "code",
   "execution_count": 3,
   "metadata": {},
   "outputs": [
    {
     "data": {
      "text/plain": [
       "XGBClassifier(base_score=0.5, booster='gbtree', colsample_bylevel=1,\n",
       "       colsample_bytree=1, gamma=0, learning_rate=0.1, max_delta_step=0,\n",
       "       max_depth=3, min_child_weight=1, missing=None, n_estimators=15,\n",
       "       n_jobs=1, nthread=-1, objective='binary:logistic', random_state=0,\n",
       "       reg_alpha=0, reg_lambda=1, scale_pos_weight=1, seed=1111,\n",
       "       silent=True, subsample=1)"
      ]
     },
     "execution_count": 3,
     "metadata": {},
     "output_type": "execute_result"
    }
   ],
   "source": [
    "import xgboost as xgb\n",
    "model = xgb.XGBClassifier(n_estimators=15, nthread=-1, seed=1111)\n",
    "model"
   ]
  },
  {
   "cell_type": "markdown",
   "metadata": {
    "collapsed": true
   },
   "source": [
    "<pre>\n",
    "그런데! xgboost가 기존 장비에서 돌아가지 않아, 성능의 한계 때문에 맥북을 바꿨다.\n",
    "그동안 버티고 버텼는데 xgboost 때문에 맥북을 바꾸게 될줄이야!\n",
    "\n",
    "그래서 장비를 새로 셋팅하다보니, 위의 방법으로 설치가 되지 않았다.\n",
    "</pre>\n",
    "1. 일단 설치하려고 보니 clang, make가 필요했다. 이건 xcode설치로 대체했다.\n",
    "2. 그리고 다시 공식문서로 돌아갔다. => [Installation Guide — xgboost 0.6 documentation](https://xgboost.readthedocs.io/en/latest/build.html)\n",
    "3. brew install gcc --without-multilib 을 설치했다.\n",
    "4. cd xgboost; cp make/minimum.mk ./config.mk; make -j4\n",
    "5. 이렇게 해주었는데도 아래의 오류가 발생했다.\n",
    "```\n",
    "XGBoostLibraryNotFound: Cannot find XGBoost Library in the candidate path, did you install compilers and run build.sh in root path?\n",
    "List of candidates:\n",
    "mypath/xgboost/python-package/xgboost/libxgboost.dylib\n",
    "```\n",
    "6. 그래서 공식 문서로 다시 돌아가서 보니 최신버전의 gcc를 사용하고 있다면 make 파일을 변경해 주어야 한단다.\n",
    "```\n",
    "cd xgboost; cp make/config.mk ./config.mk; make -j4\n",
    "```\n",
    "7. 그리고 다시 빌드 했더니 성공했다.\n",
    "```\n",
    "./build.sh\n",
    "Makefile:31: MAKE [/Applications/Xcode.app/Contents/Developer/usr/bin/make] - checked OK\n",
    "make: Nothing to be done for `all'.\n",
    "Successfully build multi-thread xgboost\n",
    "```\n",
    "\n",
    "8. 마지막으로 `pip3 install -e python-package`로 설치했다.\n",
    "```\n",
    "Obtaining file:///Users/corazzon/codes/xgboost/python-package\n",
    "Requirement already satisfied: numpy in /my_venv_path/lib/python3.6/site-packages (from xgboost==0.6)\n",
    "Requirement already satisfied: scipy in /my_venv_path/lib/python3.6/site-packages (from xgboost==0.6)\n",
    "Installing collected packages: xgboost\n",
    "  Running setup.py develop for xgboost\n",
    "Successfully installed xgboost\n",
    "```"
   ]
  },
  {
   "cell_type": "code",
   "execution_count": null,
   "metadata": {},
   "outputs": [],
   "source": []
  }
 ],
 "metadata": {
  "kernelspec": {
   "display_name": "Python 3",
   "language": "python",
   "name": "python3"
  },
  "language_info": {
   "codemirror_mode": {
    "name": "ipython",
    "version": 3
   },
   "file_extension": ".py",
   "mimetype": "text/x-python",
   "name": "python",
   "nbconvert_exporter": "python",
   "pygments_lexer": "ipython3",
   "version": "3.6.1"
  }
 },
 "nbformat": 4,
 "nbformat_minor": 2
}
