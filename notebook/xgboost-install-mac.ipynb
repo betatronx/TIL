{
 "cells": [
  {
   "cell_type": "markdown",
   "metadata": {},
   "source": [
    "* pip로 설치가 되지 않아 다음의 방법으로 설치\n",
    "* [pip install failure · Issue #463 · dmlc/xgboost](https://github.com/dmlc/xgboost/issues/463)\n",
    "\n",
    "<pre>\n",
    "git clone --recursive https://github.com/dmlc/xgboost.git  \n",
    "cd xgboost  \n",
    "./build.sh\n",
    "pip install -e python-package  \n",
    "</pre>"
   ]
  },
  {
   "cell_type": "code",
   "execution_count": 1,
   "metadata": {},
   "outputs": [
    {
     "name": "stdout",
     "output_type": "stream",
     "text": [
      "Name: xgboost\n",
      "Version: 0.6\n",
      "Summary: XGBoost Python Package\n",
      "Home-page: https://github.com/dmlc/xgboost\n",
      "Author: Hongliang Liu\n",
      "Author-email: phunter.lau@gmail.com\n",
      "License: Apache-2.0\n",
      "Location: /data/xgboost/python-package\n",
      "Requires: numpy, scipy\n"
     ]
    }
   ],
   "source": [
    "!pip show xgboost"
   ]
  },
  {
   "cell_type": "code",
   "execution_count": null,
   "metadata": {
    "collapsed": true
   },
   "outputs": [],
   "source": []
  }
 ],
 "metadata": {
  "kernelspec": {
   "display_name": "Python 3",
   "language": "python",
   "name": "python3"
  },
  "language_info": {
   "codemirror_mode": {
    "name": "ipython",
    "version": 3
   },
   "file_extension": ".py",
   "mimetype": "text/x-python",
   "name": "python",
   "nbconvert_exporter": "python",
   "pygments_lexer": "ipython3",
   "version": "3.6.1"
  }
 },
 "nbformat": 4,
 "nbformat_minor": 2
}
