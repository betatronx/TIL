{
 "cells": [
  {
   "cell_type": "markdown",
   "metadata": {},
   "source": [
    "# HowToFixModuleNotFoundError\n",
    "\n",
    "```\n",
    "/Library/Frameworks/Python.framework/Versions/3.6/bin/python3.6 -m pip install missingno\n",
    "```\n",
    "\n",
    "pip3 install 로 패키지를 설치했지만, 임포트하지 못하는 오류가 있었다.\n",
    "환경문제일거 같았는데 역시나 찾아보니 환경문제였다.\n",
    "\n",
    "venv 환경이기 때문에 특정 파이썬 버전을 사용할 것이라 생각 했는데,\n",
    "여러 버전의 파이썬이 설치 되었을 때는 문제가 venv 안에서 설치하더라도 제대로 임포트를 해오지 못 했다.\n",
    "\n",
    "구글링을 했더니 콘다에서도 같은 문제가 많이 일어나는 거 같다.\n",
    "아래의 링크를 통해 이 문제를 해결했다.\n",
    "* [I can't import it! | Codel](http://takluyver.github.io/posts/i-cant-import-it.html)\n",
    "\n",
    "그래서 현재 사용하고 있는 파이썬의 경로를 찾아서 해당 경로를 직접 지정 후에 패키지를 다시 설치해 주었더니 임포트가 된다.\n",
    "파이썬의 경로는 다음과 같이 알 수 있다."
   ]
  },
  {
   "cell_type": "code",
   "execution_count": 1,
   "metadata": {},
   "outputs": [
    {
     "name": "stdout",
     "output_type": "stream",
     "text": [
      "/Library/Frameworks/Python.framework/Versions/3.6/bin/python3.6\n"
     ]
    }
   ],
   "source": [
    "import sys\n",
    "print(sys.executable)"
   ]
  },
  {
   "cell_type": "markdown",
   "metadata": {},
   "source": [
    "ModuleNotFoundError: No module named 오류가 나고 임포트 되지 않았는데, 이제는 임포트가 잘 된다.\n",
    "\n",
    "*path/to/python -m pip install some_package*"
   ]
  },
  {
   "cell_type": "code",
   "execution_count": 2,
   "metadata": {
    "collapsed": true
   },
   "outputs": [],
   "source": [
    "import missingno"
   ]
  },
  {
   "cell_type": "code",
   "execution_count": 3,
   "metadata": {},
   "outputs": [
    {
     "name": "stdout",
     "output_type": "stream",
     "text": [
      "Python 3.6.1\r\n"
     ]
    }
   ],
   "source": [
    "!python -V"
   ]
  },
  {
   "cell_type": "code",
   "execution_count": 4,
   "metadata": {
    "collapsed": true
   },
   "outputs": [],
   "source": [
    "import django"
   ]
  },
  {
   "cell_type": "code",
   "execution_count": 5,
   "metadata": {},
   "outputs": [
    {
     "data": {
      "text/plain": [
       "'1.11.6'"
      ]
     },
     "execution_count": 5,
     "metadata": {},
     "output_type": "execute_result"
    }
   ],
   "source": [
    "django.get_version()"
   ]
  },
  {
   "cell_type": "code",
   "execution_count": null,
   "metadata": {
    "collapsed": true
   },
   "outputs": [],
   "source": []
  }
 ],
 "metadata": {
  "kernelspec": {
   "display_name": "Python 3",
   "language": "python",
   "name": "python3"
  },
  "language_info": {
   "codemirror_mode": {
    "name": "ipython",
    "version": 3
   },
   "file_extension": ".py",
   "mimetype": "text/x-python",
   "name": "python",
   "nbconvert_exporter": "python",
   "pygments_lexer": "ipython3",
   "version": "3.6.1"
  }
 },
 "nbformat": 4,
 "nbformat_minor": 2
}
