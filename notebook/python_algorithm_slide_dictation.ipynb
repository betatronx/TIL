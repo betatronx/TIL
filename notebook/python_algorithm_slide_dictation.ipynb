{
 "cells": [
  {
   "cell_type": "markdown",
   "metadata": {},
   "source": [
    "* [구종만 - 알고리즘: 기술 사회의 연금술](https://www.slideshare.net/skoopmedia/10-39955766) 슬라이드의 코드 따라쓰기\n",
    "* 알고리즘 : 기술 사회의 연금술\n",
    "* 충분히 진보된 기술은 마법과 구분되지 않는다.\n",
    "* 알고리즘의 약간 모호한 정의 - 컴퓨터가 주어진 작업을 수행하는 방법\n",
    "    * 소스코드 != 알고리즘\n",
    "    * 한 문제를 여러 방법으로 풀어 볼 수 있음"
   ]
  },
  {
   "cell_type": "code",
   "execution_count": 1,
   "metadata": {},
   "outputs": [
    {
     "name": "stdout",
     "output_type": "stream",
     "text": [
      "7\n",
      "[[6, 6, 6, 5, 6, 3, 2], [7, 7], [8, 8]]\n",
      "6\n",
      "[[5, 3, 2], [6, 6, 6, 6], []]\n",
      "2\n",
      "[[], [2], [5, 3]]\n",
      "3\n",
      "[[], [3], [5]]\n",
      "5\n",
      "[[], [5], []]\n",
      "8\n",
      "[[], [8, 8], []]\n",
      "[2, 3, 5, 6, 6, 6, 6, 7, 7, 8, 8]\n"
     ]
    }
   ],
   "source": [
    "import random\n",
    "def quicksort(A):\n",
    "    if not A: return A\n",
    "    pivot = random.choice(A)\n",
    "    print(pivot)\n",
    "    lt = [a for a in A if a < pivot]\n",
    "    eq = [a for a in A if a == pivot]\n",
    "    gt = [a for a in A if a > pivot]\n",
    "    print([lt] + [eq] + [gt]) \n",
    "    return quicksort(lt) + eq + quicksort(gt)\n",
    "\n",
    "print(quicksort([6,6,6,8,5,6,7,8,7,3,2]))"
   ]
  },
  {
   "cell_type": "code",
   "execution_count": 2,
   "metadata": {},
   "outputs": [
    {
     "name": "stdout",
     "output_type": "stream",
     "text": [
      "[0, 0, 0, 0, 0, 0, 0, 0, 0, 0]\n",
      "[0, 0, 1, 1, 0, 1, 4, 2, 2, 0]\n",
      "[2, 3, 5, 6, 6, 6, 6, 7, 7, 8, 8]\n"
     ]
    }
   ],
   "source": [
    "# 빈도 수를 세자\n",
    "# enumerate 열거하다. 이 함수는 순서가 있는 자료형(리스트, 튜플, 문자열)을 입력으로 받아 인덱스 값을 포함 하는 enumerate 객체를 리턴한다.\n",
    "def counting_sort(A):\n",
    "    cnt = [0] * 10 # KBO에 9팀 있음\n",
    "    print(cnt)\n",
    "    for a in A: cnt[a] += 1\n",
    "    print(cnt)\n",
    "    ret =[]\n",
    "    for i, n in enumerate(cnt):\n",
    "        ret += [i] * n\n",
    "    return ret\n",
    "\n",
    "print(counting_sort([6,6,6,8,5,6,7,8,7,3,2]))"
   ]
  },
  {
   "cell_type": "code",
   "execution_count": 3,
   "metadata": {},
   "outputs": [
    {
     "data": {
      "text/plain": [
       "2"
      ]
     },
     "execution_count": 3,
     "metadata": {},
     "output_type": "execute_result"
    }
   ],
   "source": [
    "def simple(A):\n",
    "    n = len(A)\n",
    "    best = 0\n",
    "    for first in range(n):\n",
    "        for last in range(first+1, n):\n",
    "            earned = A[last] - A[first]\n",
    "#             print(earned)\n",
    "            best = max(best, earned)\n",
    "#             print(best)\n",
    "        return best\n",
    "\n",
    "simple([6,6,6,8,5,6,7,8,7,3,2])"
   ]
  },
  {
   "cell_type": "code",
   "execution_count": 4,
   "metadata": {},
   "outputs": [
    {
     "name": "stdout",
     "output_type": "stream",
     "text": [
      "857 µs ± 36.1 µs per loop (mean ± std. dev. of 7 runs, 1000 loops each)\n",
      "9.11 ms ± 766 µs per loop (mean ± std. dev. of 7 runs, 100 loops each)\n",
      "81.3 ms ± 1.59 ms per loop (mean ± std. dev. of 7 runs, 10 loops each)\n"
     ]
    }
   ],
   "source": [
    "import numpy as np\n",
    "# 성능 측정\n",
    "# 랜덤하게 만든 배열로 테스트해본다.\n",
    "%timeit simple(np.random.rand(1000))\n",
    "%timeit simple(np.random.rand(10000))\n",
    "%timeit simple(np.random.rand(100000))"
   ]
  },
  {
   "cell_type": "code",
   "execution_count": 5,
   "metadata": {},
   "outputs": [
    {
     "data": {
      "text/plain": [
       "7"
      ]
     },
     "execution_count": 5,
     "metadata": {},
     "output_type": "execute_result"
    }
   ],
   "source": [
    "def divide_and_conquer(A):\n",
    "    n = len(A)\n",
    "    if n <= 1: return 0\n",
    "    L, R = A[:n//2], A[n//2:]\n",
    "    return max(divide_and_conquer(L),\n",
    "              divide_and_conquer(R),\n",
    "              max(R) - min(L))\n",
    "\n",
    "divide_and_conquer([15,14,6,10,12,7,9,13,12])"
   ]
  },
  {
   "cell_type": "code",
   "execution_count": 6,
   "metadata": {},
   "outputs": [
    {
     "name": "stdout",
     "output_type": "stream",
     "text": [
      "7.55 ms ± 246 µs per loop (mean ± std. dev. of 7 runs, 100 loops each)\n",
      "83.1 ms ± 3.57 ms per loop (mean ± std. dev. of 7 runs, 10 loops each)\n",
      "811 ms ± 13.5 ms per loop (mean ± std. dev. of 7 runs, 1 loop each)\n"
     ]
    }
   ],
   "source": [
    "%timeit divide_and_conquer(np.random.rand(1000))\n",
    "%timeit divide_and_conquer(np.random.rand(10000))\n",
    "%timeit divide_and_conquer(np.random.rand(100000))"
   ]
  },
  {
   "cell_type": "code",
   "execution_count": 7,
   "metadata": {},
   "outputs": [
    {
     "data": {
      "text/plain": [
       "7"
      ]
     },
     "execution_count": 7,
     "metadata": {},
     "output_type": "execute_result"
    }
   ],
   "source": [
    "def fast(A):\n",
    "    min_value = A[0]\n",
    "    best = 0\n",
    "    for a in A:\n",
    "        min_value = min(min_value, a)\n",
    "        best = max(best, a - min_value)\n",
    "    return best\n",
    "\n",
    "fast([15,14,6,10,12,7,9,13,12])"
   ]
  },
  {
   "cell_type": "code",
   "execution_count": 8,
   "metadata": {},
   "outputs": [
    {
     "name": "stdout",
     "output_type": "stream",
     "text": [
      "1.03 ms ± 77.2 µs per loop (mean ± std. dev. of 7 runs, 1000 loops each)\n",
      "9.81 ms ± 543 µs per loop (mean ± std. dev. of 7 runs, 100 loops each)\n",
      "105 ms ± 5.21 ms per loop (mean ± std. dev. of 7 runs, 10 loops each)\n"
     ]
    }
   ],
   "source": [
    "%timeit fast(np.random.rand(1000))\n",
    "%timeit fast(np.random.rand(10000))\n",
    "%timeit fast(np.random.rand(100000))"
   ]
  },
  {
   "cell_type": "markdown",
   "metadata": {},
   "source": [
    "# 교훈\n",
    "* 같은 문제를 푸는 여러 방법들 간에 큰 성능 차이가 있다.\n",
    "* 입력이 커지면 커질 수록 알고리즘간의 성능 차이는 커진다."
   ]
  },
  {
   "cell_type": "code",
   "execution_count": null,
   "metadata": {
    "collapsed": true
   },
   "outputs": [],
   "source": []
  }
 ],
 "metadata": {
  "kernelspec": {
   "display_name": "Python 3",
   "language": "python",
   "name": "python3"
  },
  "language_info": {
   "codemirror_mode": {
    "name": "ipython",
    "version": 3
   },
   "file_extension": ".py",
   "mimetype": "text/x-python",
   "name": "python",
   "nbconvert_exporter": "python",
   "pygments_lexer": "ipython3",
   "version": "3.6.1"
  }
 },
 "nbformat": 4,
 "nbformat_minor": 2
}
