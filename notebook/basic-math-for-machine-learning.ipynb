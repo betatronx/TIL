{
 "cells": [
  {
   "cell_type": "markdown",
   "metadata": {},
   "source": [
    "# 머신러닝을 위한 기초 수학 살펴보기\n",
    "\n",
    "출처 : [머신러닝을 위한 기초 수학 살펴보기 // Speaker Deck](https://speakerdeck.com/mingrammer/meosinreoningeul-wihan-gico-suhag-salpyeobogi)\n",
    "\n",
    "1. 수학의 필요성\n",
    "2. 선형대수학이란?\n",
    "3. NumPy로 선형대수학 다뤄보기\n",
    "4. 추가 기초 수학 살펴보기\n",
    "5. 선형 회귀 구현해 보기\n",
    "6. Nex(more LA and Mathmatics)\n",
    "\n"
   ]
  },
  {
   "cell_type": "markdown",
   "metadata": {},
   "source": [
    "* 선형대수학\n",
    "    * 데이터의 표현\n",
    "    * 계산의 효율\n",
    "    * 최적화\n",
    "    * 특성 추출\n",
    "\n",
    "* 확률과 통계\n",
    "    * 확률 분포\n",
    "    * 추론 및 예측\n",
    "    * 가설 검증\n",
    "    * 정규화\n",
    "\n",
    "\n",
    "* 미적분학\n",
    "    * 해석학적 접근\n",
    "    * 기울기 계산\n",
    "    * 편미분\n",
    "    \n",
    "    \n",
    "## 선형대수학\n",
    "\n",
    "* 벡터 공간, 벡터 연산, 행렬 연산, 차원, 선형 방정식\n",
    "* 머신러닝, 암호화, 정보 검색, 이미지 프로세싱, 대규모 처리\n",
    "* 선형대수를 다루기 위해 Numpy를 사용, 순수 파이썬은 좀 느림\n",
    "* Numpy는 코어가 C/Fortran 기반이라 빠름\n",
    "* 빠를 뿐만 아니라 배열을 효율적으로 처리해 메모리도 덜 사용 함\n",
    "* 각종 편리한 고수준 인터페스와 도구들을 제공"
   ]
  },
  {
   "cell_type": "markdown",
   "metadata": {},
   "source": [
    "### 벡터\n",
    "\n",
    "* 공간에서의 원소를 표현\n",
    "* 벡터는 각 원소의 데이터 타입이 동일\n",
    "* 보통 array로 표현(numpy.array)"
   ]
  },
  {
   "cell_type": "code",
   "execution_count": 33,
   "metadata": {},
   "outputs": [
    {
     "name": "stdout",
     "output_type": "stream",
     "text": [
      "[1 2 3]\n",
      "[ 6 -1  3]\n"
     ]
    }
   ],
   "source": [
    "import numpy as np\n",
    "\n",
    "v = np.array([1, 2, 3])\n",
    "w = np.array([6, -1, 3])\n",
    "\n",
    "print(v)\n",
    "print(w)"
   ]
  },
  {
   "cell_type": "code",
   "execution_count": 34,
   "metadata": {},
   "outputs": [
    {
     "name": "stdout",
     "output_type": "stream",
     "text": [
      "[1 2 3] (3,)\n"
     ]
    }
   ],
   "source": [
    "v = np.array([1, 2, 3]) # 튜플!! (3)\n",
    "\n",
    "print(v, v.shape)"
   ]
  },
  {
   "cell_type": "code",
   "execution_count": 35,
   "metadata": {},
   "outputs": [
    {
     "name": "stdout",
     "output_type": "stream",
     "text": [
      "[[1 2 3]] (1, 3)\n"
     ]
    }
   ],
   "source": [
    "w = np.array([[1, 2, 3]]) # 행벡터(1 x 3)\n",
    "\n",
    "print(w, w.shape)"
   ]
  },
  {
   "cell_type": "code",
   "execution_count": 36,
   "metadata": {},
   "outputs": [
    {
     "name": "stdout",
     "output_type": "stream",
     "text": [
      "[[1]\n",
      " [2]\n",
      " [3]] (3, 1)\n"
     ]
    }
   ],
   "source": [
    "u = np.array([[1],[2],[3]]) # 열벡터(3 x 1)\n",
    "\n",
    "print(u, u.shape)"
   ]
  },
  {
   "cell_type": "markdown",
   "metadata": {},
   "source": [
    "### 벡터 연산\n",
    "벡터는 다음의 연산들을 수행할 수 있음\n",
    "* 덧셈(addition)\n",
    "* 뺄셈(subtraction)\n",
    "* 스칼라곱(Scalar Product)\n",
    "* 성분곱(Elementwise Multiplication)\n",
    "* 내적(Inner Product)"
   ]
  },
  {
   "cell_type": "code",
   "execution_count": 37,
   "metadata": {},
   "outputs": [],
   "source": [
    "v = np.array([1, 3, 5])\n",
    "w = np.array([2, 4, 6])"
   ]
  },
  {
   "cell_type": "code",
   "execution_count": 38,
   "metadata": {},
   "outputs": [
    {
     "name": "stdout",
     "output_type": "stream",
     "text": [
      "v + w = [ 3  7 11]\n"
     ]
    }
   ],
   "source": [
    "print('v + w =', v + w) # 덧셈"
   ]
  },
  {
   "cell_type": "code",
   "execution_count": 39,
   "metadata": {},
   "outputs": [
    {
     "name": "stdout",
     "output_type": "stream",
     "text": [
      "v - w = [-1 -1 -1]\n"
     ]
    }
   ],
   "source": [
    "print('v - w =', v - w) # 뺄셈"
   ]
  },
  {
   "cell_type": "code",
   "execution_count": 40,
   "metadata": {},
   "outputs": [
    {
     "name": "stdout",
     "output_type": "stream",
     "text": [
      "[ 4 12 20]\n"
     ]
    }
   ],
   "source": [
    "print(4 * v) # 곱셈: 스칼라콥"
   ]
  },
  {
   "cell_type": "code",
   "execution_count": 41,
   "metadata": {},
   "outputs": [
    {
     "name": "stdout",
     "output_type": "stream",
     "text": [
      "[ 2 12 30] [ 2 12 30]\n"
     ]
    }
   ],
   "source": [
    "print(v * w, np.multiply(v, w)) # 곱셈: 성분곱"
   ]
  },
  {
   "cell_type": "code",
   "execution_count": 42,
   "metadata": {},
   "outputs": [
    {
     "name": "stdout",
     "output_type": "stream",
     "text": [
      "44 44\n"
     ]
    }
   ],
   "source": [
    "print(np.inner(v, w), v.dot(w)) # 내적"
   ]
  },
  {
   "cell_type": "markdown",
   "metadata": {},
   "source": [
    "### 행렬 (Matrix)\n",
    "* m x n 의 형태를 가짐\n",
    "* 각 행/열을 벡터로 표현 가능\n",
    "* 보통 2차원 array로 표현"
   ]
  },
  {
   "cell_type": "code",
   "execution_count": 30,
   "metadata": {},
   "outputs": [
    {
     "name": "stdout",
     "output_type": "stream",
     "text": [
      "[[ 1  2  3]\n",
      " [ 4  5  6]\n",
      " [ 7  8  9]\n",
      " [10 11 12]]\n",
      "(4, 3)\n"
     ]
    }
   ],
   "source": [
    "mat = np.array([[1, 2, 3], [4, 5, 6], [7, 8, 9], [10, 11, 12]])\n",
    "\n",
    "print(mat)\n",
    "print(mat.shape)"
   ]
  },
  {
   "cell_type": "markdown",
   "metadata": {},
   "source": [
    "#### 행렬 연산\n",
    "행렬은 다음의 연산들을 수행할 수 있음\n",
    "* 덧셈(addition)\n",
    "* 뺄셈(subtraction)\n",
    "* 스칼라곱(Scalar Product)\n",
    "* 성분곱(Elementwise Multiplication)\n",
    "* 행렬곱(Matrix Multiplication)"
   ]
  },
  {
   "cell_type": "code",
   "execution_count": 46,
   "metadata": {
    "collapsed": true
   },
   "outputs": [],
   "source": [
    "X = np.array([[3, 4, 2], [1, 3, 7]])\n",
    "Y = np.array([[1, 0, 1], [2, 1, 1]])"
   ]
  },
  {
   "cell_type": "code",
   "execution_count": 48,
   "metadata": {},
   "outputs": [
    {
     "name": "stdout",
     "output_type": "stream",
     "text": [
      "X + Y =\n",
      " [[4 4 3]\n",
      " [3 4 8]] \n",
      "\n"
     ]
    }
   ],
   "source": [
    "print('X + Y =\\n', X + Y, '\\n') # 덧셈"
   ]
  },
  {
   "cell_type": "code",
   "execution_count": 50,
   "metadata": {},
   "outputs": [
    {
     "name": "stdout",
     "output_type": "stream",
     "text": [
      "X - Y =\n",
      " [[ 2  4  1]\n",
      " [-1  2  6]] \n",
      "\n"
     ]
    }
   ],
   "source": [
    "print('X - Y =\\n', X - Y, '\\n') # 뺄셈"
   ]
  },
  {
   "cell_type": "code",
   "execution_count": 52,
   "metadata": {},
   "outputs": [
    {
     "name": "stdout",
     "output_type": "stream",
     "text": [
      "[[ 9 12  6]\n",
      " [ 3  9 21]]\n"
     ]
    }
   ],
   "source": [
    "print(3 * X) # 곱셈: 스칼라곱"
   ]
  },
  {
   "cell_type": "code",
   "execution_count": 53,
   "metadata": {},
   "outputs": [
    {
     "name": "stdout",
     "output_type": "stream",
     "text": [
      "[[3 0 2]\n",
      " [2 3 7]]\n"
     ]
    }
   ],
   "source": [
    "print(np.multiply(X, Y)) # 곱셈: 성분곱"
   ]
  },
  {
   "cell_type": "code",
   "execution_count": 55,
   "metadata": {},
   "outputs": [
    {
     "name": "stdout",
     "output_type": "stream",
     "text": [
      "[[ 2  6]\n",
      " [ 5 12]]\n"
     ]
    }
   ],
   "source": [
    "X = np.array([[1, 0, 3], \n",
    "              [2, 1, 4]])\n",
    "\n",
    "Y = np.array([[2, 3], \n",
    "              [1, 2], \n",
    "              [0, 1]])\n",
    "\n",
    "# 행렬곱 (2 x 3) 행렬과 x (3 x 2) 행렬을 곱하면 = (2 x 2) 행렬이 나온다.\n",
    "print(X.dot(Y))"
   ]
  },
  {
   "cell_type": "markdown",
   "metadata": {},
   "source": [
    "#### 전치(Transpose)"
   ]
  },
  {
   "cell_type": "code",
   "execution_count": 59,
   "metadata": {
    "collapsed": true
   },
   "outputs": [],
   "source": [
    "x = np.array([[3], [4], [5]])\n",
    "X = np.array([[1, 0, 3], [2, 1, 4]])\n",
    "# [] 안에 array를 생성하면 [] 안의 데이터가 행이 된다. "
   ]
  },
  {
   "cell_type": "code",
   "execution_count": 57,
   "metadata": {},
   "outputs": [
    {
     "name": "stdout",
     "output_type": "stream",
     "text": [
      "[[3 4 5]]\n"
     ]
    }
   ],
   "source": [
    "print(x.T)"
   ]
  },
  {
   "cell_type": "code",
   "execution_count": 58,
   "metadata": {},
   "outputs": [
    {
     "name": "stdout",
     "output_type": "stream",
     "text": [
      "[[1 2]\n",
      " [0 1]\n",
      " [3 4]]\n"
     ]
    }
   ],
   "source": [
    "print(X.T)"
   ]
  },
  {
   "cell_type": "markdown",
   "metadata": {},
   "source": [
    "### 단위 행렬(Identity Matrix)"
   ]
  },
  {
   "cell_type": "code",
   "execution_count": 61,
   "metadata": {},
   "outputs": [
    {
     "name": "stdout",
     "output_type": "stream",
     "text": [
      "[[ 1.  0.  0.  0.  0.  0.]\n",
      " [ 0.  1.  0.  0.  0.  0.]\n",
      " [ 0.  0.  1.  0.  0.  0.]\n",
      " [ 0.  0.  0.  1.  0.  0.]\n",
      " [ 0.  0.  0.  0.  1.  0.]\n",
      " [ 0.  0.  0.  0.  0.  1.]]\n"
     ]
    }
   ],
   "source": [
    "I = np.identity(6)\n",
    "\n",
    "print(I)"
   ]
  },
  {
   "cell_type": "markdown",
   "metadata": {},
   "source": [
    "### 역행렬(Inverse Matrix)\n",
    "* 역행렬은 항상 존재하지는 않음"
   ]
  },
  {
   "cell_type": "code",
   "execution_count": 65,
   "metadata": {},
   "outputs": [
    {
     "name": "stdout",
     "output_type": "stream",
     "text": [
      "[[-3.   2. ]\n",
      " [ 2.5 -1.5]]\n",
      "[[  1.00000000e+00  -8.88178420e-16]\n",
      " [  0.00000000e+00   1.00000000e+00]]\n"
     ]
    }
   ],
   "source": [
    "from numpy import linalg\n",
    "\n",
    "X = np.array([[3, 4], \n",
    "              [5, 6]])\n",
    "\n",
    "Xi = linalg.inv(X)\n",
    "\n",
    "print(Xi)\n",
    "\n",
    "print(X.dot(Xi))"
   ]
  },
  {
   "cell_type": "markdown",
   "metadata": {},
   "source": [
    "### 정규화 \n",
    "* 전체 sum으로 나눔으로써 [0,1] 구간으로 정규화"
   ]
  },
  {
   "cell_type": "code",
   "execution_count": 68,
   "metadata": {},
   "outputs": [
    {
     "name": "stdout",
     "output_type": "stream",
     "text": [
      "[ 0.08849558  0.02654867  0.36283186  0.10619469  0.07964602  0.00884956\n",
      "  0.02654867  0.30088496]\n"
     ]
    }
   ],
   "source": [
    "x = np.array([10, 3, 41, 12, 9, 1, 3, 34])\n",
    "\n",
    "y = x / sum(x)\n",
    "\n",
    "print(y)"
   ]
  },
  {
   "cell_type": "code",
   "execution_count": 69,
   "metadata": {
    "collapsed": true
   },
   "outputs": [],
   "source": [
    "# 정규분포를 활용해 평균 = 0, 분산 = 1 로 정규화"
   ]
  },
  {
   "cell_type": "code",
   "execution_count": 72,
   "metadata": {},
   "outputs": [
    {
     "name": "stdout",
     "output_type": "stream",
     "text": [
      "14.125\n",
      "14.0751332143\n"
     ]
    },
    {
     "data": {
      "text/plain": [
       "array([-0.29307005, -0.79040104,  1.90939578, -0.15097548, -0.36411734,\n",
       "       -0.93249561, -0.79040104,  1.41206479])"
      ]
     },
     "execution_count": 72,
     "metadata": {},
     "output_type": "execute_result"
    }
   ],
   "source": [
    "x = np.array([10, 3, 41, 12, 9, 1, 3, 34])\n",
    "\n",
    "print(np.mean(x)) # 평균\n",
    "print(np.std(x)) # 표준편차\n",
    "\n",
    "y = (x - np.mean(x)) / np.std(x)\n",
    "\n",
    "y"
   ]
  },
  {
   "cell_type": "markdown",
   "metadata": {},
   "source": [
    "## 미분 및 그라디언트\n",
    "![손실 함수 그래프](https://imgur.com/zy2V6LG.png)\n",
    "이미지 출처 : https://speakerdeck.com/mingrammer/meosinreoningeul-wihan-gico-suhag-salpyeobogi \n",
    "* 예측 모델에서의 결과값과 실제 결과값과의 간극의 지표인 차이 \"손실\"을 줄이기 위함"
   ]
  },
  {
   "cell_type": "markdown",
   "metadata": {},
   "source": [
    "### 편미분\n",
    "* 다변수 공간 혹은 함수에서 특정 변수를 대상으로 미분\n",
    "* 머신러닝에선 보통 행렬을 대상으로 한 행렬 편미분 사용\n",
    "\n",
    "=> 지금까지 나온 수학개념들로 선형 회귀 모델을 만들어 봄"
   ]
  },
  {
   "cell_type": "markdown",
   "metadata": {},
   "source": [
    "# 선형 회귀 모델\n",
    "![선형 회귀 모델](https://imgur.com/DLEvoe1.png)\n",
    "\n",
    "* 최적의 선형 상관 관계를 표현하는 직선을 찾으려고 함 -> 최적의 베타를 학습"
   ]
  },
  {
   "cell_type": "code",
   "execution_count": 92,
   "metadata": {},
   "outputs": [],
   "source": [
    "import matplotlib.pyplot as plt\n",
    "%matplotlib inline"
   ]
  },
  {
   "cell_type": "code",
   "execution_count": 101,
   "metadata": {},
   "outputs": [],
   "source": [
    "# 데이터의 생성\n",
    "# data_x = np.linspace(1.0, 10,0, 100)[:, np.newaxis]\n",
    "# array([], shape=(0, 1), dtype=float64)\n",
    "data_x = np.random.uniform(low=1.0, high=10.0, size=100)\n",
    "# data_x\n",
    "# print(data_x)\n",
    "# data_y = np.sin(data_x) + 0.1 * np.power(data_x, 2) + 0.5 * np.random.randn\n",
    "\n",
    "# data_x /= np.max(data_x)"
   ]
  },
  {
   "cell_type": "code",
   "execution_count": null,
   "metadata": {
    "collapsed": true
   },
   "outputs": [],
   "source": []
  },
  {
   "cell_type": "code",
   "execution_count": null,
   "metadata": {
    "collapsed": true
   },
   "outputs": [],
   "source": []
  },
  {
   "cell_type": "code",
   "execution_count": null,
   "metadata": {
    "collapsed": true
   },
   "outputs": [],
   "source": []
  },
  {
   "cell_type": "code",
   "execution_count": null,
   "metadata": {
    "collapsed": true
   },
   "outputs": [],
   "source": []
  },
  {
   "cell_type": "code",
   "execution_count": null,
   "metadata": {
    "collapsed": true
   },
   "outputs": [],
   "source": []
  }
 ],
 "metadata": {
  "kernelspec": {
   "display_name": "Python 3",
   "language": "python",
   "name": "python3"
  },
  "language_info": {
   "codemirror_mode": {
    "name": "ipython",
    "version": 3
   },
   "file_extension": ".py",
   "mimetype": "text/x-python",
   "name": "python",
   "nbconvert_exporter": "python",
   "pygments_lexer": "ipython3",
   "version": "3.6.1"
  }
 },
 "nbformat": 4,
 "nbformat_minor": 2
}
