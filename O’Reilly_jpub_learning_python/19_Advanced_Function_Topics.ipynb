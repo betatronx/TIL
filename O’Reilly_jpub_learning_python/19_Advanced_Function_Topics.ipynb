{
 "cells": [
  {
   "cell_type": "code",
   "execution_count": 1,
   "metadata": {},
   "outputs": [
    {
     "data": {
      "text/plain": [
       "15"
      ]
     },
     "execution_count": 1,
     "metadata": {},
     "output_type": "execute_result"
    }
   ],
   "source": [
    "# 재귀를 이용한 더하기\n",
    "def mysum(L):\n",
    "    if not L:\n",
    "        return 0\n",
    "    else:\n",
    "        return L[0] + mysum(L[1:])\n",
    "    \n",
    "mysum([1, 2, 3, 4, 5])    "
   ]
  },
  {
   "cell_type": "code",
   "execution_count": 2,
   "metadata": {},
   "outputs": [
    {
     "name": "stdout",
     "output_type": "stream",
     "text": [
      "[1, 2, 3, 4, 5]\n",
      "[2, 3, 4, 5]\n",
      "[3, 4, 5]\n",
      "[4, 5]\n",
      "[5]\n",
      "[]\n"
     ]
    },
    {
     "data": {
      "text/plain": [
       "15"
      ]
     },
     "execution_count": 2,
     "metadata": {},
     "output_type": "execute_result"
    }
   ],
   "source": [
    "def mysum(L):\n",
    "    print(L) # 재귀적 단계 추적\n",
    "    if not L:\n",
    "        return 0\n",
    "    else:\n",
    "        return L[0] + mysum(L[1:])\n",
    "    \n",
    "mysum([1, 2, 3, 4, 5])    "
   ]
  },
  {
   "cell_type": "code",
   "execution_count": 3,
   "metadata": {},
   "outputs": [
    {
     "data": {
      "text/plain": [
       "15"
      ]
     },
     "execution_count": 3,
     "metadata": {},
     "output_type": "execute_result"
    }
   ],
   "source": [
    "# 삼중 표현식 사용\n",
    "def mysum(L):\n",
    "    return 0 if not L else L[0] + mysum(L[1:])\n",
    "\n",
    "mysum([1, 2, 3, 4, 5])"
   ]
  },
  {
   "cell_type": "code",
   "execution_count": 4,
   "metadata": {},
   "outputs": [],
   "source": [
    "# 모든 타입 최소 하나\n",
    "def mysum(L):\n",
    "    return L[0] if len(L) == 1 else L[0] + mysum(L[1:])"
   ]
  },
  {
   "cell_type": "code",
   "execution_count": 5,
   "metadata": {},
   "outputs": [],
   "source": [
    "def mysum(L):\n",
    "    first, *rest = L\n",
    "    return first if not rest else first + mysum(rest)"
   ]
  },
  {
   "cell_type": "code",
   "execution_count": 6,
   "metadata": {},
   "outputs": [
    {
     "name": "stdout",
     "output_type": "stream",
     "text": [
      "1\n",
      "15\n",
      "spam\n",
      "spamhamegg\n"
     ]
    }
   ],
   "source": [
    "print(mysum([1]))\n",
    "print(mysum([1, 2, 3, 4, 5]))\n",
    "print(mysum(['s', 'p', 'a', 'm']))\n",
    "print(mysum(['spam', 'ham', 'egg']))"
   ]
  },
  {
   "cell_type": "code",
   "execution_count": 7,
   "metadata": {},
   "outputs": [
    {
     "data": {
      "text/plain": [
       "15"
      ]
     },
     "execution_count": 7,
     "metadata": {},
     "output_type": "execute_result"
    }
   ],
   "source": [
    "L = [1, 2, 3, 4, 5]\n",
    "sum = 0\n",
    "for x in L: sum += x\n",
    "\n",
    "sum"
   ]
  },
  {
   "cell_type": "code",
   "execution_count": 8,
   "metadata": {},
   "outputs": [
    {
     "name": "stdout",
     "output_type": "stream",
     "text": [
      "36\n",
      "15\n",
      "15\n"
     ]
    }
   ],
   "source": [
    "# 임의 구조 처리 하기\n",
    "# 단순한 1차원 반복이 아니기 때문에 간단한 반복문으로 처리할 수 없다.\n",
    "# 탐색 과정에서 서브리스트를 방문하기 위해 재귀를 사용함으로써 일반적인 중첩을 허용한다.\n",
    "def sumtree(L):\n",
    "    tot = 0\n",
    "    for x in L: # 현재 단계의 각 아이템에 대한 반복\n",
    "        if not isinstance(x, list): # x가 list 인스턴스가 아니라면\n",
    "            tot += x # tot에 숫자를 더해주기\n",
    "        else:\n",
    "            tot += sumtree(x) # 서브 리스트에 대한 재귀\n",
    "    return tot\n",
    "\n",
    "L =[1, [2, [3, 4], 5], 6, [7, 8]]\n",
    "print(sumtree(L))\n",
    "\n",
    "# 매우 복잡한 경우\n",
    "# 오른쪽이 무거움\n",
    "print(sumtree([1, [2, [3, [4, [5]]]]]))\n",
    "# 왼쪽이 무거움\n",
    "print(sumtree([[[[[1], 2], 3], 4], 5]))"
   ]
  },
  {
   "cell_type": "code",
   "execution_count": 9,
   "metadata": {},
   "outputs": [
    {
     "name": "stdout",
     "output_type": "stream",
     "text": [
      "[2, [3, [4, [5]]]]\n",
      "[3, [4, [5]]]\n",
      "[4, [5]]\n",
      "[5]\n",
      "15\n",
      "[5, [[[1], 2], 3], 4]\n",
      "[4, [[1], 2], 3]\n",
      "[3, [1], 2]\n",
      "[2, 1]\n",
      "15\n"
     ]
    }
   ],
   "source": [
    "# 대상 리스트의 아이템을 방문할 때 재귀호출 대신 처리 스케쥴을 만들기 위해 명시적인 리스트를 사용한다.\n",
    "# 리스트 앞에 있는 아이템이 항상 다음에 처리되고 더해진다.\n",
    "def sumtree(L):\n",
    "    tot = 0\n",
    "    items = list(L)\n",
    "    while items:\n",
    "        front = items.pop(0)\n",
    "        if not isinstance(front, list):\n",
    "            tot += front\n",
    "        else:\n",
    "            items.extend(front)\n",
    "            print(items)\n",
    "    return tot        \n",
    "\n",
    "# 오른쪽이 무거움\n",
    "print(sumtree([1, [2, [3, [4, [5]]]]]))\n",
    "# 왼쪽이 무거움\n",
    "print(sumtree([[[[[1], 2], 3], 4], 5]))"
   ]
  },
  {
   "cell_type": "code",
   "execution_count": 10,
   "metadata": {},
   "outputs": [
    {
     "name": "stdout",
     "output_type": "stream",
     "text": [
      "[2, [3, [4, [5]]]]\n",
      "[3, [4, [5]]]\n",
      "[4, [5]]\n",
      "[5]\n",
      "15\n",
      "[5, [[[1], 2], 3], 4]\n",
      "[4, [[1], 2], 3]\n",
      "[3, [1], 2]\n",
      "[2, 1]\n",
      "15\n"
     ]
    }
   ],
   "source": [
    "# 책 701 쪽 큐와 스택의 코드가 똑같이 되어 있음\n",
    "# 깊이 우선, 명시적인 스택\n",
    "def sumtree(L):\n",
    "    tot = 0\n",
    "    items = list(L) # 최상위 복사본으로 시작\n",
    "    while items:\n",
    "        front = items.pop(0) # 가장 앞의 아이템을 가져오고 삭제\n",
    "        if not isinstance(front, list):\n",
    "            tot += front\n",
    "        else:\n",
    "            items.extend(front)\n",
    "            print(items)\n",
    "    return tot\n",
    "\n",
    "\n",
    "# 오른쪽이 무거움\n",
    "print(sumtree([1, [2, [3, [4, [5]]]]]))\n",
    "# 왼쪽이 무거움\n",
    "print(sumtree([[[[[1], 2], 3], 4], 5]))        "
   ]
  },
  {
   "cell_type": "code",
   "execution_count": 11,
   "metadata": {},
   "outputs": [
    {
     "name": "stdout",
     "output_type": "stream",
     "text": [
      "Direct call\n"
     ]
    }
   ],
   "source": [
    "# 간접 함수 호출 : '퍼스트 클래스'객체\n",
    "def echo(message):\n",
    "    print(message)\n",
    "    \n",
    "echo('Direct call')    "
   ]
  },
  {
   "cell_type": "code",
   "execution_count": 12,
   "metadata": {},
   "outputs": [
    {
     "name": "stdout",
     "output_type": "stream",
     "text": [
      "Indirect call\n"
     ]
    }
   ],
   "source": [
    "x = echo # x 또한 함수를 참조힘\n",
    "x('Indirect call') # ()를 추가하여 이름을 통한 객체 호출"
   ]
  },
  {
   "cell_type": "code",
   "execution_count": 13,
   "metadata": {
    "scrolled": true
   },
   "outputs": [
    {
     "name": "stdout",
     "output_type": "stream",
     "text": [
      "Argument call\n"
     ]
    }
   ],
   "source": [
    "def indirect(func, arg):\n",
    "    func(arg)\n",
    "\n",
    "indirect(echo, 'Argument call')    "
   ]
  },
  {
   "cell_type": "code",
   "execution_count": 14,
   "metadata": {},
   "outputs": [
    {
     "name": "stdout",
     "output_type": "stream",
     "text": [
      "Spam!\n",
      "Ham!\n"
     ]
    }
   ],
   "source": [
    "schedule = [ (echo, 'Spam!'), (echo, 'Ham!')]\n",
    "for (func, arg) in schedule:\n",
    "    func(arg) # 컨테이너에 포함된 함수 호출"
   ]
  },
  {
   "cell_type": "code",
   "execution_count": 15,
   "metadata": {},
   "outputs": [
    {
     "name": "stdout",
     "output_type": "stream",
     "text": [
      "Spam:Ham!\n",
      "Spam:Eggs\n"
     ]
    }
   ],
   "source": [
    "def make(label): # 함수를 만들지만 호출하지는 않음\n",
    "    def echo(message):\n",
    "        print(label + ':' + message)\n",
    "    return echo    \n",
    "\n",
    "F = make('Spam')\n",
    "F('Ham!')\n",
    "F('Eggs')\n",
    "# 파이썬의 보편적인 퍼스트 클래스 객체 모델과 타입 선언의 부재는 파이썬을 유연한 프로그래밍 언어로 만든다."
   ]
  },
  {
   "cell_type": "code",
   "execution_count": 16,
   "metadata": {},
   "outputs": [
    {
     "data": {
      "text/plain": [
       "'spamspamspamspamspamspamspamspam'"
      ]
     },
     "execution_count": 16,
     "metadata": {},
     "output_type": "execute_result"
    }
   ],
   "source": [
    "# 함수 내부 접근\n",
    "def func(a):\n",
    "    b = 'spam'\n",
    "    return b * a\n",
    "\n",
    "func(8)"
   ]
  },
  {
   "cell_type": "code",
   "execution_count": 17,
   "metadata": {},
   "outputs": [
    {
     "data": {
      "text/plain": [
       "'func'"
      ]
     },
     "execution_count": 17,
     "metadata": {},
     "output_type": "execute_result"
    }
   ],
   "source": [
    "func.__name__"
   ]
  },
  {
   "cell_type": "code",
   "execution_count": 18,
   "metadata": {},
   "outputs": [
    {
     "data": {
      "text/plain": [
       "['__annotations__',\n",
       " '__call__',\n",
       " '__class__',\n",
       " '__closure__',\n",
       " '__code__',\n",
       " '__defaults__',\n",
       " '__delattr__',\n",
       " '__dict__',\n",
       " '__dir__',\n",
       " '__doc__',\n",
       " '__eq__',\n",
       " '__format__',\n",
       " '__ge__',\n",
       " '__get__',\n",
       " '__getattribute__',\n",
       " '__globals__',\n",
       " '__gt__',\n",
       " '__hash__',\n",
       " '__init__',\n",
       " '__init_subclass__',\n",
       " '__kwdefaults__',\n",
       " '__le__',\n",
       " '__lt__',\n",
       " '__module__',\n",
       " '__name__',\n",
       " '__ne__',\n",
       " '__new__',\n",
       " '__qualname__',\n",
       " '__reduce__',\n",
       " '__reduce_ex__',\n",
       " '__repr__',\n",
       " '__setattr__',\n",
       " '__sizeof__',\n",
       " '__str__',\n",
       " '__subclasshook__']"
      ]
     },
     "execution_count": 18,
     "metadata": {},
     "output_type": "execute_result"
    }
   ],
   "source": [
    "dir(func)"
   ]
  },
  {
   "cell_type": "code",
   "execution_count": 19,
   "metadata": {},
   "outputs": [
    {
     "data": {
      "text/plain": [
       "<code object func at 0x1064b2300, file \"<ipython-input-16-46941878016b>\", line 2>"
      ]
     },
     "execution_count": 19,
     "metadata": {},
     "output_type": "execute_result"
    }
   ],
   "source": [
    "func.__code__"
   ]
  },
  {
   "cell_type": "code",
   "execution_count": 20,
   "metadata": {},
   "outputs": [
    {
     "data": {
      "text/plain": [
       "['__class__',\n",
       " '__delattr__',\n",
       " '__dir__',\n",
       " '__doc__',\n",
       " '__eq__',\n",
       " '__format__',\n",
       " '__ge__',\n",
       " '__getattribute__',\n",
       " '__gt__',\n",
       " '__hash__',\n",
       " '__init__',\n",
       " '__init_subclass__',\n",
       " '__le__',\n",
       " '__lt__',\n",
       " '__ne__',\n",
       " '__new__',\n",
       " '__reduce__',\n",
       " '__reduce_ex__',\n",
       " '__repr__',\n",
       " '__setattr__',\n",
       " '__sizeof__',\n",
       " '__str__',\n",
       " '__subclasshook__',\n",
       " 'co_argcount',\n",
       " 'co_cellvars',\n",
       " 'co_code',\n",
       " 'co_consts',\n",
       " 'co_filename',\n",
       " 'co_firstlineno',\n",
       " 'co_flags',\n",
       " 'co_freevars',\n",
       " 'co_kwonlyargcount',\n",
       " 'co_lnotab',\n",
       " 'co_name',\n",
       " 'co_names',\n",
       " 'co_nlocals',\n",
       " 'co_stacksize',\n",
       " 'co_varnames']"
      ]
     },
     "execution_count": 20,
     "metadata": {},
     "output_type": "execute_result"
    }
   ],
   "source": [
    "dir(func.__code__)"
   ]
  },
  {
   "cell_type": "code",
   "execution_count": 21,
   "metadata": {},
   "outputs": [
    {
     "data": {
      "text/plain": [
       "('a', 'b')"
      ]
     },
     "execution_count": 21,
     "metadata": {},
     "output_type": "execute_result"
    }
   ],
   "source": [
    "func.__code__.co_varnames"
   ]
  },
  {
   "cell_type": "code",
   "execution_count": 22,
   "metadata": {},
   "outputs": [
    {
     "data": {
      "text/plain": [
       "1"
      ]
     },
     "execution_count": 22,
     "metadata": {},
     "output_type": "execute_result"
    }
   ],
   "source": [
    "func.__code__.co_argcount"
   ]
  },
  {
   "cell_type": "code",
   "execution_count": 23,
   "metadata": {},
   "outputs": [
    {
     "data": {
      "text/plain": [
       "<function __main__.func>"
      ]
     },
     "execution_count": 23,
     "metadata": {},
     "output_type": "execute_result"
    }
   ],
   "source": [
    "# 함수 속성\n",
    "# 임의의 사용자 정의 속성을 함수에 첨부하는 것 또한 가능\n",
    "func"
   ]
  },
  {
   "cell_type": "code",
   "execution_count": 24,
   "metadata": {},
   "outputs": [],
   "source": [
    "func.count = 0"
   ]
  },
  {
   "cell_type": "code",
   "execution_count": 25,
   "metadata": {},
   "outputs": [
    {
     "data": {
      "text/plain": [
       "1"
      ]
     },
     "execution_count": 25,
     "metadata": {},
     "output_type": "execute_result"
    }
   ],
   "source": [
    "func.count += 1\n",
    "func.count"
   ]
  },
  {
   "cell_type": "code",
   "execution_count": 26,
   "metadata": {},
   "outputs": [
    {
     "data": {
      "text/plain": [
       "['__annotations__',\n",
       " '__call__',\n",
       " '__class__',\n",
       " '__closure__',\n",
       " '__code__',\n",
       " '__defaults__',\n",
       " '__delattr__',\n",
       " '__dict__',\n",
       " '__dir__',\n",
       " '__doc__',\n",
       " '__eq__',\n",
       " '__format__',\n",
       " '__ge__',\n",
       " '__get__',\n",
       " '__getattribute__',\n",
       " '__globals__',\n",
       " '__gt__',\n",
       " '__hash__',\n",
       " '__init__',\n",
       " '__init_subclass__',\n",
       " '__kwdefaults__',\n",
       " '__le__',\n",
       " '__lt__',\n",
       " '__module__',\n",
       " '__name__',\n",
       " '__ne__',\n",
       " '__new__',\n",
       " '__qualname__',\n",
       " '__reduce__',\n",
       " '__reduce_ex__',\n",
       " '__repr__',\n",
       " '__setattr__',\n",
       " '__sizeof__',\n",
       " '__str__',\n",
       " '__subclasshook__',\n",
       " 'count',\n",
       " 'handles']"
      ]
     },
     "execution_count": 26,
     "metadata": {},
     "output_type": "execute_result"
    }
   ],
   "source": [
    "# 사용자 정의 속성을 함수에 첨부하는 것 또한 가능\n",
    "func.handles = 'Button-Press'\n",
    "dir(func)"
   ]
  },
  {
   "cell_type": "code",
   "execution_count": 27,
   "metadata": {
    "scrolled": true
   },
   "outputs": [
    {
     "data": {
      "text/plain": [
       "35"
      ]
     },
     "execution_count": 27,
     "metadata": {},
     "output_type": "execute_result"
    }
   ],
   "source": [
    "def f(): pass\n",
    "dir(f)\n",
    "len(dir(f))"
   ]
  },
  {
   "cell_type": "code",
   "execution_count": 28,
   "metadata": {
    "scrolled": true
   },
   "outputs": [
    {
     "data": {
      "text/plain": [
       "[]"
      ]
     },
     "execution_count": 28,
     "metadata": {},
     "output_type": "execute_result"
    }
   ],
   "source": [
    "[x for x in dir(f) if not x.startswith('__')]\n",
    "# 동일한 방식으로 속석 이름을 지정하지 않도록 주의한다면, 함수의 네임스페이스틑 안전하게 사용할 수 있다."
   ]
  },
  {
   "cell_type": "code",
   "execution_count": 29,
   "metadata": {},
   "outputs": [
    {
     "data": {
      "text/plain": [
       "6"
      ]
     },
     "execution_count": 29,
     "metadata": {},
     "output_type": "execute_result"
    }
   ],
   "source": [
    "# 함수 어노테이션\n",
    "def func(a, b, c):\n",
    "    return a + b + c\n",
    "\n",
    "func(1, 2, 3)"
   ]
  },
  {
   "cell_type": "code",
   "execution_count": 30,
   "metadata": {},
   "outputs": [
    {
     "data": {
      "text/plain": [
       "6"
      ]
     },
     "execution_count": 30,
     "metadata": {},
     "output_type": "execute_result"
    }
   ],
   "source": [
    "# 어노테이션이 추가된 함수는 평소와 동일하게 호출할 수 있지만\n",
    "# 파이썬은 추가된 어노테이션을 하나의 딕셔너리에 모아서 함수 객체 자체에  첨부 한다.\n",
    "def func(a: 'spam', b: (1, 10), c: float) -> int:\n",
    "    return a + b + c\n",
    "func(1, 2, 3)"
   ]
  },
  {
   "cell_type": "code",
   "execution_count": 31,
   "metadata": {},
   "outputs": [
    {
     "data": {
      "text/plain": [
       "{'a': 'spam', 'b': (1, 10), 'c': float, 'return': int}"
      ]
     },
     "execution_count": 31,
     "metadata": {},
     "output_type": "execute_result"
    }
   ],
   "source": [
    "func.__annotations__"
   ]
  },
  {
   "cell_type": "code",
   "execution_count": 32,
   "metadata": {},
   "outputs": [
    {
     "data": {
      "text/plain": [
       "6"
      ]
     },
     "execution_count": 32,
     "metadata": {},
     "output_type": "execute_result"
    }
   ],
   "source": [
    "# 세 개의 인수 중에 두 개의 인수에만 어노테이션을 추가하여 일반적인 방식으로 첨부된 어노테이션을 반복한다.\n",
    "def func(a: 'spam', b, c: 99):\n",
    "    return a + b + c\n",
    "\n",
    "func(1, 2, 3)"
   ]
  },
  {
   "cell_type": "code",
   "execution_count": 33,
   "metadata": {},
   "outputs": [
    {
     "data": {
      "text/plain": [
       "{'a': 'spam', 'c': 99}"
      ]
     },
     "execution_count": 33,
     "metadata": {},
     "output_type": "execute_result"
    }
   ],
   "source": [
    "func.__annotations__"
   ]
  },
  {
   "cell_type": "code",
   "execution_count": 34,
   "metadata": {},
   "outputs": [
    {
     "name": "stdout",
     "output_type": "stream",
     "text": [
      "a => spam\n",
      "c => 99\n"
     ]
    }
   ],
   "source": [
    "for arg in func.__annotations__:\n",
    "    print(arg, '=>', func.__annotations__[arg])"
   ]
  },
  {
   "cell_type": "code",
   "execution_count": 35,
   "metadata": {},
   "outputs": [
    {
     "data": {
      "text/plain": [
       "6"
      ]
     },
     "execution_count": 35,
     "metadata": {},
     "output_type": "execute_result"
    }
   ],
   "source": [
    "def func(a: 'spam'= 4, b: (1, 10) = 5, c: float = 6) -> int:\n",
    "    return a + b + c\n",
    "\n",
    "func(1, 2, 3)"
   ]
  }
 ],
 "metadata": {
  "kernelspec": {
   "display_name": "Python 3",
   "language": "python",
   "name": "python3"
  },
  "language_info": {
   "codemirror_mode": {
    "name": "ipython",
    "version": 3
   },
   "file_extension": ".py",
   "mimetype": "text/x-python",
   "name": "python",
   "nbconvert_exporter": "python",
   "pygments_lexer": "ipython3",
   "version": "3.6.1"
  }
 },
 "nbformat": 4,
 "nbformat_minor": 2
}
