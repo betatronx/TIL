{
 "cells": [
  {
   "cell_type": "code",
   "execution_count": 1,
   "metadata": {},
   "outputs": [
    {
     "data": {
      "text/plain": [
       "15"
      ]
     },
     "execution_count": 1,
     "metadata": {},
     "output_type": "execute_result"
    }
   ],
   "source": [
    "# 재귀를 이용한 더하기\n",
    "def mysum(L):\n",
    "    if not L:\n",
    "        return 0\n",
    "    else:\n",
    "        return L[0] + mysum(L[1:])\n",
    "    \n",
    "mysum([1, 2, 3, 4, 5])    "
   ]
  },
  {
   "cell_type": "code",
   "execution_count": 2,
   "metadata": {},
   "outputs": [
    {
     "name": "stdout",
     "output_type": "stream",
     "text": [
      "[1, 2, 3, 4, 5]\n",
      "[2, 3, 4, 5]\n",
      "[3, 4, 5]\n",
      "[4, 5]\n",
      "[5]\n",
      "[]\n"
     ]
    },
    {
     "data": {
      "text/plain": [
       "15"
      ]
     },
     "execution_count": 2,
     "metadata": {},
     "output_type": "execute_result"
    }
   ],
   "source": [
    "def mysum(L):\n",
    "    print(L) # 재귀적 단계 추적\n",
    "    if not L:\n",
    "        return 0\n",
    "    else:\n",
    "        return L[0] + mysum(L[1:])\n",
    "    \n",
    "mysum([1, 2, 3, 4, 5])    "
   ]
  },
  {
   "cell_type": "code",
   "execution_count": 3,
   "metadata": {},
   "outputs": [
    {
     "data": {
      "text/plain": [
       "15"
      ]
     },
     "execution_count": 3,
     "metadata": {},
     "output_type": "execute_result"
    }
   ],
   "source": [
    "# 삼중 표현식 사용\n",
    "def mysum(L):\n",
    "    return 0 if not L else L[0] + mysum(L[1:])\n",
    "\n",
    "mysum([1, 2, 3, 4, 5])"
   ]
  },
  {
   "cell_type": "code",
   "execution_count": 4,
   "metadata": {},
   "outputs": [],
   "source": [
    "# 모든 타입 최소 하나\n",
    "def mysum(L):\n",
    "    return L[0] if len(L) == 1 else L[0] + mysum(L[1:])"
   ]
  },
  {
   "cell_type": "code",
   "execution_count": 5,
   "metadata": {},
   "outputs": [],
   "source": [
    "def mysum(L):\n",
    "    first, *rest = L\n",
    "    return first if not rest else first + mysum(rest)"
   ]
  },
  {
   "cell_type": "code",
   "execution_count": 6,
   "metadata": {},
   "outputs": [
    {
     "name": "stdout",
     "output_type": "stream",
     "text": [
      "1\n",
      "15\n",
      "spam\n",
      "spamhamegg\n"
     ]
    }
   ],
   "source": [
    "print(mysum([1]))\n",
    "print(mysum([1, 2, 3, 4, 5]))\n",
    "print(mysum(['s', 'p', 'a', 'm']))\n",
    "print(mysum(['spam', 'ham', 'egg']))"
   ]
  },
  {
   "cell_type": "code",
   "execution_count": 7,
   "metadata": {},
   "outputs": [
    {
     "data": {
      "text/plain": [
       "15"
      ]
     },
     "execution_count": 7,
     "metadata": {},
     "output_type": "execute_result"
    }
   ],
   "source": [
    "L = [1, 2, 3, 4, 5]\n",
    "sum = 0\n",
    "for x in L: sum += x\n",
    "\n",
    "sum"
   ]
  },
  {
   "cell_type": "code",
   "execution_count": 8,
   "metadata": {},
   "outputs": [
    {
     "name": "stdout",
     "output_type": "stream",
     "text": [
      "36\n",
      "15\n",
      "15\n"
     ]
    }
   ],
   "source": [
    "# 임의 구조 처리 하기\n",
    "def sumtree(L):\n",
    "    tot = 0\n",
    "    for x in L: # 현재 단계의 각 아이템에 대한 반복\n",
    "        if not isinstance(x, list):\n",
    "            tot += x # tot에 숫자를 더해주기\n",
    "        else:\n",
    "            tot += sumtree(x) # 서브 리스트에 대한 재귀\n",
    "    return tot\n",
    "\n",
    "L =[1, [2, [3, 4], 5], 6, [7, 8]]\n",
    "print(sumtree(L))\n",
    "\n",
    "# 매우 복잡한 경우\n",
    "# 오른쪽이 무거움\n",
    "print(sumtree([1, [2, [3, [4, [5]]]]]))\n",
    "# 왼쪽이 무거움\n",
    "print(sumtree([[[[[1], 2], 3], 4], 5]))"
   ]
  },
  {
   "cell_type": "code",
   "execution_count": null,
   "metadata": {},
   "outputs": [],
   "source": []
  }
 ],
 "metadata": {
  "kernelspec": {
   "display_name": "Python 3",
   "language": "python",
   "name": "python3"
  },
  "language_info": {
   "codemirror_mode": {
    "name": "ipython",
    "version": 3
   },
   "file_extension": ".py",
   "mimetype": "text/x-python",
   "name": "python",
   "nbconvert_exporter": "python",
   "pygments_lexer": "ipython3",
   "version": "3.6.1"
  }
 },
 "nbformat": 4,
 "nbformat_minor": 2
}
