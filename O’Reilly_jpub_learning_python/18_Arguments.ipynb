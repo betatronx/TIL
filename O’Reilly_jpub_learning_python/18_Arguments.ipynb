{
 "cells": [
  {
   "cell_type": "code",
   "execution_count": 1,
   "metadata": {},
   "outputs": [
    {
     "name": "stdout",
     "output_type": "stream",
     "text": [
      "1 2 3 4\n"
     ]
    }
   ],
   "source": [
    "def func(a, b, c, d): print(a, b, c, d)\n",
    "    \n",
    "args = (1, 2)\n",
    "args += (3, 4)\n",
    "func(*args)"
   ]
  },
  {
   "cell_type": "code",
   "execution_count": 2,
   "metadata": {},
   "outputs": [
    {
     "name": "stdout",
     "output_type": "stream",
     "text": [
      "1 2 3 4\n"
     ]
    }
   ],
   "source": [
    "# ** 구분은 키/값의 쌍들로 구성된 딕셔너리를 개별 키워드 인수로 언패킹 한다.\n",
    "args = {'a': 1, 'b': 2, 'c': 3}\n",
    "args['d'] = 4\n",
    "func(**args)"
   ]
  },
  {
   "cell_type": "code",
   "execution_count": 3,
   "metadata": {},
   "outputs": [
    {
     "name": "stdout",
     "output_type": "stream",
     "text": [
      "1 2 3 4\n"
     ]
    }
   ],
   "source": [
    "func(*(1, 2), **{'d':4, 'c':3})"
   ]
  },
  {
   "cell_type": "code",
   "execution_count": 4,
   "metadata": {},
   "outputs": [
    {
     "name": "stdout",
     "output_type": "stream",
     "text": [
      "1 2 3 4\n"
     ]
    }
   ],
   "source": [
    "func(1, *(2, 3), **{'d':4})"
   ]
  },
  {
   "cell_type": "code",
   "execution_count": 5,
   "metadata": {},
   "outputs": [
    {
     "name": "stdout",
     "output_type": "stream",
     "text": [
      "1 2 3 4\n"
     ]
    }
   ],
   "source": [
    "func(1, c=3, *(2,), **{'d':4})"
   ]
  },
  {
   "cell_type": "code",
   "execution_count": 6,
   "metadata": {},
   "outputs": [
    {
     "name": "stdout",
     "output_type": "stream",
     "text": [
      "1 2 3 4\n"
     ]
    }
   ],
   "source": [
    "func(1, *(2, 3), d=4)"
   ]
  },
  {
   "cell_type": "code",
   "execution_count": 7,
   "metadata": {},
   "outputs": [
    {
     "name": "stdout",
     "output_type": "stream",
     "text": [
      "1 2 3 4\n"
     ]
    }
   ],
   "source": [
    "func(1, *(2,), c=3, **{'d':4})"
   ]
  },
  {
   "cell_type": "code",
   "execution_count": 8,
   "metadata": {},
   "outputs": [
    {
     "name": "stdout",
     "output_type": "stream",
     "text": [
      "calling: func\n",
      "10\n"
     ]
    }
   ],
   "source": [
    "def tracer(func, *pargs, **kargs): # 임의의 인수를 받아들임\n",
    "    print('calling:', func.__name__)\n",
    "    return func(*pargs, **kargs) # 임의의 인수를 전달함\n",
    "\n",
    "def func(a, b, c, d):\n",
    "    return a + b + c + d\n",
    "\n",
    "print(tracer(func, 1, 2, c=3, d=4))"
   ]
  },
  {
   "cell_type": "code",
   "execution_count": 9,
   "metadata": {},
   "outputs": [
    {
     "name": "stdout",
     "output_type": "stream",
     "text": [
      "(1, 2) {'a': 3, 'b': 4}\n"
     ]
    }
   ],
   "source": [
    "def echo(*args, **kwargs): print(args, kwargs)\n",
    "\n",
    "echo(1, 2, a=3, b=4)"
   ]
  },
  {
   "cell_type": "code",
   "execution_count": 10,
   "metadata": {},
   "outputs": [
    {
     "name": "stdout",
     "output_type": "stream",
     "text": [
      "(1, 2) {'a': 3, 'b': 4}\n"
     ]
    }
   ],
   "source": [
    "pargs = (1, 2)\n",
    "kargs = {'a':3, 'b':4}\n",
    "echo(*pargs, **kargs)"
   ]
  },
  {
   "cell_type": "code",
   "execution_count": 11,
   "metadata": {},
   "outputs": [
    {
     "name": "stdout",
     "output_type": "stream",
     "text": [
      "1 (2,) 3\n",
      "1 () 3\n"
     ]
    }
   ],
   "source": [
    "# 호출에서 키워드 구문을 사용하여 전달되어야만 한다.\n",
    "# a는 이름 또는 위치로 전달될 수 있으며,\n",
    "# b는 나머지 위치 인수 모두를 모으고\n",
    "# c는 키워드로만 전달되어야 한다.\n",
    "def kwonly(a, *b, c):\n",
    "    print(a, b, c)\n",
    "\n",
    "kwonly(1, 2, c=3)\n",
    "kwonly(1, c=3) \n",
    "# 1 required keyword-only argument: 'c'\n",
    "# kwonly(1, 2, 3)    "
   ]
  },
  {
   "cell_type": "code",
   "execution_count": 12,
   "metadata": {},
   "outputs": [
    {
     "data": {
      "text/plain": [
       "1"
      ]
     },
     "execution_count": 12,
     "metadata": {},
     "output_type": "execute_result"
    }
   ],
   "source": [
    "def min1(*args):\n",
    "    res = args[0]\n",
    "    for arg in args[1:]:\n",
    "        if arg < res:\n",
    "            res = arg\n",
    "    return res   \n",
    "\n",
    "min1(3, 4, 1, 2)"
   ]
  },
  {
   "cell_type": "code",
   "execution_count": 13,
   "metadata": {},
   "outputs": [
    {
     "data": {
      "text/plain": [
       "'aa'"
      ]
     },
     "execution_count": 13,
     "metadata": {},
     "output_type": "execute_result"
    }
   ],
   "source": [
    "def min2(first, *rest):\n",
    "    for arg in rest:\n",
    "        if arg < first:\n",
    "            first = arg\n",
    "    return first\n",
    "\n",
    "min2('bb', 'aa', 'cc')"
   ]
  },
  {
   "cell_type": "code",
   "execution_count": 14,
   "metadata": {},
   "outputs": [
    {
     "data": {
      "text/plain": [
       "[1, 1]"
      ]
     },
     "execution_count": 14,
     "metadata": {},
     "output_type": "execute_result"
    }
   ],
   "source": [
    "def min3(*args):\n",
    "    tmp = list(args)\n",
    "    tmp.sort()\n",
    "    return tmp[0]\n",
    "\n",
    "min3([2, 2], [1, 1], [3, 3])"
   ]
  },
  {
   "cell_type": "code",
   "execution_count": 15,
   "metadata": {},
   "outputs": [
    {
     "name": "stdout",
     "output_type": "stream",
     "text": [
      "1\n",
      "6\n"
     ]
    }
   ],
   "source": [
    "# 하나의 함수로 최솟값 또는 최댓값 중 하나를 계산하도록 한다.\n",
    "# 임의의 비교함수를 전달하여 일반화 \n",
    "def minmax(test, *args):\n",
    "    res = args[0]\n",
    "    for arg in args[1:]:\n",
    "        if test(arg, res):\n",
    "            res = arg\n",
    "    return res\n",
    "\n",
    "def lessthan(x, y): return x < y\n",
    "def grtrthan(x, y): return x > y\n",
    "\n",
    "print(minmax(lessthan, 4, 2, 1, 5, 6, 3))\n",
    "print(minmax(grtrthan, 4, 2, 1, 5, 6, 3))"
   ]
  },
  {
   "cell_type": "code",
   "execution_count": 16,
   "metadata": {},
   "outputs": [],
   "source": [
    "# 일반화된 집합 함수들\n",
    "def intersect(*args):\n",
    "    res = []\n",
    "    # 첫 번째 시퀀스 탐색\n",
    "    for x in args[0]:\n",
    "        # 중복항목은 건너뜀\n",
    "        if x in res: continue\n",
    "        #  다른 인수들을 위해     \n",
    "        for other in args[1:]:\n",
    "            # 각각의 인수에 해당 항목이 있으면 건너뜀\n",
    "            if x not in other: break\n",
    "        # 있으면 마지막에 항목 추가    \n",
    "        else: res.append(x)    \n",
    "    return res\n",
    "\n",
    "# 모든 항목을 돌면서 중복되지 않게 res에 담아준다.           \n",
    "def union(*args):\n",
    "    res = []\n",
    "    for seq in args:\n",
    "        for x in seq:\n",
    "            if not x in res:\n",
    "                res.append(x)\n",
    "    return res             "
   ]
  },
  {
   "cell_type": "code",
   "execution_count": 17,
   "metadata": {},
   "outputs": [
    {
     "data": {
      "text/plain": [
       "(['S', 'A', 'M'], ['S', 'P', 'A', 'M', 'C'])"
      ]
     },
     "execution_count": 17,
     "metadata": {},
     "output_type": "execute_result"
    }
   ],
   "source": [
    "s1, s2, s3 = 'SPAM', 'SCAM', 'SLAM'\n",
    "# 두 개의 피연산자\n",
    "intersect(s1, s2), union(s1, s2)"
   ]
  },
  {
   "cell_type": "code",
   "execution_count": 18,
   "metadata": {},
   "outputs": [
    {
     "data": {
      "text/plain": [
       "[1]"
      ]
     },
     "execution_count": 18,
     "metadata": {},
     "output_type": "execute_result"
    }
   ],
   "source": [
    "# 혼합된 타입\n",
    "intersect([1, 2, 3], (1, 4))"
   ]
  },
  {
   "cell_type": "code",
   "execution_count": 19,
   "metadata": {
    "scrolled": true
   },
   "outputs": [
    {
     "data": {
      "text/plain": [
       "['S', 'A', 'M']"
      ]
     },
     "execution_count": 19,
     "metadata": {},
     "output_type": "execute_result"
    }
   ],
   "source": [
    "intersect(s1, s2, s3)"
   ]
  },
  {
   "cell_type": "code",
   "execution_count": 20,
   "metadata": {},
   "outputs": [
    {
     "data": {
      "text/plain": [
       "['S', 'P', 'A', 'M', 'C']"
      ]
     },
     "execution_count": 20,
     "metadata": {},
     "output_type": "execute_result"
    }
   ],
   "source": [
    "union(s1, s2)"
   ]
  },
  {
   "cell_type": "code",
   "execution_count": 25,
   "metadata": {},
   "outputs": [
    {
     "name": "stdout",
     "output_type": "stream",
     "text": [
      "('abcdefg', 'abdst', 'albmcnd', 'a')\n",
      "['a']\n",
      "('abdst', 'albmcnd', 'a', 'abcdefg')\n",
      "['a']\n",
      "('albmcnd', 'a', 'abcdefg', 'abdst')\n",
      "['a']\n",
      "('a', 'abcdefg', 'abdst', 'albmcnd')\n",
      "['a']\n"
     ]
    }
   ],
   "source": [
    "# 간단한 shuffling을 이용해 다른 순서의 인수를 대상으로 앞에서 작성한 두 도구를 적용하는 함수를 작성\n",
    "# 첫 번째 항목을 마지막으로 이동시키기 위해 슬라이스를 하며,\n",
    "# 인수들은 언패킹을 하기 위해 *를 사용하고, 비교를 위해 결과를 정렬한다.\n",
    "def tester(func, items, trace=True):\n",
    "    for i in range(len(items)):\n",
    "        items = items[1:] + items[:1]\n",
    "        if trace: print(items)\n",
    "        print(sorted(func(*items)))\n",
    "\n",
    "tester(intersect, ('a', 'abcdefg', 'abdst', 'albmcnd'))        "
   ]
  },
  {
   "cell_type": "code",
   "execution_count": 27,
   "metadata": {},
   "outputs": [
    {
     "name": "stdout",
     "output_type": "stream",
     "text": [
      "['a', 'b', 'c', 'd', 'e', 'f', 'g', 'l', 'm', 'n', 's', 't']\n",
      "['a', 'b', 'c', 'd', 'e', 'f', 'g', 'l', 'm', 'n', 's', 't']\n",
      "['a', 'b', 'c', 'd', 'e', 'f', 'g', 'l', 'm', 'n', 's', 't']\n",
      "['a', 'b', 'c', 'd', 'e', 'f', 'g', 'l', 'm', 'n', 's', 't']\n"
     ]
    }
   ],
   "source": [
    "tester(union, ('a', 'abcdefg', 'abdst', 'albmcnd'), False)        "
   ]
  },
  {
   "cell_type": "code",
   "execution_count": 29,
   "metadata": {},
   "outputs": [
    {
     "name": "stdout",
     "output_type": "stream",
     "text": [
      "['a', 'b']\n",
      "['a', 'b']\n",
      "['a', 'b']\n",
      "['a', 'b']\n"
     ]
    }
   ],
   "source": [
    "tester(intersect, ('ab', 'abcdefg', 'abdst', 'albmcnd'), False)        "
   ]
  },
  {
   "cell_type": "code",
   "execution_count": 30,
   "metadata": {},
   "outputs": [
    {
     "name": "stdout",
     "output_type": "stream",
     "text": [
      "1 2 5\n"
     ]
    }
   ],
   "source": [
    "# Quiz1\n",
    "def func(a, b=4, c=5):\n",
    "    print (a, b, c)\n",
    "\n",
    "func(1, 2)    "
   ]
  },
  {
   "cell_type": "code",
   "execution_count": 32,
   "metadata": {},
   "outputs": [
    {
     "name": "stdout",
     "output_type": "stream",
     "text": [
      "1 2 3\n"
     ]
    }
   ],
   "source": [
    "# Quiz2\n",
    "def func(a, b, c=5):\n",
    "    print(a, b, c)\n",
    "\n",
    "func(1, c=3, b=2)    "
   ]
  },
  {
   "cell_type": "code",
   "execution_count": 35,
   "metadata": {},
   "outputs": [
    {
     "name": "stdout",
     "output_type": "stream",
     "text": [
      "1 (2, 3)\n"
     ]
    }
   ],
   "source": [
    "# Quiz3\n",
    "def func(a, *pargs):\n",
    "    print(a, pargs)\n",
    "\n",
    "func(1, 2, 3)    "
   ]
  },
  {
   "cell_type": "code",
   "execution_count": 36,
   "metadata": {},
   "outputs": [
    {
     "name": "stdout",
     "output_type": "stream",
     "text": [
      "1 {'c': 3, 'b': 2}\n"
     ]
    }
   ],
   "source": [
    "# Quiz4\n",
    "def func(a, **kargs):\n",
    "    print(a, kargs)\n",
    "\n",
    "func(a=1, c=3, b=2)    "
   ]
  },
  {
   "cell_type": "code",
   "execution_count": 37,
   "metadata": {},
   "outputs": [
    {
     "name": "stdout",
     "output_type": "stream",
     "text": [
      "1 5 6 4\n"
     ]
    }
   ],
   "source": [
    "# Quiz5\n",
    "def func(a, b, c=3, d=4): print(a, b, c, d)\n",
    "\n",
    "func(1, *(5, 6))    "
   ]
  },
  {
   "cell_type": "code",
   "execution_count": 48,
   "metadata": {},
   "outputs": [
    {
     "data": {
      "text/plain": [
       "(1, ['x'], {'a': 'y'})"
      ]
     },
     "execution_count": 48,
     "metadata": {},
     "output_type": "execute_result"
    }
   ],
   "source": [
    "# Quiz6\n",
    "# 첫 번째 할당은 호출자에게 영향을 주지 않지만\n",
    "# 그 다음 두 할당은 전달된 가변 객체를 직접 변경하기 때문에 호출자에게 영향을 준다\n",
    "def func(a, b, c): \n",
    "    a = 2\n",
    "    b[0] = 'x'\n",
    "    c['a'] = 'y'\n",
    "\n",
    "l = 1; m = [1]; n={'a':0}\n",
    "func(l, m, n)\n",
    "l, m, n"
   ]
  },
  {
   "cell_type": "code",
   "execution_count": null,
   "metadata": {},
   "outputs": [],
   "source": []
  }
 ],
 "metadata": {
  "kernelspec": {
   "display_name": "Python 3",
   "language": "python",
   "name": "python3"
  },
  "language_info": {
   "codemirror_mode": {
    "name": "ipython",
    "version": 3
   },
   "file_extension": ".py",
   "mimetype": "text/x-python",
   "name": "python",
   "nbconvert_exporter": "python",
   "pygments_lexer": "ipython3",
   "version": "3.6.1"
  }
 },
 "nbformat": 4,
 "nbformat_minor": 2
}
